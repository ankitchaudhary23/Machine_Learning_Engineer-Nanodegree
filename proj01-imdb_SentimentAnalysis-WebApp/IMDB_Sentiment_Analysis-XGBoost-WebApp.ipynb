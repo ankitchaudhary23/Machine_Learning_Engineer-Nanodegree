{
 "cells": [
  {
   "cell_type": "markdown",
   "metadata": {},
   "source": [
    "# Sentiment Analysis Web App\n",
    "\n",
    "_Deep Learning Nanodegree Program | Deployment_\n",
    "\n",
    "---\n",
    "\n",
    "In this notebook we will use Amazon's SageMaker service to construct a random tree model to predict the sentiment of a movie review. In addition, we will deploy this model to an endpoint and construct a very simple web app which will interact with our model's deployed endpoint.\n",
    "\n",
    "## General Outline\n",
    "\n",
    "Typically, when using a notebook instance with SageMaker, you will proceed through the following steps. Of course, not every step will need to be done with each project. Also, there is quite a lot of room for variation in many of the steps, as you will see throughout these lessons.\n",
    "\n",
    "1. Download or otherwise retrieve the data.\n",
    "2. Process / Prepare the data.\n",
    "3. Upload the processed data to S3.\n",
    "4. Train a chosen model.\n",
    "5. Test the trained model (typically using a batch transform job).\n",
    "6. Deploy the trained model.\n",
    "7. Use the deployed model.\n",
    "\n",
    "In this notebook we will progress through each of the steps above. We will also see that the final step, using the deployed model, can be quite challenging."
   ]
  },
  {
   "cell_type": "markdown",
   "metadata": {},
   "source": [
    "## Step 1: Downloading the data\n",
    "\n",
    "The dataset we are going to use is very popular among researchers in Natural Language Processing, usually referred to as the [IMDb dataset](http://ai.stanford.edu/~amaas/data/sentiment/). It consists of movie reviews from the website [imdb.com](http://www.imdb.com/), each labeled as either '**pos**itive', if the reviewer enjoyed the film, or '**neg**ative' otherwise.\n",
    "\n",
    "> Maas, Andrew L., et al. [Learning Word Vectors for Sentiment Analysis](http://ai.stanford.edu/~amaas/data/sentiment/). In _Proceedings of the 49th Annual Meeting of the Association for Computational Linguistics: Human Language Technologies_. Association for Computational Linguistics, 2011.\n",
    "\n",
    "We begin by using some Jupyter Notebook magic to download and extract the dataset."
   ]
  },
  {
   "cell_type": "code",
   "execution_count": 1,
   "metadata": {},
   "outputs": [
    {
     "name": "stdout",
     "output_type": "stream",
     "text": [
      "--2020-04-14 21:21:21--  http://ai.stanford.edu/~amaas/data/sentiment/aclImdb_v1.tar.gz\n",
      "Resolving ai.stanford.edu (ai.stanford.edu)... 171.64.68.10\n",
      "Connecting to ai.stanford.edu (ai.stanford.edu)|171.64.68.10|:80... connected.\n",
      "HTTP request sent, awaiting response... 200 OK\n",
      "Length: 84125825 (80M) [application/x-gzip]\n",
      "Saving to: ‘../data/aclImdb_v1.tar.gz’\n",
      "\n",
      "../data/aclImdb_v1. 100%[===================>]  80.23M  22.8MB/s    in 4.8s    \n",
      "\n",
      "2020-04-14 21:21:26 (16.7 MB/s) - ‘../data/aclImdb_v1.tar.gz’ saved [84125825/84125825]\n",
      "\n"
     ]
    }
   ],
   "source": [
    "%mkdir ../data\n",
    "!wget -O ../data/aclImdb_v1.tar.gz http://ai.stanford.edu/~amaas/data/sentiment/aclImdb_v1.tar.gz\n",
    "!tar -zxf ../data/aclImdb_v1.tar.gz -C ../data"
   ]
  },
  {
   "cell_type": "markdown",
   "metadata": {},
   "source": [
    "## Step 2: Preparing and Processing the data\n",
    "\n",
    "The data we have downloaded is split into various files, each of which contains a single review. It will be much easier going forward if we combine these individual files into two large files, one for training and one for testing."
   ]
  },
  {
   "cell_type": "code",
   "execution_count": 2,
   "metadata": {},
   "outputs": [],
   "source": [
    "import os\n",
    "import glob\n",
    "\n",
    "def read_imdb_data(data_dir='../data/aclImdb'):\n",
    "    data = {}\n",
    "    labels = {}\n",
    "    \n",
    "    for data_type in ['train', 'test']:\n",
    "        data[data_type] = {}\n",
    "        labels[data_type] = {}\n",
    "        \n",
    "        for sentiment in ['pos', 'neg']:\n",
    "            data[data_type][sentiment] = []\n",
    "            labels[data_type][sentiment] = []\n",
    "            \n",
    "            path = os.path.join(data_dir, data_type, sentiment, '*.txt')\n",
    "            files = glob.glob(path)\n",
    "            \n",
    "            for f in files:\n",
    "                with open(f) as review:\n",
    "                    data[data_type][sentiment].append(review.read())\n",
    "                    # Here we represent a positive review by '1' and a negative review by '0'\n",
    "                    labels[data_type][sentiment].append(1 if sentiment == 'pos' else 0)\n",
    "                    \n",
    "            assert len(data[data_type][sentiment]) == len(labels[data_type][sentiment]), \\\n",
    "                    \"{}/{} data size does not match labels size\".format(data_type, sentiment)\n",
    "                \n",
    "    return data, labels"
   ]
  },
  {
   "cell_type": "code",
   "execution_count": 3,
   "metadata": {},
   "outputs": [
    {
     "name": "stdout",
     "output_type": "stream",
     "text": [
      "IMDB reviews: train = 12500 pos / 12500 neg, test = 12500 pos / 12500 neg\n"
     ]
    }
   ],
   "source": [
    "data, labels = read_imdb_data()\n",
    "print(\"IMDB reviews: train = {} pos / {} neg, test = {} pos / {} neg\".format(\n",
    "            len(data['train']['pos']), len(data['train']['neg']),\n",
    "            len(data['test']['pos']), len(data['test']['neg'])))"
   ]
  },
  {
   "cell_type": "code",
   "execution_count": 4,
   "metadata": {},
   "outputs": [],
   "source": [
    "from sklearn.utils import shuffle\n",
    "\n",
    "def prepare_imdb_data(data, labels):\n",
    "    \"\"\"Prepare training and test sets from IMDb movie reviews.\"\"\"\n",
    "    \n",
    "    #Combine positive and negative reviews and labels\n",
    "    data_train = data['train']['pos'] + data['train']['neg']\n",
    "    data_test = data['test']['pos'] + data['test']['neg']\n",
    "    labels_train = labels['train']['pos'] + labels['train']['neg']\n",
    "    labels_test = labels['test']['pos'] + labels['test']['neg']\n",
    "    \n",
    "    #Shuffle reviews and corresponding labels within training and test sets\n",
    "    data_train, labels_train = shuffle(data_train, labels_train)\n",
    "    data_test, labels_test = shuffle(data_test, labels_test)\n",
    "    \n",
    "    # Return a unified training data, test data, training labels, test labets\n",
    "    return data_train, data_test, labels_train, labels_test"
   ]
  },
  {
   "cell_type": "code",
   "execution_count": 5,
   "metadata": {},
   "outputs": [
    {
     "name": "stdout",
     "output_type": "stream",
     "text": [
      "IMDb reviews (combined): train = 25000, test = 25000\n"
     ]
    }
   ],
   "source": [
    "train_X, test_X, train_y, test_y = prepare_imdb_data(data, labels)\n",
    "print(\"IMDb reviews (combined): train = {}, test = {}\".format(len(train_X), len(test_X)))"
   ]
  },
  {
   "cell_type": "code",
   "execution_count": 6,
   "metadata": {},
   "outputs": [
    {
     "data": {
      "text/plain": [
       "'I dislike this movie a lot. If you\\'ve read the Puzo\\'s books, or at least have watched very closely the two first movies (specially the first one), you\\'re going to agree with me.<br /><br />Compared with the Corleone\\'s saga presented by Puzo\\'s novel, the script of this film is, sometimes, even ridiculous. The characters and the relationships among them are distorted. The story ends up reaching nowhere, although it appears to go to some direction during the movie.<br /><br />It is understandable that different times should be expected for the Corleone\\'s saga in the 90\\'s, and that we would not gonna find things the way they were before. But, in the other hand, I don\\'t know why they had to copy some dialogues from the other movies, in contexts when they didn\\'t fit. Why this? It sounds like those poorly made sequels that just try to copy the original film\\'s qualities.<br /><br />What will never be understandable is the fact that Mario Puzo, Coppola and Al Pacino joined together to make this. A man who directed pieces like Apocalypse Now and Godfather has to be forgiven for almost anything he does in cinema until he dies. So does Al Pacino, for being the actor he is. But Mario Puzo shouldn\\'t have written this. How come? He damaged all his previous work. What a shame, my friend. The Puzo\\'s novel \"The Last Don\" is a 90\\'s story about the mob, and it is great. We can never tell the same about the plot for the Godfather III.'"
      ]
     },
     "execution_count": 6,
     "metadata": {},
     "output_type": "execute_result"
    }
   ],
   "source": [
    "train_X[100]"
   ]
  },
  {
   "cell_type": "markdown",
   "metadata": {},
   "source": [
    "## Processing the data\n",
    "\n",
    "Now that we have our training and testing datasets merged and ready to use, we need to start processing the raw data into something that will be useable by our machine learning algorithm. To begin with, we remove any html formatting and any non-alpha numeric characters that may appear in the reviews. We will do this in a very simplistic way using Python's regular expression module. We will discuss the reason for this rather simplistic pre-processing later on."
   ]
  },
  {
   "cell_type": "code",
   "execution_count": 7,
   "metadata": {},
   "outputs": [],
   "source": [
    "import re\n",
    "\n",
    "REPLACE_NO_SPACE = re.compile(\"(\\.)|(\\;)|(\\:)|(\\!)|(\\')|(\\?)|(\\,)|(\\\")|(\\()|(\\))|(\\[)|(\\])\")\n",
    "REPLACE_WITH_SPACE = re.compile(\"(<br\\s*/><br\\s*/>)|(\\-)|(\\/)\")\n",
    "\n",
    "def review_to_words(review):\n",
    "    words = REPLACE_NO_SPACE.sub(\"\", review.lower())\n",
    "    words = REPLACE_WITH_SPACE.sub(\" \", words)\n",
    "    return words"
   ]
  },
  {
   "cell_type": "code",
   "execution_count": 8,
   "metadata": {},
   "outputs": [
    {
     "data": {
      "text/plain": [
       "'i dislike this movie a lot if youve read the puzos books or at least have watched very closely the two first movies specially the first one youre going to agree with me compared with the corleones saga presented by puzos novel the script of this film is sometimes even ridiculous the characters and the relationships among them are distorted the story ends up reaching nowhere although it appears to go to some direction during the movie it is understandable that different times should be expected for the corleones saga in the 90s and that we would not gonna find things the way they were before but in the other hand i dont know why they had to copy some dialogues from the other movies in contexts when they didnt fit why this it sounds like those poorly made sequels that just try to copy the original films qualities what will never be understandable is the fact that mario puzo coppola and al pacino joined together to make this a man who directed pieces like apocalypse now and godfather has to be forgiven for almost anything he does in cinema until he dies so does al pacino for being the actor he is but mario puzo shouldnt have written this how come he damaged all his previous work what a shame my friend the puzos novel the last don is a 90s story about the mob and it is great we can never tell the same about the plot for the godfather iii'"
      ]
     },
     "execution_count": 8,
     "metadata": {},
     "output_type": "execute_result"
    }
   ],
   "source": [
    "review_to_words(train_X[100])"
   ]
  },
  {
   "cell_type": "code",
   "execution_count": 9,
   "metadata": {},
   "outputs": [],
   "source": [
    "import pickle\n",
    "\n",
    "cache_dir = os.path.join(\"../cache\", \"sentiment_web_app\")  # where to store cache files\n",
    "os.makedirs(cache_dir, exist_ok=True)  # ensure cache directory exists\n",
    "\n",
    "def preprocess_data(data_train, data_test, labels_train, labels_test,\n",
    "                    cache_dir=cache_dir, cache_file=\"preprocessed_data.pkl\"):\n",
    "    \"\"\"Convert each review to words; read from cache if available.\"\"\"\n",
    "\n",
    "    # If cache_file is not None, try to read from it first\n",
    "    cache_data = None\n",
    "    if cache_file is not None:\n",
    "        try:\n",
    "            with open(os.path.join(cache_dir, cache_file), \"rb\") as f:\n",
    "                cache_data = pickle.load(f)\n",
    "            print(\"Read preprocessed data from cache file:\", cache_file)\n",
    "        except:\n",
    "            pass  # unable to read from cache, but that's okay\n",
    "    \n",
    "    # If cache is missing, then do the heavy lifting\n",
    "    if cache_data is None:\n",
    "        # Preprocess training and test data to obtain words for each review\n",
    "        #words_train = list(map(review_to_words, data_train))\n",
    "        #words_test = list(map(review_to_words, data_test))\n",
    "        words_train = [review_to_words(review) for review in data_train]\n",
    "        words_test = [review_to_words(review) for review in data_test]\n",
    "        \n",
    "        # Write to cache file for future runs\n",
    "        if cache_file is not None:\n",
    "            cache_data = dict(words_train=words_train, words_test=words_test,\n",
    "                              labels_train=labels_train, labels_test=labels_test)\n",
    "            with open(os.path.join(cache_dir, cache_file), \"wb\") as f:\n",
    "                pickle.dump(cache_data, f)\n",
    "            print(\"Wrote preprocessed data to cache file:\", cache_file)\n",
    "    else:\n",
    "        # Unpack data loaded from cache file\n",
    "        words_train, words_test, labels_train, labels_test = (cache_data['words_train'],\n",
    "                cache_data['words_test'], cache_data['labels_train'], cache_data['labels_test'])\n",
    "    \n",
    "    return words_train, words_test, labels_train, labels_test"
   ]
  },
  {
   "cell_type": "code",
   "execution_count": 10,
   "metadata": {},
   "outputs": [
    {
     "name": "stdout",
     "output_type": "stream",
     "text": [
      "Wrote preprocessed data to cache file: preprocessed_data.pkl\n"
     ]
    }
   ],
   "source": [
    "# Preprocess data\n",
    "train_X, test_X, train_y, test_y = preprocess_data(train_X, test_X, train_y, test_y)"
   ]
  },
  {
   "cell_type": "markdown",
   "metadata": {},
   "source": [
    "### Extract Bag-of-Words features\n",
    "\n",
    "For the model we will be implementing, rather than using the reviews directly, we are going to transform each review into a Bag-of-Words feature representation. Keep in mind that 'in the wild' we will only have access to the training set so our transformer can only use the training set to construct a representation."
   ]
  },
  {
   "cell_type": "code",
   "execution_count": 11,
   "metadata": {},
   "outputs": [],
   "source": [
    "import numpy as np\n",
    "from sklearn.feature_extraction.text import CountVectorizer\n",
    "from sklearn.externals import joblib\n",
    "# joblib is an enhanced version of pickle that is more efficient for storing NumPy arrays\n",
    "\n",
    "def extract_BoW_features(words_train, words_test, vocabulary_size=5000,\n",
    "                         cache_dir=cache_dir, cache_file=\"bow_features.pkl\"):\n",
    "    \"\"\"Extract Bag-of-Words for a given set of documents, already preprocessed into words.\"\"\"\n",
    "    \n",
    "    # If cache_file is not None, try to read from it first\n",
    "    cache_data = None\n",
    "    if cache_file is not None:\n",
    "        try:\n",
    "            with open(os.path.join(cache_dir, cache_file), \"rb\") as f:\n",
    "                cache_data = joblib.load(f)\n",
    "            print(\"Read features from cache file:\", cache_file)\n",
    "        except:\n",
    "            pass  # unable to read from cache, but that's okay\n",
    "    \n",
    "    # If cache is missing, then do the heavy lifting\n",
    "    if cache_data is None:\n",
    "        # Fit a vectorizer to training documents and use it to transform them\n",
    "        # NOTE: Training documents have already been preprocessed and tokenized into words;\n",
    "        #       pass in dummy functions to skip those steps, e.g. preprocessor=lambda x: x\n",
    "        vectorizer = CountVectorizer(max_features=vocabulary_size)\n",
    "        features_train = vectorizer.fit_transform(words_train).toarray()\n",
    "\n",
    "        # Apply the same vectorizer to transform the test documents (ignore unknown words)\n",
    "        features_test = vectorizer.transform(words_test).toarray()\n",
    "        \n",
    "        # NOTE: Remember to convert the features using .toarray() for a compact representation\n",
    "        \n",
    "        # Write to cache file for future runs (store vocabulary as well)\n",
    "        if cache_file is not None:\n",
    "            vocabulary = vectorizer.vocabulary_\n",
    "            cache_data = dict(features_train=features_train, features_test=features_test,\n",
    "                             vocabulary=vocabulary)\n",
    "            with open(os.path.join(cache_dir, cache_file), \"wb\") as f:\n",
    "                joblib.dump(cache_data, f)\n",
    "            print(\"Wrote features to cache file:\", cache_file)\n",
    "    else:\n",
    "        # Unpack data loaded from cache file\n",
    "        features_train, features_test, vocabulary = (cache_data['features_train'],\n",
    "                cache_data['features_test'], cache_data['vocabulary'])\n",
    "    \n",
    "    # Return both the extracted features as well as the vocabulary\n",
    "    return features_train, features_test, vocabulary"
   ]
  },
  {
   "cell_type": "code",
   "execution_count": 12,
   "metadata": {},
   "outputs": [
    {
     "name": "stdout",
     "output_type": "stream",
     "text": [
      "Wrote features to cache file: bow_features.pkl\n"
     ]
    }
   ],
   "source": [
    "# Extract Bag of Words features for both training and test datasets\n",
    "train_X, test_X, vocabulary = extract_BoW_features(train_X, test_X)"
   ]
  },
  {
   "cell_type": "code",
   "execution_count": 13,
   "metadata": {},
   "outputs": [
    {
     "data": {
      "text/plain": [
       "5000"
      ]
     },
     "execution_count": 13,
     "metadata": {},
     "output_type": "execute_result"
    }
   ],
   "source": [
    "len(train_X[100])"
   ]
  },
  {
   "cell_type": "markdown",
   "metadata": {},
   "source": [
    "## Step 3: Upload data to S3\n",
    "\n",
    "Now that we have created the feature representation of our training (and testing) data, it is time to start setting up and using the XGBoost classifier provided by SageMaker.\n",
    "\n",
    "### Writing the datasets\n",
    "\n",
    "The XGBoost classifier that we will be using requires the dataset to be written to a file and stored using Amazon S3. To do this, we will start by splitting the training dataset into two parts, the data we will train the model with and a validation set. Then, we will write those datasets to a file locally and then upload the files to S3. In addition, we will write the test set to a file and upload that file to S3. This is so that we can use SageMakers Batch Transform functionality to test our model once we've fit it."
   ]
  },
  {
   "cell_type": "code",
   "execution_count": 14,
   "metadata": {},
   "outputs": [],
   "source": [
    "import pandas as pd\n",
    "\n",
    "# Earlier we shuffled the training dataset so to make things simple we can just assign\n",
    "# the first 10 000 reviews to the validation set and use the remaining reviews for training.\n",
    "val_X = pd.DataFrame(train_X[:10000])\n",
    "train_X = pd.DataFrame(train_X[10000:])\n",
    "\n",
    "val_y = pd.DataFrame(train_y[:10000])\n",
    "train_y = pd.DataFrame(train_y[10000:])"
   ]
  },
  {
   "cell_type": "markdown",
   "metadata": {},
   "source": [
    "The documentation for the XGBoost algorithm in SageMaker requires that the training and validation datasets should contain no headers or index and that the label should occur first for each sample.\n",
    "\n",
    "For more information about this and other algorithms, the SageMaker developer documentation can be found on __[Amazon's website.](https://docs.aws.amazon.com/sagemaker/latest/dg/)__"
   ]
  },
  {
   "cell_type": "code",
   "execution_count": 15,
   "metadata": {},
   "outputs": [],
   "source": [
    "# First we make sure that the local directory in which we'd like to store the training and validation csv files exists.\n",
    "data_dir = '../data/sentiment_web_app'\n",
    "if not os.path.exists(data_dir):\n",
    "    os.makedirs(data_dir)"
   ]
  },
  {
   "cell_type": "code",
   "execution_count": 16,
   "metadata": {},
   "outputs": [],
   "source": [
    "pd.DataFrame(test_X).to_csv(os.path.join(data_dir, 'test.csv'), header=False, index=False)\n",
    "\n",
    "pd.concat([val_y, val_X], axis=1).to_csv(os.path.join(data_dir, 'validation.csv'), header=False, index=False)\n",
    "pd.concat([train_y, train_X], axis=1).to_csv(os.path.join(data_dir, 'train.csv'), header=False, index=False)"
   ]
  },
  {
   "cell_type": "code",
   "execution_count": 17,
   "metadata": {},
   "outputs": [],
   "source": [
    "# To save a bit of memory we can set text_X, train_X, val_X, train_y and val_y to None.\n",
    "\n",
    "test_X = train_X = val_X = train_y = val_y = None"
   ]
  },
  {
   "cell_type": "markdown",
   "metadata": {},
   "source": [
    "### Uploading Training / Validation files to S3\n",
    "\n",
    "Amazon's S3 service allows us to store files that can be accessed by both the built-in training models such as the XGBoost model we will be using as well as custom models such as the one we will see a little later.\n",
    "\n",
    "For this and most other tasks we will be doing using SageMaker, there are two methods we could use. The first is to use the low level functionality of SageMaker which requires knowing each of the objects involved in the SageMaker environment. The second is to use the high level functionality in which certain choices have been made on the user's behalf. The low level approach benefits from allowing the user a great deal of flexibility while the high level approach makes development much quicker. For our purposes we will opt to use the high level approach although using the low-level approach is certainly an option.\n",
    "\n",
    "Recall the method `upload_data()` which is a member of the object representing our current SageMaker session. What this method does is upload the data to the default bucket (which is created if it does not exist) into the path described by the key_prefix variable. To see this for yourself, once you have uploaded the data files, go to the S3 console and look to see where the files have been uploaded.\n",
    "\n",
    "For additional resources, see the __[SageMaker API documentation](http://sagemaker.readthedocs.io/en/latest/)__ and in addition the __[SageMaker Developer Guide.](https://docs.aws.amazon.com/sagemaker/latest/dg/)__"
   ]
  },
  {
   "cell_type": "code",
   "execution_count": 18,
   "metadata": {},
   "outputs": [],
   "source": [
    "import sagemaker\n",
    "\n",
    "session = sagemaker.Session() # Store the current SageMaker session\n",
    "\n",
    "# S3 prefix (which folder will we use)\n",
    "prefix = 'sentiment-web-app'\n",
    "\n",
    "test_location = session.upload_data(os.path.join(data_dir, 'test.csv'), key_prefix=prefix)\n",
    "val_location = session.upload_data(os.path.join(data_dir, 'validation.csv'), key_prefix=prefix)\n",
    "train_location = session.upload_data(os.path.join(data_dir, 'train.csv'), key_prefix=prefix)"
   ]
  },
  {
   "cell_type": "markdown",
   "metadata": {},
   "source": [
    "## Step 4: Creating the XGBoost model\n",
    "\n",
    "Now that the data has been uploaded it is time to create the XGBoost model. To begin with, we need to do some setup. At this point it is worth discussing what a model is in SageMaker. It is easiest to think of a model of comprising three different objects in the SageMaker ecosystem, which interact with one another.\n",
    "\n",
    "- Model Artifacts\n",
    "- Training Code (Container)\n",
    "- Inference Code (Container)\n",
    "\n",
    "The Model Artifacts are what you might think of as the actual model itself. For example, if you were building a neural network, the model artifacts would be the weights of the various layers. In our case, for an XGBoost model, the artifacts are the actual trees that are created during training.\n",
    "\n",
    "The other two objects, the training code and the inference code are then used to manipulate the training artifacts. More precisely, the training code uses the training data that is provided and creates the model artifacts, while the inference code uses the model artifacts to make predictions on new data.\n",
    "\n",
    "The way that SageMaker runs the training and inference code is by making use of Docker containers. For now, think of a container as being a way of packaging code up so that dependencies aren't an issue."
   ]
  },
  {
   "cell_type": "code",
   "execution_count": 19,
   "metadata": {},
   "outputs": [],
   "source": [
    "from sagemaker import get_execution_role\n",
    "\n",
    "# Our current execution role is required when creating the model as the training\n",
    "# and inference code will need to access the model artifacts.\n",
    "role = get_execution_role()"
   ]
  },
  {
   "cell_type": "code",
   "execution_count": 20,
   "metadata": {},
   "outputs": [
    {
     "name": "stderr",
     "output_type": "stream",
     "text": [
      "WARNING:root:There is a more up to date SageMaker XGBoost image. To use the newer image, please set 'repo_version'='0.90-1'. For example:\n",
      "\tget_image_uri(region, 'xgboost', '0.90-1').\n"
     ]
    }
   ],
   "source": [
    "# We need to retrieve the location of the container which is provided by Amazon for using XGBoost.\n",
    "# As a matter of convenience, the training and inference code both use the same container.\n",
    "from sagemaker.amazon.amazon_estimator import get_image_uri\n",
    "\n",
    "container = get_image_uri(session.boto_region_name, 'xgboost')"
   ]
  },
  {
   "cell_type": "code",
   "execution_count": 21,
   "metadata": {},
   "outputs": [],
   "source": [
    "# First we create a SageMaker estimator object for our model.\n",
    "xgb = sagemaker.estimator.Estimator(container, # The location of the container we wish to use\n",
    "                                    role,                                    # What is our current IAM Role\n",
    "                                    train_instance_count=1,                  # How many compute instances\n",
    "                                    train_instance_type='ml.m4.xlarge',      # What kind of compute instances\n",
    "                                    output_path='s3://{}/{}/output'.format(session.default_bucket(), prefix),\n",
    "                                    sagemaker_session=session)\n",
    "\n",
    "# And then set the algorithm specific parameters.\n",
    "xgb.set_hyperparameters(max_depth=5,\n",
    "                        eta=0.2,\n",
    "                        gamma=4,\n",
    "                        min_child_weight=6,\n",
    "                        subsample=0.8,\n",
    "                        silent=0,\n",
    "                        objective='binary:logistic',\n",
    "                        early_stopping_rounds=10,\n",
    "                        num_round=500)"
   ]
  },
  {
   "cell_type": "markdown",
   "metadata": {},
   "source": [
    "### Fit the XGBoost model\n",
    "\n",
    "Now that our model has been set up we simply need to attach the training and validation datasets and then ask SageMaker to set up the computation."
   ]
  },
  {
   "cell_type": "code",
   "execution_count": 22,
   "metadata": {},
   "outputs": [],
   "source": [
    "s3_input_train = sagemaker.s3_input(s3_data=train_location, content_type='csv')\n",
    "s3_input_validation = sagemaker.s3_input(s3_data=val_location, content_type='csv')"
   ]
  },
  {
   "cell_type": "code",
   "execution_count": 23,
   "metadata": {},
   "outputs": [
    {
     "name": "stdout",
     "output_type": "stream",
     "text": [
      "2020-04-14 21:32:45 Starting - Starting the training job...\n",
      "2020-04-14 21:32:46 Starting - Launching requested ML instances...\n",
      "2020-04-14 21:33:45 Starting - Preparing the instances for training......\n",
      "2020-04-14 21:34:39 Downloading - Downloading input data...\n",
      "2020-04-14 21:35:03 Training - Downloading the training image..\u001b[34mArguments: train\u001b[0m\n",
      "\u001b[34m[2020-04-14:21:35:24:INFO] Running standalone xgboost training.\u001b[0m\n",
      "\u001b[34m[2020-04-14:21:35:24:INFO] File size need to be processed in the node: 238.5mb. Available memory size in the node: 8495.79mb\u001b[0m\n",
      "\u001b[34m[2020-04-14:21:35:24:INFO] Determined delimiter of CSV input is ','\u001b[0m\n",
      "\u001b[34m[21:35:24] S3DistributionType set as FullyReplicated\u001b[0m\n",
      "\u001b[34m[21:35:25] 15000x5000 matrix with 75000000 entries loaded from /opt/ml/input/data/train?format=csv&label_column=0&delimiter=,\u001b[0m\n",
      "\u001b[34m[2020-04-14:21:35:25:INFO] Determined delimiter of CSV input is ','\u001b[0m\n",
      "\u001b[34m[21:35:25] S3DistributionType set as FullyReplicated\u001b[0m\n",
      "\u001b[34m[21:35:27] 10000x5000 matrix with 50000000 entries loaded from /opt/ml/input/data/validation?format=csv&label_column=0&delimiter=,\u001b[0m\n",
      "\u001b[34m[21:35:30] src/tree/updater_prune.cc:74: tree pruning end, 1 roots, 46 extra nodes, 8 pruned nodes, max_depth=5\u001b[0m\n",
      "\u001b[34m[0]#011train-error:0.304267#011validation-error:0.3083\u001b[0m\n",
      "\u001b[34mMultiple eval metrics have been passed: 'validation-error' will be used for early stopping.\n",
      "\u001b[0m\n",
      "\u001b[34mWill train until validation-error hasn't improved in 10 rounds.\u001b[0m\n",
      "\u001b[34m[21:35:31] src/tree/updater_prune.cc:74: tree pruning end, 1 roots, 42 extra nodes, 6 pruned nodes, max_depth=5\u001b[0m\n",
      "\u001b[34m[1]#011train-error:0.2876#011validation-error:0.2962\u001b[0m\n",
      "\u001b[34m[21:35:33] src/tree/updater_prune.cc:74: tree pruning end, 1 roots, 46 extra nodes, 4 pruned nodes, max_depth=5\u001b[0m\n",
      "\u001b[34m[2]#011train-error:0.276867#011validation-error:0.2891\u001b[0m\n",
      "\u001b[34m[21:35:34] src/tree/updater_prune.cc:74: tree pruning end, 1 roots, 42 extra nodes, 10 pruned nodes, max_depth=5\u001b[0m\n",
      "\u001b[34m[3]#011train-error:0.266933#011validation-error:0.2807\u001b[0m\n",
      "\n",
      "2020-04-14 21:35:31 Training - Training image download completed. Training in progress.\u001b[34m[21:35:36] src/tree/updater_prune.cc:74: tree pruning end, 1 roots, 36 extra nodes, 8 pruned nodes, max_depth=5\u001b[0m\n",
      "\u001b[34m[4]#011train-error:0.2604#011validation-error:0.2744\u001b[0m\n",
      "\u001b[34m[21:35:37] src/tree/updater_prune.cc:74: tree pruning end, 1 roots, 34 extra nodes, 2 pruned nodes, max_depth=5\u001b[0m\n",
      "\u001b[34m[5]#011train-error:0.2518#011validation-error:0.265\u001b[0m\n",
      "\u001b[34m[21:35:38] src/tree/updater_prune.cc:74: tree pruning end, 1 roots, 28 extra nodes, 8 pruned nodes, max_depth=5\u001b[0m\n",
      "\u001b[34m[6]#011train-error:0.246733#011validation-error:0.2592\u001b[0m\n",
      "\u001b[34m[21:35:40] src/tree/updater_prune.cc:74: tree pruning end, 1 roots, 40 extra nodes, 6 pruned nodes, max_depth=5\u001b[0m\n",
      "\u001b[34m[7]#011train-error:0.2398#011validation-error:0.2535\u001b[0m\n",
      "\u001b[34m[21:35:41] src/tree/updater_prune.cc:74: tree pruning end, 1 roots, 24 extra nodes, 6 pruned nodes, max_depth=5\u001b[0m\n",
      "\u001b[34m[8]#011train-error:0.2322#011validation-error:0.2458\u001b[0m\n",
      "\u001b[34m[21:35:42] src/tree/updater_prune.cc:74: tree pruning end, 1 roots, 32 extra nodes, 8 pruned nodes, max_depth=5\u001b[0m\n",
      "\u001b[34m[9]#011train-error:0.228133#011validation-error:0.246\u001b[0m\n",
      "\u001b[34m[21:35:43] src/tree/updater_prune.cc:74: tree pruning end, 1 roots, 32 extra nodes, 4 pruned nodes, max_depth=5\u001b[0m\n",
      "\u001b[34m[10]#011train-error:0.2238#011validation-error:0.2409\u001b[0m\n",
      "\u001b[34m[21:35:45] src/tree/updater_prune.cc:74: tree pruning end, 1 roots, 28 extra nodes, 10 pruned nodes, max_depth=5\u001b[0m\n",
      "\u001b[34m[11]#011train-error:0.218467#011validation-error:0.2359\u001b[0m\n",
      "\u001b[34m[21:35:46] src/tree/updater_prune.cc:74: tree pruning end, 1 roots, 38 extra nodes, 12 pruned nodes, max_depth=5\u001b[0m\n",
      "\u001b[34m[12]#011train-error:0.2146#011validation-error:0.234\u001b[0m\n",
      "\u001b[34m[21:35:47] src/tree/updater_prune.cc:74: tree pruning end, 1 roots, 40 extra nodes, 4 pruned nodes, max_depth=5\u001b[0m\n",
      "\u001b[34m[13]#011train-error:0.2094#011validation-error:0.2301\u001b[0m\n",
      "\u001b[34m[21:35:49] src/tree/updater_prune.cc:74: tree pruning end, 1 roots, 34 extra nodes, 2 pruned nodes, max_depth=5\u001b[0m\n",
      "\u001b[34m[14]#011train-error:0.2074#011validation-error:0.2267\u001b[0m\n",
      "\u001b[34m[21:35:50] src/tree/updater_prune.cc:74: tree pruning end, 1 roots, 28 extra nodes, 8 pruned nodes, max_depth=5\u001b[0m\n",
      "\u001b[34m[15]#011train-error:0.2028#011validation-error:0.2246\u001b[0m\n",
      "\u001b[34m[21:35:51] src/tree/updater_prune.cc:74: tree pruning end, 1 roots, 36 extra nodes, 4 pruned nodes, max_depth=5\u001b[0m\n",
      "\u001b[34m[16]#011train-error:0.200133#011validation-error:0.2215\u001b[0m\n",
      "\u001b[34m[21:35:52] src/tree/updater_prune.cc:74: tree pruning end, 1 roots, 24 extra nodes, 8 pruned nodes, max_depth=5\u001b[0m\n",
      "\u001b[34m[17]#011train-error:0.196333#011validation-error:0.2193\u001b[0m\n",
      "\u001b[34m[21:35:54] src/tree/updater_prune.cc:74: tree pruning end, 1 roots, 26 extra nodes, 10 pruned nodes, max_depth=5\u001b[0m\n",
      "\u001b[34m[18]#011train-error:0.194#011validation-error:0.2163\u001b[0m\n",
      "\u001b[34m[21:35:55] src/tree/updater_prune.cc:74: tree pruning end, 1 roots, 34 extra nodes, 6 pruned nodes, max_depth=5\u001b[0m\n",
      "\u001b[34m[19]#011train-error:0.189133#011validation-error:0.2127\u001b[0m\n",
      "\u001b[34m[21:35:56] src/tree/updater_prune.cc:74: tree pruning end, 1 roots, 20 extra nodes, 12 pruned nodes, max_depth=5\u001b[0m\n",
      "\u001b[34m[20]#011train-error:0.186267#011validation-error:0.2117\u001b[0m\n",
      "\u001b[34m[21:35:57] src/tree/updater_prune.cc:74: tree pruning end, 1 roots, 28 extra nodes, 4 pruned nodes, max_depth=5\u001b[0m\n",
      "\u001b[34m[21]#011train-error:0.182667#011validation-error:0.2101\u001b[0m\n",
      "\u001b[34m[21:35:59] src/tree/updater_prune.cc:74: tree pruning end, 1 roots, 24 extra nodes, 8 pruned nodes, max_depth=5\u001b[0m\n",
      "\u001b[34m[22]#011train-error:0.1814#011validation-error:0.2075\u001b[0m\n",
      "\u001b[34m[21:36:00] src/tree/updater_prune.cc:74: tree pruning end, 1 roots, 18 extra nodes, 6 pruned nodes, max_depth=5\u001b[0m\n",
      "\u001b[34m[23]#011train-error:0.180267#011validation-error:0.207\u001b[0m\n",
      "\u001b[34m[21:36:01] src/tree/updater_prune.cc:74: tree pruning end, 1 roots, 32 extra nodes, 10 pruned nodes, max_depth=5\u001b[0m\n",
      "\u001b[34m[24]#011train-error:0.178867#011validation-error:0.2078\u001b[0m\n",
      "\u001b[34m[21:36:03] src/tree/updater_prune.cc:74: tree pruning end, 1 roots, 16 extra nodes, 6 pruned nodes, max_depth=5\u001b[0m\n",
      "\u001b[34m[25]#011train-error:0.1774#011validation-error:0.2037\u001b[0m\n",
      "\u001b[34m[21:36:04] src/tree/updater_prune.cc:74: tree pruning end, 1 roots, 32 extra nodes, 10 pruned nodes, max_depth=5\u001b[0m\n",
      "\u001b[34m[26]#011train-error:0.175267#011validation-error:0.2021\u001b[0m\n",
      "\u001b[34m[21:36:05] src/tree/updater_prune.cc:74: tree pruning end, 1 roots, 34 extra nodes, 12 pruned nodes, max_depth=5\u001b[0m\n",
      "\u001b[34m[27]#011train-error:0.174467#011validation-error:0.1992\u001b[0m\n",
      "\u001b[34m[21:36:06] src/tree/updater_prune.cc:74: tree pruning end, 1 roots, 28 extra nodes, 6 pruned nodes, max_depth=5\u001b[0m\n",
      "\u001b[34m[28]#011train-error:0.1732#011validation-error:0.1963\u001b[0m\n",
      "\u001b[34m[21:36:08] src/tree/updater_prune.cc:74: tree pruning end, 1 roots, 28 extra nodes, 6 pruned nodes, max_depth=5\u001b[0m\n",
      "\u001b[34m[29]#011train-error:0.1698#011validation-error:0.1972\u001b[0m\n",
      "\u001b[34m[21:36:09] src/tree/updater_prune.cc:74: tree pruning end, 1 roots, 24 extra nodes, 8 pruned nodes, max_depth=5\u001b[0m\n",
      "\u001b[34m[30]#011train-error:0.168333#011validation-error:0.1938\u001b[0m\n",
      "\u001b[34m[21:36:10] src/tree/updater_prune.cc:74: tree pruning end, 1 roots, 22 extra nodes, 8 pruned nodes, max_depth=5\u001b[0m\n",
      "\u001b[34m[31]#011train-error:0.1662#011validation-error:0.1936\u001b[0m\n",
      "\u001b[34m[21:36:11] src/tree/updater_prune.cc:74: tree pruning end, 1 roots, 28 extra nodes, 12 pruned nodes, max_depth=5\u001b[0m\n",
      "\u001b[34m[32]#011train-error:0.1648#011validation-error:0.1924\u001b[0m\n",
      "\u001b[34m[21:36:13] src/tree/updater_prune.cc:74: tree pruning end, 1 roots, 18 extra nodes, 10 pruned nodes, max_depth=5\u001b[0m\n",
      "\u001b[34m[33]#011train-error:0.1628#011validation-error:0.1904\u001b[0m\n",
      "\u001b[34m[21:36:14] src/tree/updater_prune.cc:74: tree pruning end, 1 roots, 28 extra nodes, 12 pruned nodes, max_depth=5\u001b[0m\n",
      "\u001b[34m[34]#011train-error:0.161067#011validation-error:0.1896\u001b[0m\n",
      "\u001b[34m[21:36:15] src/tree/updater_prune.cc:74: tree pruning end, 1 roots, 42 extra nodes, 14 pruned nodes, max_depth=5\u001b[0m\n",
      "\u001b[34m[35]#011train-error:0.157667#011validation-error:0.188\u001b[0m\n",
      "\u001b[34m[21:36:16] src/tree/updater_prune.cc:74: tree pruning end, 1 roots, 14 extra nodes, 12 pruned nodes, max_depth=5\u001b[0m\n",
      "\u001b[34m[36]#011train-error:0.156467#011validation-error:0.1878\u001b[0m\n",
      "\u001b[34m[21:36:18] src/tree/updater_prune.cc:74: tree pruning end, 1 roots, 34 extra nodes, 10 pruned nodes, max_depth=5\u001b[0m\n",
      "\u001b[34m[37]#011train-error:0.155533#011validation-error:0.1872\u001b[0m\n",
      "\u001b[34m[21:36:19] src/tree/updater_prune.cc:74: tree pruning end, 1 roots, 24 extra nodes, 6 pruned nodes, max_depth=5\u001b[0m\n",
      "\u001b[34m[38]#011train-error:0.153933#011validation-error:0.1842\u001b[0m\n",
      "\u001b[34m[21:36:20] src/tree/updater_prune.cc:74: tree pruning end, 1 roots, 22 extra nodes, 6 pruned nodes, max_depth=5\u001b[0m\n",
      "\u001b[34m[39]#011train-error:0.152333#011validation-error:0.1835\u001b[0m\n"
     ]
    },
    {
     "name": "stdout",
     "output_type": "stream",
     "text": [
      "\u001b[34m[21:36:21] src/tree/updater_prune.cc:74: tree pruning end, 1 roots, 26 extra nodes, 8 pruned nodes, max_depth=5\u001b[0m\n",
      "\u001b[34m[40]#011train-error:0.152067#011validation-error:0.183\u001b[0m\n",
      "\u001b[34m[21:36:23] src/tree/updater_prune.cc:74: tree pruning end, 1 roots, 20 extra nodes, 16 pruned nodes, max_depth=5\u001b[0m\n",
      "\u001b[34m[41]#011train-error:0.151#011validation-error:0.1825\u001b[0m\n",
      "\u001b[34m[21:36:24] src/tree/updater_prune.cc:74: tree pruning end, 1 roots, 42 extra nodes, 6 pruned nodes, max_depth=5\u001b[0m\n",
      "\u001b[34m[42]#011train-error:0.148267#011validation-error:0.1811\u001b[0m\n",
      "\u001b[34m[21:36:25] src/tree/updater_prune.cc:74: tree pruning end, 1 roots, 24 extra nodes, 4 pruned nodes, max_depth=5\u001b[0m\n",
      "\u001b[34m[43]#011train-error:0.147333#011validation-error:0.1801\u001b[0m\n",
      "\u001b[34m[21:36:27] src/tree/updater_prune.cc:74: tree pruning end, 1 roots, 34 extra nodes, 0 pruned nodes, max_depth=5\u001b[0m\n",
      "\u001b[34m[44]#011train-error:0.146667#011validation-error:0.1795\u001b[0m\n",
      "\u001b[34m[21:36:28] src/tree/updater_prune.cc:74: tree pruning end, 1 roots, 24 extra nodes, 12 pruned nodes, max_depth=5\u001b[0m\n",
      "\u001b[34m[45]#011train-error:0.145667#011validation-error:0.178\u001b[0m\n",
      "\u001b[34m[21:36:29] src/tree/updater_prune.cc:74: tree pruning end, 1 roots, 36 extra nodes, 6 pruned nodes, max_depth=5\u001b[0m\n",
      "\u001b[34m[46]#011train-error:0.143933#011validation-error:0.1757\u001b[0m\n",
      "\u001b[34m[21:36:30] src/tree/updater_prune.cc:74: tree pruning end, 1 roots, 16 extra nodes, 14 pruned nodes, max_depth=5\u001b[0m\n",
      "\u001b[34m[47]#011train-error:0.143467#011validation-error:0.1757\u001b[0m\n",
      "\u001b[34m[21:36:32] src/tree/updater_prune.cc:74: tree pruning end, 1 roots, 24 extra nodes, 10 pruned nodes, max_depth=5\u001b[0m\n",
      "\u001b[34m[48]#011train-error:0.1434#011validation-error:0.175\u001b[0m\n",
      "\u001b[34m[21:36:33] src/tree/updater_prune.cc:74: tree pruning end, 1 roots, 18 extra nodes, 10 pruned nodes, max_depth=5\u001b[0m\n",
      "\u001b[34m[49]#011train-error:0.142133#011validation-error:0.1745\u001b[0m\n",
      "\u001b[34m[21:36:34] src/tree/updater_prune.cc:74: tree pruning end, 1 roots, 28 extra nodes, 8 pruned nodes, max_depth=5\u001b[0m\n",
      "\u001b[34m[50]#011train-error:0.139467#011validation-error:0.1752\u001b[0m\n",
      "\u001b[34m[21:36:35] src/tree/updater_prune.cc:74: tree pruning end, 1 roots, 20 extra nodes, 14 pruned nodes, max_depth=5\u001b[0m\n",
      "\u001b[34m[51]#011train-error:0.1388#011validation-error:0.1739\u001b[0m\n",
      "\u001b[34m[21:36:37] src/tree/updater_prune.cc:74: tree pruning end, 1 roots, 26 extra nodes, 8 pruned nodes, max_depth=5\u001b[0m\n",
      "\u001b[34m[52]#011train-error:0.1382#011validation-error:0.1724\u001b[0m\n",
      "\u001b[34m[21:36:38] src/tree/updater_prune.cc:74: tree pruning end, 1 roots, 30 extra nodes, 4 pruned nodes, max_depth=5\u001b[0m\n",
      "\u001b[34m[53]#011train-error:0.137333#011validation-error:0.1728\u001b[0m\n",
      "\u001b[34m[21:36:39] src/tree/updater_prune.cc:74: tree pruning end, 1 roots, 12 extra nodes, 8 pruned nodes, max_depth=5\u001b[0m\n",
      "\u001b[34m[54]#011train-error:0.1358#011validation-error:0.1718\u001b[0m\n",
      "\u001b[34m[21:36:40] src/tree/updater_prune.cc:74: tree pruning end, 1 roots, 32 extra nodes, 2 pruned nodes, max_depth=5\u001b[0m\n",
      "\u001b[34m[55]#011train-error:0.135333#011validation-error:0.1714\u001b[0m\n",
      "\u001b[34m[21:36:42] src/tree/updater_prune.cc:74: tree pruning end, 1 roots, 28 extra nodes, 8 pruned nodes, max_depth=5\u001b[0m\n",
      "\u001b[34m[56]#011train-error:0.134067#011validation-error:0.1707\u001b[0m\n",
      "\u001b[34m[21:36:43] src/tree/updater_prune.cc:74: tree pruning end, 1 roots, 22 extra nodes, 8 pruned nodes, max_depth=5\u001b[0m\n",
      "\u001b[34m[57]#011train-error:0.132467#011validation-error:0.1697\u001b[0m\n",
      "\u001b[34m[21:36:44] src/tree/updater_prune.cc:74: tree pruning end, 1 roots, 16 extra nodes, 12 pruned nodes, max_depth=5\u001b[0m\n",
      "\u001b[34m[58]#011train-error:0.1316#011validation-error:0.169\u001b[0m\n",
      "\u001b[34m[21:36:45] src/tree/updater_prune.cc:74: tree pruning end, 1 roots, 20 extra nodes, 8 pruned nodes, max_depth=5\u001b[0m\n",
      "\u001b[34m[59]#011train-error:0.129733#011validation-error:0.1695\u001b[0m\n",
      "\u001b[34m[21:36:47] src/tree/updater_prune.cc:74: tree pruning end, 1 roots, 20 extra nodes, 4 pruned nodes, max_depth=5\u001b[0m\n",
      "\u001b[34m[60]#011train-error:0.128933#011validation-error:0.1685\u001b[0m\n",
      "\u001b[34m[21:36:48] src/tree/updater_prune.cc:74: tree pruning end, 1 roots, 30 extra nodes, 8 pruned nodes, max_depth=5\u001b[0m\n",
      "\u001b[34m[61]#011train-error:0.127133#011validation-error:0.1671\u001b[0m\n",
      "\u001b[34m[21:36:49] src/tree/updater_prune.cc:74: tree pruning end, 1 roots, 20 extra nodes, 8 pruned nodes, max_depth=5\u001b[0m\n",
      "\u001b[34m[62]#011train-error:0.126267#011validation-error:0.1656\u001b[0m\n",
      "\u001b[34m[21:36:50] src/tree/updater_prune.cc:74: tree pruning end, 1 roots, 30 extra nodes, 2 pruned nodes, max_depth=5\u001b[0m\n",
      "\u001b[34m[63]#011train-error:0.125467#011validation-error:0.165\u001b[0m\n",
      "\u001b[34m[21:36:52] src/tree/updater_prune.cc:74: tree pruning end, 1 roots, 22 extra nodes, 8 pruned nodes, max_depth=5\u001b[0m\n",
      "\u001b[34m[64]#011train-error:0.124267#011validation-error:0.1643\u001b[0m\n",
      "\u001b[34m[21:36:53] src/tree/updater_prune.cc:74: tree pruning end, 1 roots, 12 extra nodes, 14 pruned nodes, max_depth=5\u001b[0m\n",
      "\u001b[34m[65]#011train-error:0.124467#011validation-error:0.1645\u001b[0m\n",
      "\u001b[34m[21:36:54] src/tree/updater_prune.cc:74: tree pruning end, 1 roots, 22 extra nodes, 8 pruned nodes, max_depth=5\u001b[0m\n",
      "\u001b[34m[66]#011train-error:0.1236#011validation-error:0.1635\u001b[0m\n",
      "\u001b[34m[21:36:55] src/tree/updater_prune.cc:74: tree pruning end, 1 roots, 26 extra nodes, 6 pruned nodes, max_depth=5\u001b[0m\n",
      "\u001b[34m[67]#011train-error:0.122533#011validation-error:0.1624\u001b[0m\n",
      "\u001b[34m[21:36:57] src/tree/updater_prune.cc:74: tree pruning end, 1 roots, 22 extra nodes, 10 pruned nodes, max_depth=5\u001b[0m\n",
      "\u001b[34m[68]#011train-error:0.122133#011validation-error:0.1627\u001b[0m\n",
      "\u001b[34m[21:36:58] src/tree/updater_prune.cc:74: tree pruning end, 1 roots, 22 extra nodes, 8 pruned nodes, max_depth=5\u001b[0m\n",
      "\u001b[34m[69]#011train-error:0.121333#011validation-error:0.1625\u001b[0m\n",
      "\u001b[34m[21:36:59] src/tree/updater_prune.cc:74: tree pruning end, 1 roots, 32 extra nodes, 8 pruned nodes, max_depth=5\u001b[0m\n",
      "\u001b[34m[70]#011train-error:0.1204#011validation-error:0.1632\u001b[0m\n",
      "\u001b[34m[21:37:00] src/tree/updater_prune.cc:74: tree pruning end, 1 roots, 18 extra nodes, 10 pruned nodes, max_depth=5\u001b[0m\n",
      "\u001b[34m[71]#011train-error:0.12#011validation-error:0.1633\u001b[0m\n",
      "\u001b[34m[21:37:02] src/tree/updater_prune.cc:74: tree pruning end, 1 roots, 14 extra nodes, 6 pruned nodes, max_depth=5\u001b[0m\n",
      "\u001b[34m[72]#011train-error:0.119467#011validation-error:0.1628\u001b[0m\n",
      "\u001b[34m[21:37:03] src/tree/updater_prune.cc:74: tree pruning end, 1 roots, 14 extra nodes, 10 pruned nodes, max_depth=5\u001b[0m\n",
      "\u001b[34m[73]#011train-error:0.119267#011validation-error:0.1626\u001b[0m\n",
      "\u001b[34m[21:37:04] src/tree/updater_prune.cc:74: tree pruning end, 1 roots, 12 extra nodes, 6 pruned nodes, max_depth=5\u001b[0m\n",
      "\u001b[34m[74]#011train-error:0.119133#011validation-error:0.1617\u001b[0m\n",
      "\u001b[34m[21:37:06] src/tree/updater_prune.cc:74: tree pruning end, 1 roots, 34 extra nodes, 8 pruned nodes, max_depth=5\u001b[0m\n",
      "\u001b[34m[75]#011train-error:0.116533#011validation-error:0.1604\u001b[0m\n",
      "\u001b[34m[21:37:07] src/tree/updater_prune.cc:74: tree pruning end, 1 roots, 18 extra nodes, 4 pruned nodes, max_depth=5\u001b[0m\n",
      "\u001b[34m[76]#011train-error:0.116333#011validation-error:0.1602\u001b[0m\n",
      "\u001b[34m[21:37:08] src/tree/updater_prune.cc:74: tree pruning end, 1 roots, 20 extra nodes, 8 pruned nodes, max_depth=5\u001b[0m\n",
      "\u001b[34m[77]#011train-error:0.1158#011validation-error:0.1588\u001b[0m\n",
      "\u001b[34m[21:37:09] src/tree/updater_prune.cc:74: tree pruning end, 1 roots, 26 extra nodes, 8 pruned nodes, max_depth=5\u001b[0m\n",
      "\u001b[34m[78]#011train-error:0.115333#011validation-error:0.1585\u001b[0m\n",
      "\u001b[34m[21:37:11] src/tree/updater_prune.cc:74: tree pruning end, 1 roots, 16 extra nodes, 18 pruned nodes, max_depth=5\u001b[0m\n",
      "\u001b[34m[79]#011train-error:0.115267#011validation-error:0.158\u001b[0m\n",
      "\u001b[34m[21:37:12] src/tree/updater_prune.cc:74: tree pruning end, 1 roots, 28 extra nodes, 12 pruned nodes, max_depth=5\u001b[0m\n",
      "\u001b[34m[80]#011train-error:0.114867#011validation-error:0.1578\u001b[0m\n",
      "\u001b[34m[21:37:13] src/tree/updater_prune.cc:74: tree pruning end, 1 roots, 26 extra nodes, 8 pruned nodes, max_depth=5\u001b[0m\n",
      "\u001b[34m[81]#011train-error:0.115067#011validation-error:0.1573\u001b[0m\n",
      "\u001b[34m[21:37:14] src/tree/updater_prune.cc:74: tree pruning end, 1 roots, 22 extra nodes, 10 pruned nodes, max_depth=5\u001b[0m\n",
      "\u001b[34m[82]#011train-error:0.114#011validation-error:0.1565\u001b[0m\n",
      "\u001b[34m[21:37:16] src/tree/updater_prune.cc:74: tree pruning end, 1 roots, 26 extra nodes, 4 pruned nodes, max_depth=5\u001b[0m\n",
      "\u001b[34m[83]#011train-error:0.112533#011validation-error:0.1568\u001b[0m\n",
      "\u001b[34m[21:37:17] src/tree/updater_prune.cc:74: tree pruning end, 1 roots, 14 extra nodes, 8 pruned nodes, max_depth=5\u001b[0m\n",
      "\u001b[34m[84]#011train-error:0.112533#011validation-error:0.1566\u001b[0m\n",
      "\u001b[34m[21:37:18] src/tree/updater_prune.cc:74: tree pruning end, 1 roots, 26 extra nodes, 6 pruned nodes, max_depth=5\u001b[0m\n",
      "\u001b[34m[85]#011train-error:0.112#011validation-error:0.1571\u001b[0m\n",
      "\u001b[34m[21:37:19] src/tree/updater_prune.cc:74: tree pruning end, 1 roots, 28 extra nodes, 8 pruned nodes, max_depth=5\u001b[0m\n",
      "\u001b[34m[86]#011train-error:0.110933#011validation-error:0.1569\u001b[0m\n",
      "\u001b[34m[21:37:21] src/tree/updater_prune.cc:74: tree pruning end, 1 roots, 32 extra nodes, 10 pruned nodes, max_depth=5\u001b[0m\n",
      "\u001b[34m[87]#011train-error:0.108933#011validation-error:0.1554\u001b[0m\n"
     ]
    },
    {
     "name": "stdout",
     "output_type": "stream",
     "text": [
      "\u001b[34m[21:37:22] src/tree/updater_prune.cc:74: tree pruning end, 1 roots, 10 extra nodes, 10 pruned nodes, max_depth=5\u001b[0m\n",
      "\u001b[34m[88]#011train-error:0.108533#011validation-error:0.1558\u001b[0m\n",
      "\u001b[34m[21:37:23] src/tree/updater_prune.cc:74: tree pruning end, 1 roots, 12 extra nodes, 4 pruned nodes, max_depth=5\u001b[0m\n",
      "\u001b[34m[89]#011train-error:0.108133#011validation-error:0.1556\u001b[0m\n",
      "\u001b[34m[21:37:25] src/tree/updater_prune.cc:74: tree pruning end, 1 roots, 12 extra nodes, 6 pruned nodes, max_depth=5\u001b[0m\n",
      "\u001b[34m[90]#011train-error:0.1076#011validation-error:0.1548\u001b[0m\n",
      "\u001b[34m[21:37:26] src/tree/updater_prune.cc:74: tree pruning end, 1 roots, 24 extra nodes, 4 pruned nodes, max_depth=5\u001b[0m\n",
      "\u001b[34m[91]#011train-error:0.106333#011validation-error:0.1542\u001b[0m\n",
      "\u001b[34m[21:37:27] src/tree/updater_prune.cc:74: tree pruning end, 1 roots, 14 extra nodes, 6 pruned nodes, max_depth=5\u001b[0m\n",
      "\u001b[34m[92]#011train-error:0.106467#011validation-error:0.1538\u001b[0m\n",
      "\u001b[34m[21:37:28] src/tree/updater_prune.cc:74: tree pruning end, 1 roots, 14 extra nodes, 4 pruned nodes, max_depth=5\u001b[0m\n",
      "\u001b[34m[93]#011train-error:0.105733#011validation-error:0.155\u001b[0m\n",
      "\u001b[34m[21:37:30] src/tree/updater_prune.cc:74: tree pruning end, 1 roots, 38 extra nodes, 14 pruned nodes, max_depth=5\u001b[0m\n",
      "\u001b[34m[94]#011train-error:0.104667#011validation-error:0.1528\u001b[0m\n",
      "\u001b[34m[21:37:31] src/tree/updater_prune.cc:74: tree pruning end, 1 roots, 20 extra nodes, 8 pruned nodes, max_depth=5\u001b[0m\n",
      "\u001b[34m[95]#011train-error:0.103667#011validation-error:0.1526\u001b[0m\n",
      "\u001b[34m[21:37:32] src/tree/updater_prune.cc:74: tree pruning end, 1 roots, 24 extra nodes, 8 pruned nodes, max_depth=5\u001b[0m\n",
      "\u001b[34m[96]#011train-error:0.103#011validation-error:0.1528\u001b[0m\n",
      "\u001b[34m[21:37:33] src/tree/updater_prune.cc:74: tree pruning end, 1 roots, 22 extra nodes, 18 pruned nodes, max_depth=5\u001b[0m\n",
      "\u001b[34m[97]#011train-error:0.1022#011validation-error:0.1513\u001b[0m\n",
      "\u001b[34m[21:37:35] src/tree/updater_prune.cc:74: tree pruning end, 1 roots, 26 extra nodes, 4 pruned nodes, max_depth=5\u001b[0m\n",
      "\u001b[34m[98]#011train-error:0.102#011validation-error:0.1519\u001b[0m\n",
      "\u001b[34m[21:37:36] src/tree/updater_prune.cc:74: tree pruning end, 1 roots, 12 extra nodes, 6 pruned nodes, max_depth=5\u001b[0m\n",
      "\u001b[34m[99]#011train-error:0.101867#011validation-error:0.1518\u001b[0m\n",
      "\u001b[34m[21:37:37] src/tree/updater_prune.cc:74: tree pruning end, 1 roots, 16 extra nodes, 10 pruned nodes, max_depth=5\u001b[0m\n",
      "\u001b[34m[100]#011train-error:0.101#011validation-error:0.1514\u001b[0m\n",
      "\u001b[34m[21:37:38] src/tree/updater_prune.cc:74: tree pruning end, 1 roots, 12 extra nodes, 4 pruned nodes, max_depth=5\u001b[0m\n",
      "\u001b[34m[101]#011train-error:0.100667#011validation-error:0.1513\u001b[0m\n",
      "\u001b[34m[21:37:40] src/tree/updater_prune.cc:74: tree pruning end, 1 roots, 22 extra nodes, 6 pruned nodes, max_depth=5\u001b[0m\n",
      "\u001b[34m[102]#011train-error:0.099933#011validation-error:0.1514\u001b[0m\n",
      "\u001b[34m[21:37:41] src/tree/updater_prune.cc:74: tree pruning end, 1 roots, 10 extra nodes, 4 pruned nodes, max_depth=5\u001b[0m\n",
      "\u001b[34m[103]#011train-error:0.0996#011validation-error:0.1502\u001b[0m\n",
      "\u001b[34m[21:37:42] src/tree/updater_prune.cc:74: tree pruning end, 1 roots, 12 extra nodes, 10 pruned nodes, max_depth=5\u001b[0m\n",
      "\u001b[34m[104]#011train-error:0.099867#011validation-error:0.1507\u001b[0m\n",
      "\u001b[34m[21:37:43] src/tree/updater_prune.cc:74: tree pruning end, 1 roots, 12 extra nodes, 4 pruned nodes, max_depth=5\u001b[0m\n",
      "\u001b[34m[105]#011train-error:0.099533#011validation-error:0.1514\u001b[0m\n",
      "\u001b[34m[21:37:45] src/tree/updater_prune.cc:74: tree pruning end, 1 roots, 18 extra nodes, 8 pruned nodes, max_depth=5\u001b[0m\n",
      "\u001b[34m[106]#011train-error:0.098733#011validation-error:0.1513\u001b[0m\n",
      "\u001b[34m[21:37:46] src/tree/updater_prune.cc:74: tree pruning end, 1 roots, 20 extra nodes, 6 pruned nodes, max_depth=5\u001b[0m\n",
      "\u001b[34m[107]#011train-error:0.0978#011validation-error:0.1499\u001b[0m\n",
      "\u001b[34m[21:37:47] src/tree/updater_prune.cc:74: tree pruning end, 1 roots, 12 extra nodes, 10 pruned nodes, max_depth=5\u001b[0m\n",
      "\u001b[34m[108]#011train-error:0.097667#011validation-error:0.1498\u001b[0m\n",
      "\u001b[34m[21:37:48] src/tree/updater_prune.cc:74: tree pruning end, 1 roots, 18 extra nodes, 2 pruned nodes, max_depth=5\u001b[0m\n",
      "\u001b[34m[109]#011train-error:0.0978#011validation-error:0.1496\u001b[0m\n",
      "\u001b[34m[21:37:50] src/tree/updater_prune.cc:74: tree pruning end, 1 roots, 14 extra nodes, 4 pruned nodes, max_depth=5\u001b[0m\n",
      "\u001b[34m[110]#011train-error:0.097933#011validation-error:0.1507\u001b[0m\n",
      "\u001b[34m[21:37:51] src/tree/updater_prune.cc:74: tree pruning end, 1 roots, 20 extra nodes, 16 pruned nodes, max_depth=5\u001b[0m\n",
      "\u001b[34m[111]#011train-error:0.097267#011validation-error:0.1491\u001b[0m\n",
      "\u001b[34m[21:37:52] src/tree/updater_prune.cc:74: tree pruning end, 1 roots, 14 extra nodes, 8 pruned nodes, max_depth=5\u001b[0m\n",
      "\u001b[34m[112]#011train-error:0.097#011validation-error:0.1489\u001b[0m\n",
      "\u001b[34m[21:37:53] src/tree/updater_prune.cc:74: tree pruning end, 1 roots, 14 extra nodes, 8 pruned nodes, max_depth=5\u001b[0m\n",
      "\u001b[34m[113]#011train-error:0.096067#011validation-error:0.1494\u001b[0m\n",
      "\u001b[34m[21:37:55] src/tree/updater_prune.cc:74: tree pruning end, 1 roots, 10 extra nodes, 12 pruned nodes, max_depth=5\u001b[0m\n",
      "\u001b[34m[114]#011train-error:0.0958#011validation-error:0.1491\u001b[0m\n",
      "\u001b[34m[21:37:56] src/tree/updater_prune.cc:74: tree pruning end, 1 roots, 32 extra nodes, 12 pruned nodes, max_depth=5\u001b[0m\n",
      "\u001b[34m[115]#011train-error:0.0952#011validation-error:0.1485\u001b[0m\n",
      "\u001b[34m[21:37:57] src/tree/updater_prune.cc:74: tree pruning end, 1 roots, 18 extra nodes, 16 pruned nodes, max_depth=5\u001b[0m\n",
      "\u001b[34m[116]#011train-error:0.0948#011validation-error:0.148\u001b[0m\n",
      "\u001b[34m[21:37:59] src/tree/updater_prune.cc:74: tree pruning end, 1 roots, 12 extra nodes, 6 pruned nodes, max_depth=5\u001b[0m\n",
      "\u001b[34m[117]#011train-error:0.094067#011validation-error:0.1482\u001b[0m\n",
      "\u001b[34m[21:38:00] src/tree/updater_prune.cc:74: tree pruning end, 1 roots, 18 extra nodes, 10 pruned nodes, max_depth=5\u001b[0m\n",
      "\u001b[34m[118]#011train-error:0.094067#011validation-error:0.1487\u001b[0m\n",
      "\u001b[34m[21:38:01] src/tree/updater_prune.cc:74: tree pruning end, 1 roots, 24 extra nodes, 8 pruned nodes, max_depth=5\u001b[0m\n",
      "\u001b[34m[119]#011train-error:0.094#011validation-error:0.149\u001b[0m\n",
      "\u001b[34m[21:38:02] src/tree/updater_prune.cc:74: tree pruning end, 1 roots, 28 extra nodes, 6 pruned nodes, max_depth=5\u001b[0m\n",
      "\u001b[34m[120]#011train-error:0.092467#011validation-error:0.1478\u001b[0m\n",
      "\u001b[34m[21:38:04] src/tree/updater_prune.cc:74: tree pruning end, 1 roots, 12 extra nodes, 2 pruned nodes, max_depth=5\u001b[0m\n",
      "\u001b[34m[121]#011train-error:0.092667#011validation-error:0.1474\u001b[0m\n",
      "\u001b[34m[21:38:05] src/tree/updater_prune.cc:74: tree pruning end, 1 roots, 20 extra nodes, 6 pruned nodes, max_depth=5\u001b[0m\n",
      "\u001b[34m[122]#011train-error:0.091867#011validation-error:0.1479\u001b[0m\n",
      "\u001b[34m[21:38:06] src/tree/updater_prune.cc:74: tree pruning end, 1 roots, 14 extra nodes, 4 pruned nodes, max_depth=5\u001b[0m\n",
      "\u001b[34m[123]#011train-error:0.0916#011validation-error:0.1468\u001b[0m\n",
      "\u001b[34m[21:38:07] src/tree/updater_prune.cc:74: tree pruning end, 1 roots, 14 extra nodes, 4 pruned nodes, max_depth=5\u001b[0m\n",
      "\u001b[34m[124]#011train-error:0.091333#011validation-error:0.1468\u001b[0m\n",
      "\u001b[34m[21:38:09] src/tree/updater_prune.cc:74: tree pruning end, 1 roots, 18 extra nodes, 8 pruned nodes, max_depth=5\u001b[0m\n",
      "\u001b[34m[125]#011train-error:0.090733#011validation-error:0.1464\u001b[0m\n",
      "\u001b[34m[21:38:10] src/tree/updater_prune.cc:74: tree pruning end, 1 roots, 24 extra nodes, 8 pruned nodes, max_depth=5\u001b[0m\n",
      "\u001b[34m[126]#011train-error:0.090733#011validation-error:0.1455\u001b[0m\n",
      "\u001b[34m[21:38:11] src/tree/updater_prune.cc:74: tree pruning end, 1 roots, 12 extra nodes, 10 pruned nodes, max_depth=5\u001b[0m\n",
      "\u001b[34m[127]#011train-error:0.090133#011validation-error:0.1456\u001b[0m\n",
      "\u001b[34m[21:38:13] src/tree/updater_prune.cc:74: tree pruning end, 1 roots, 16 extra nodes, 10 pruned nodes, max_depth=5\u001b[0m\n",
      "\u001b[34m[128]#011train-error:0.089933#011validation-error:0.1464\u001b[0m\n",
      "\u001b[34m[21:38:14] src/tree/updater_prune.cc:74: tree pruning end, 1 roots, 12 extra nodes, 6 pruned nodes, max_depth=5\u001b[0m\n",
      "\u001b[34m[129]#011train-error:0.089733#011validation-error:0.1458\u001b[0m\n",
      "\u001b[34m[21:38:15] src/tree/updater_prune.cc:74: tree pruning end, 1 roots, 18 extra nodes, 8 pruned nodes, max_depth=5\u001b[0m\n",
      "\u001b[34m[130]#011train-error:0.089267#011validation-error:0.1454\u001b[0m\n",
      "\u001b[34m[21:38:17] src/tree/updater_prune.cc:74: tree pruning end, 1 roots, 24 extra nodes, 8 pruned nodes, max_depth=5\u001b[0m\n",
      "\u001b[34m[131]#011train-error:0.0896#011validation-error:0.145\u001b[0m\n",
      "\u001b[34m[21:38:18] src/tree/updater_prune.cc:74: tree pruning end, 1 roots, 10 extra nodes, 14 pruned nodes, max_depth=5\u001b[0m\n",
      "\u001b[34m[132]#011train-error:0.089333#011validation-error:0.1452\u001b[0m\n",
      "\u001b[34m[21:38:19] src/tree/updater_prune.cc:74: tree pruning end, 1 roots, 10 extra nodes, 8 pruned nodes, max_depth=5\u001b[0m\n",
      "\u001b[34m[133]#011train-error:0.089#011validation-error:0.1459\u001b[0m\n",
      "\u001b[34m[21:38:20] src/tree/updater_prune.cc:74: tree pruning end, 1 roots, 16 extra nodes, 4 pruned nodes, max_depth=5\u001b[0m\n",
      "\u001b[34m[134]#011train-error:0.088667#011validation-error:0.1459\u001b[0m\n",
      "\u001b[34m[21:38:22] src/tree/updater_prune.cc:74: tree pruning end, 1 roots, 18 extra nodes, 8 pruned nodes, max_depth=5\u001b[0m\n",
      "\u001b[34m[135]#011train-error:0.087867#011validation-error:0.1451\u001b[0m\n"
     ]
    },
    {
     "name": "stdout",
     "output_type": "stream",
     "text": [
      "\u001b[34m[21:38:23] src/tree/updater_prune.cc:74: tree pruning end, 1 roots, 16 extra nodes, 4 pruned nodes, max_depth=5\u001b[0m\n",
      "\u001b[34m[136]#011train-error:0.087067#011validation-error:0.144\u001b[0m\n",
      "\u001b[34m[21:38:24] src/tree/updater_prune.cc:74: tree pruning end, 1 roots, 24 extra nodes, 6 pruned nodes, max_depth=5\u001b[0m\n",
      "\u001b[34m[137]#011train-error:0.086133#011validation-error:0.1442\u001b[0m\n",
      "\u001b[34m[21:38:25] src/tree/updater_prune.cc:74: tree pruning end, 1 roots, 16 extra nodes, 8 pruned nodes, max_depth=5\u001b[0m\n",
      "\u001b[34m[138]#011train-error:0.086267#011validation-error:0.1441\u001b[0m\n",
      "\u001b[34m[21:38:27] src/tree/updater_prune.cc:74: tree pruning end, 1 roots, 18 extra nodes, 10 pruned nodes, max_depth=5\u001b[0m\n",
      "\u001b[34m[139]#011train-error:0.0862#011validation-error:0.1455\u001b[0m\n",
      "\u001b[34m[21:38:28] src/tree/updater_prune.cc:74: tree pruning end, 1 roots, 10 extra nodes, 4 pruned nodes, max_depth=5\u001b[0m\n",
      "\u001b[34m[140]#011train-error:0.085867#011validation-error:0.1447\u001b[0m\n",
      "\u001b[34m[21:38:29] src/tree/updater_prune.cc:74: tree pruning end, 1 roots, 20 extra nodes, 12 pruned nodes, max_depth=5\u001b[0m\n",
      "\u001b[34m[141]#011train-error:0.0858#011validation-error:0.144\u001b[0m\n",
      "\u001b[34m[21:38:30] src/tree/updater_prune.cc:74: tree pruning end, 1 roots, 18 extra nodes, 8 pruned nodes, max_depth=5\u001b[0m\n",
      "\u001b[34m[142]#011train-error:0.0854#011validation-error:0.1438\u001b[0m\n",
      "\u001b[34m[21:38:32] src/tree/updater_prune.cc:74: tree pruning end, 1 roots, 12 extra nodes, 8 pruned nodes, max_depth=5\u001b[0m\n",
      "\u001b[34m[143]#011train-error:0.0854#011validation-error:0.1444\u001b[0m\n",
      "\u001b[34m[21:38:33] src/tree/updater_prune.cc:74: tree pruning end, 1 roots, 10 extra nodes, 2 pruned nodes, max_depth=5\u001b[0m\n",
      "\u001b[34m[144]#011train-error:0.085133#011validation-error:0.1442\u001b[0m\n",
      "\u001b[34m[21:38:34] src/tree/updater_prune.cc:74: tree pruning end, 1 roots, 16 extra nodes, 6 pruned nodes, max_depth=5\u001b[0m\n",
      "\u001b[34m[145]#011train-error:0.084933#011validation-error:0.1437\u001b[0m\n",
      "\u001b[34m[21:38:35] src/tree/updater_prune.cc:74: tree pruning end, 1 roots, 16 extra nodes, 12 pruned nodes, max_depth=5\u001b[0m\n",
      "\u001b[34m[146]#011train-error:0.085067#011validation-error:0.1425\u001b[0m\n",
      "\u001b[34m[21:38:37] src/tree/updater_prune.cc:74: tree pruning end, 1 roots, 12 extra nodes, 0 pruned nodes, max_depth=5\u001b[0m\n",
      "\u001b[34m[147]#011train-error:0.0844#011validation-error:0.1426\u001b[0m\n",
      "\u001b[34m[21:38:38] src/tree/updater_prune.cc:74: tree pruning end, 1 roots, 10 extra nodes, 4 pruned nodes, max_depth=5\u001b[0m\n",
      "\u001b[34m[148]#011train-error:0.084067#011validation-error:0.1427\u001b[0m\n",
      "\u001b[34m[21:38:39] src/tree/updater_prune.cc:74: tree pruning end, 1 roots, 10 extra nodes, 10 pruned nodes, max_depth=5\u001b[0m\n",
      "\u001b[34m[149]#011train-error:0.084467#011validation-error:0.143\u001b[0m\n",
      "\u001b[34m[21:38:41] src/tree/updater_prune.cc:74: tree pruning end, 1 roots, 12 extra nodes, 0 pruned nodes, max_depth=5\u001b[0m\n",
      "\u001b[34m[150]#011train-error:0.0842#011validation-error:0.1426\u001b[0m\n",
      "\u001b[34m[21:38:42] src/tree/updater_prune.cc:74: tree pruning end, 1 roots, 12 extra nodes, 6 pruned nodes, max_depth=5\u001b[0m\n",
      "\u001b[34m[151]#011train-error:0.083467#011validation-error:0.1427\u001b[0m\n",
      "\u001b[34m[21:38:43] src/tree/updater_prune.cc:74: tree pruning end, 1 roots, 12 extra nodes, 6 pruned nodes, max_depth=5\u001b[0m\n",
      "\u001b[34m[152]#011train-error:0.083#011validation-error:0.143\u001b[0m\n",
      "\u001b[34m[21:38:44] src/tree/updater_prune.cc:74: tree pruning end, 1 roots, 18 extra nodes, 2 pruned nodes, max_depth=5\u001b[0m\n",
      "\u001b[34m[153]#011train-error:0.082933#011validation-error:0.1422\u001b[0m\n",
      "\u001b[34m[21:38:46] src/tree/updater_prune.cc:74: tree pruning end, 1 roots, 12 extra nodes, 12 pruned nodes, max_depth=5\u001b[0m\n",
      "\u001b[34m[154]#011train-error:0.082667#011validation-error:0.142\u001b[0m\n",
      "\u001b[34m[21:38:47] src/tree/updater_prune.cc:74: tree pruning end, 1 roots, 14 extra nodes, 6 pruned nodes, max_depth=5\u001b[0m\n",
      "\u001b[34m[155]#011train-error:0.082467#011validation-error:0.1413\u001b[0m\n",
      "\u001b[34m[21:38:48] src/tree/updater_prune.cc:74: tree pruning end, 1 roots, 10 extra nodes, 2 pruned nodes, max_depth=5\u001b[0m\n",
      "\u001b[34m[156]#011train-error:0.082133#011validation-error:0.1412\u001b[0m\n",
      "\u001b[34m[21:38:49] src/tree/updater_prune.cc:74: tree pruning end, 1 roots, 14 extra nodes, 2 pruned nodes, max_depth=5\u001b[0m\n",
      "\u001b[34m[157]#011train-error:0.082067#011validation-error:0.1413\u001b[0m\n",
      "\u001b[34m[21:38:51] src/tree/updater_prune.cc:74: tree pruning end, 1 roots, 20 extra nodes, 16 pruned nodes, max_depth=5\u001b[0m\n",
      "\u001b[34m[158]#011train-error:0.0816#011validation-error:0.1406\u001b[0m\n",
      "\u001b[34m[21:38:52] src/tree/updater_prune.cc:74: tree pruning end, 1 roots, 10 extra nodes, 6 pruned nodes, max_depth=5\u001b[0m\n",
      "\u001b[34m[159]#011train-error:0.081867#011validation-error:0.1405\u001b[0m\n",
      "\u001b[34m[21:38:53] src/tree/updater_prune.cc:74: tree pruning end, 1 roots, 22 extra nodes, 8 pruned nodes, max_depth=5\u001b[0m\n",
      "\u001b[34m[160]#011train-error:0.081933#011validation-error:0.1404\u001b[0m\n",
      "\u001b[34m[21:38:54] src/tree/updater_prune.cc:74: tree pruning end, 1 roots, 28 extra nodes, 12 pruned nodes, max_depth=5\u001b[0m\n",
      "\u001b[34m[161]#011train-error:0.081533#011validation-error:0.1396\u001b[0m\n",
      "\u001b[34m[21:38:56] src/tree/updater_prune.cc:74: tree pruning end, 1 roots, 12 extra nodes, 0 pruned nodes, max_depth=5\u001b[0m\n",
      "\u001b[34m[162]#011train-error:0.081333#011validation-error:0.1396\u001b[0m\n",
      "\u001b[34m[21:38:57] src/tree/updater_prune.cc:74: tree pruning end, 1 roots, 34 extra nodes, 4 pruned nodes, max_depth=5\u001b[0m\n",
      "\u001b[34m[163]#011train-error:0.0804#011validation-error:0.139\u001b[0m\n",
      "\u001b[34m[21:38:58] src/tree/updater_prune.cc:74: tree pruning end, 1 roots, 20 extra nodes, 6 pruned nodes, max_depth=5\u001b[0m\n",
      "\u001b[34m[164]#011train-error:0.079667#011validation-error:0.139\u001b[0m\n",
      "\u001b[34m[21:38:59] src/tree/updater_prune.cc:74: tree pruning end, 1 roots, 10 extra nodes, 6 pruned nodes, max_depth=5\u001b[0m\n",
      "\u001b[34m[165]#011train-error:0.079667#011validation-error:0.1388\u001b[0m\n",
      "\u001b[34m[21:39:01] src/tree/updater_prune.cc:74: tree pruning end, 1 roots, 10 extra nodes, 12 pruned nodes, max_depth=5\u001b[0m\n",
      "\u001b[34m[166]#011train-error:0.0792#011validation-error:0.1388\u001b[0m\n",
      "\u001b[34m[21:39:02] src/tree/updater_prune.cc:74: tree pruning end, 1 roots, 16 extra nodes, 2 pruned nodes, max_depth=5\u001b[0m\n",
      "\u001b[34m[167]#011train-error:0.078933#011validation-error:0.1383\u001b[0m\n",
      "\u001b[34m[21:39:03] src/tree/updater_prune.cc:74: tree pruning end, 1 roots, 14 extra nodes, 10 pruned nodes, max_depth=5\u001b[0m\n",
      "\u001b[34m[168]#011train-error:0.079#011validation-error:0.1375\u001b[0m\n",
      "\u001b[34m[21:39:04] src/tree/updater_prune.cc:74: tree pruning end, 1 roots, 14 extra nodes, 6 pruned nodes, max_depth=5\u001b[0m\n",
      "\u001b[34m[169]#011train-error:0.0792#011validation-error:0.139\u001b[0m\n",
      "\u001b[34m[21:39:06] src/tree/updater_prune.cc:74: tree pruning end, 1 roots, 22 extra nodes, 2 pruned nodes, max_depth=5\u001b[0m\n",
      "\u001b[34m[170]#011train-error:0.0788#011validation-error:0.1389\u001b[0m\n",
      "\u001b[34m[21:39:07] src/tree/updater_prune.cc:74: tree pruning end, 1 roots, 12 extra nodes, 8 pruned nodes, max_depth=5\u001b[0m\n",
      "\u001b[34m[171]#011train-error:0.078133#011validation-error:0.139\u001b[0m\n",
      "\u001b[34m[21:39:08] src/tree/updater_prune.cc:74: tree pruning end, 1 roots, 12 extra nodes, 12 pruned nodes, max_depth=5\u001b[0m\n",
      "\u001b[34m[172]#011train-error:0.078#011validation-error:0.139\u001b[0m\n",
      "\u001b[34m[21:39:10] src/tree/updater_prune.cc:74: tree pruning end, 1 roots, 18 extra nodes, 6 pruned nodes, max_depth=5\u001b[0m\n",
      "\u001b[34m[173]#011train-error:0.077333#011validation-error:0.1381\u001b[0m\n",
      "\u001b[34m[21:39:11] src/tree/updater_prune.cc:74: tree pruning end, 1 roots, 12 extra nodes, 12 pruned nodes, max_depth=5\u001b[0m\n",
      "\u001b[34m[174]#011train-error:0.077467#011validation-error:0.1386\u001b[0m\n",
      "\u001b[34m[21:39:12] src/tree/updater_prune.cc:74: tree pruning end, 1 roots, 10 extra nodes, 4 pruned nodes, max_depth=5\u001b[0m\n",
      "\u001b[34m[175]#011train-error:0.077667#011validation-error:0.1387\u001b[0m\n",
      "\u001b[34m[21:39:13] src/tree/updater_prune.cc:74: tree pruning end, 1 roots, 14 extra nodes, 8 pruned nodes, max_depth=5\u001b[0m\n",
      "\u001b[34m[176]#011train-error:0.077267#011validation-error:0.1383\u001b[0m\n",
      "\u001b[34m[21:39:15] src/tree/updater_prune.cc:74: tree pruning end, 1 roots, 12 extra nodes, 4 pruned nodes, max_depth=5\u001b[0m\n",
      "\u001b[34m[177]#011train-error:0.077533#011validation-error:0.1379\u001b[0m\n",
      "\u001b[34m[21:39:16] src/tree/updater_prune.cc:74: tree pruning end, 1 roots, 22 extra nodes, 8 pruned nodes, max_depth=5\u001b[0m\n",
      "\u001b[34m[178]#011train-error:0.077067#011validation-error:0.1379\u001b[0m\n",
      "\u001b[34mStopping. Best iteration:\u001b[0m\n",
      "\u001b[34m[168]#011train-error:0.079#011validation-error:0.1375\n",
      "\u001b[0m\n",
      "\n",
      "2020-04-14 21:39:26 Uploading - Uploading generated training model\n",
      "2020-04-14 21:39:26 Completed - Training job completed\n"
     ]
    },
    {
     "name": "stdout",
     "output_type": "stream",
     "text": [
      "Training seconds: 287\n",
      "Billable seconds: 287\n"
     ]
    }
   ],
   "source": [
    "xgb.fit({'train': s3_input_train, 'validation': s3_input_validation})"
   ]
  },
  {
   "cell_type": "markdown",
   "metadata": {},
   "source": [
    "## Step 5: Testing the model\n",
    "\n",
    "Now that we've fit our XGBoost model, it's time to see how well it performs. To do this we will use SageMakers Batch Transform functionality. Batch Transform is a convenient way to perform inference on a large dataset in a way that is not realtime. That is, we don't necessarily need to use our model's results immediately and instead we can perform inference on a large number of samples. An example of this in industry might be performing an end of month report. This method of inference can also be useful to us as it means that we can perform inference on our entire test set. \n",
    "\n",
    "To perform a Batch Transformation we need to first create a transformer objects from our trained estimator object."
   ]
  },
  {
   "cell_type": "code",
   "execution_count": null,
   "metadata": {},
   "outputs": [],
   "source": [
    "xgb_transformer = xgb.transformer(instance_count = 1, instance_type = 'ml.m4.xlarge')"
   ]
  },
  {
   "cell_type": "markdown",
   "metadata": {},
   "source": [
    "Next we actually perform the transform job. When doing so we need to make sure to specify the type of data we are sending so that it is serialized correctly in the background. In our case we are providing our model with csv data so we specify `text/csv`. Also, if the test data that we have provided is too large to process all at once then we need to specify how the data file should be split up. Since each line is a single entry in our data set we tell SageMaker that it can split the input on each line."
   ]
  },
  {
   "cell_type": "code",
   "execution_count": null,
   "metadata": {},
   "outputs": [],
   "source": [
    "xgb_transformer.transform(test_location, content_type='text/csv', split_type='Line')"
   ]
  },
  {
   "cell_type": "markdown",
   "metadata": {},
   "source": [
    "Currently the transform job is running but it is doing so in the background. Since we wish to wait until the transform job is done and we would like a bit of feedback we can run the `wait()` method."
   ]
  },
  {
   "cell_type": "code",
   "execution_count": null,
   "metadata": {},
   "outputs": [],
   "source": [
    "xgb_transformer.wait()"
   ]
  },
  {
   "cell_type": "markdown",
   "metadata": {},
   "source": [
    "Now the transform job has executed and the result, the estimated sentiment of each review, has been saved on S3. Since we would rather work on this file locally we can perform a bit of notebook magic to copy the file to the `data_dir`."
   ]
  },
  {
   "cell_type": "code",
   "execution_count": null,
   "metadata": {},
   "outputs": [],
   "source": [
    "!aws s3 cp --recursive $xgb_transformer.output_path $data_dir"
   ]
  },
  {
   "cell_type": "markdown",
   "metadata": {},
   "source": [
    "The last step is now to read in the output from our model, convert the output to something a little more usable, in this case we want the sentiment to be either `1` (positive) or `0` (negative), and then compare to the ground truth labels."
   ]
  },
  {
   "cell_type": "code",
   "execution_count": null,
   "metadata": {},
   "outputs": [],
   "source": [
    "predictions = pd.read_csv(os.path.join(data_dir, 'test.csv.out'), header=None)\n",
    "predictions = [round(num) for num in predictions.squeeze().values]"
   ]
  },
  {
   "cell_type": "code",
   "execution_count": null,
   "metadata": {},
   "outputs": [],
   "source": [
    "from sklearn.metrics import accuracy_score\n",
    "accuracy_score(test_y, predictions)"
   ]
  },
  {
   "cell_type": "markdown",
   "metadata": {},
   "source": [
    "## Step 6: Deploying the model\n",
    "\n",
    "Once we construct and fit our model, SageMaker stores the resulting model artifacts and we can use those to deploy an endpoint (inference code). To see this, look in the SageMaker console and you should see that a model has been created along with a link to the S3 location where the model artifacts have been stored.\n",
    "\n",
    "Deploying an endpoint is a lot like training the model with a few important differences. The first is that a deployed model doesn't change the model artifacts, so as you send it various testing instances the model won't change. Another difference is that since we aren't performing a fixed computation, as we were in the training step or while performing a batch transform, the compute instance that gets started stays running until we tell it to stop. This is important to note as if we forget and leave it running we will be charged the entire time.\n",
    "\n",
    "In other words **If you are no longer using a deployed endpoint, shut it down!**"
   ]
  },
  {
   "cell_type": "code",
   "execution_count": null,
   "metadata": {},
   "outputs": [],
   "source": [
    "xgb_predictor = xgb.deploy(initial_instance_count = 1, instance_type = 'ml.m4.xlarge')"
   ]
  },
  {
   "cell_type": "markdown",
   "metadata": {},
   "source": [
    "### Testing the model (again)\n",
    "\n",
    "Now that we have deployed our endpoint, we can send the testing data to it and get back the inference results. We already did this earlier using the batch transform functionality of SageMaker, however, we will test our model again using the newly deployed endpoint so that we can make sure that it works properly and to get a bit of a feel for how the endpoint works.\n",
    "\n",
    "When using the created endpoint it is important to know that we are limited in the amount of information we can send in each call so we need to break the testing data up into chunks and then send each chunk. Also, we need to serialize our data before we send it to the endpoint to ensure that our data is transmitted properly. Fortunately, SageMaker can do the serialization part for us provided we tell it the format of our data."
   ]
  },
  {
   "cell_type": "code",
   "execution_count": null,
   "metadata": {},
   "outputs": [],
   "source": [
    "from sagemaker.predictor import csv_serializer\n",
    "\n",
    "# We need to tell the endpoint what format the data we are sending is in so that SageMaker can perform the serialization.\n",
    "xgb_predictor.content_type = 'text/csv'\n",
    "xgb_predictor.serializer = csv_serializer"
   ]
  },
  {
   "cell_type": "code",
   "execution_count": null,
   "metadata": {},
   "outputs": [],
   "source": [
    "# We split the data into chunks and send each chunk seperately, accumulating the results.\n",
    "\n",
    "def predict(data, rows=512):\n",
    "    split_array = np.array_split(data, int(data.shape[0] / float(rows) + 1))\n",
    "    predictions = ''\n",
    "    for array in split_array:\n",
    "        predictions = ','.join([predictions, xgb_predictor.predict(array).decode('utf-8')])\n",
    "    \n",
    "    return np.fromstring(predictions[1:], sep=',')"
   ]
  },
  {
   "cell_type": "code",
   "execution_count": null,
   "metadata": {},
   "outputs": [],
   "source": [
    "test_X = pd.read_csv(os.path.join(data_dir, 'test.csv'), header=None).values\n",
    "\n",
    "predictions = predict(test_X)\n",
    "predictions = [round(num) for num in predictions]"
   ]
  },
  {
   "cell_type": "markdown",
   "metadata": {},
   "source": [
    "Lastly, we check to see what the accuracy of our model is."
   ]
  },
  {
   "cell_type": "code",
   "execution_count": null,
   "metadata": {},
   "outputs": [],
   "source": [
    "from sklearn.metrics import accuracy_score\n",
    "accuracy_score(test_y, predictions)"
   ]
  },
  {
   "cell_type": "markdown",
   "metadata": {},
   "source": [
    "And the results here should agree with the model testing that we did earlier using the batch transform job.\n",
    "\n",
    "### Cleaning up\n",
    "\n",
    "Now that we've determined that deploying our model works as expected, we are going to shut it down. Remember that the longer the endpoint is left running, the greater the cost and since we have a bit more work to do before we are able to use our endpoint with our simple web app, we should shut everything down."
   ]
  },
  {
   "cell_type": "code",
   "execution_count": null,
   "metadata": {},
   "outputs": [],
   "source": [
    "xgb_predictor.delete_endpoint()"
   ]
  },
  {
   "cell_type": "markdown",
   "metadata": {},
   "source": [
    "## Step 7: Putting our model to work\n",
    "\n",
    "As we've mentioned a few times now, our goal is to have our model deployed and then access it using a very simple web app. The intent is for this web app to take some user submitted data (a review), send it off to our endpoint (the model) and then display the result.\n",
    "\n",
    "However, there is a small catch. Currently the only way we can access the endpoint to send it data is using the SageMaker API. We can, if we wish, expose the actual URL that our model's endpoint is receiving data from, however, if we just send it data ourselves we will not get anything in return. This is because the endpoint created by SageMaker requires the entity accessing it have the correct permissions. So, we would need to somehow authenticate our web app with AWS.\n",
    "\n",
    "Having a website that authenticates to AWS seems a bit beyond the scope of this lesson so we will opt for an alternative approach. Namely, we will create a new endpoint which does not require authentication and which acts as a proxy for the SageMaker endpoint.\n",
    "\n",
    "As an additional constraint, we will try to avoid doing any data processing in the web app itself. Remember that when we constructed and tested our model we started with a movie review, then we simplified it by removing any html formatting and punctuation, then we constructed a bag of words embedding and the resulting vector is what we sent to our model. All of this needs to be done to our user input as well.\n",
    "\n",
    "Fortunately we can do all of this data processing in the backend, using Amazon's Lambda service.\n",
    "\n",
    "<img src=\"Web App Diagram.svg\">\n",
    "\n",
    "The diagram above gives an overview of how the various services will work together. On the far right is the model which we trained above and which will be deployed using SageMaker. On the far left is our web app that collects a user's movie review, sends it off and expects a positive or negative sentiment in return.\n",
    "\n",
    "In the middle is where some of the magic happens. We will construct a Lambda function, which you can think of as a straightforward Python function that can be executed whenever a specified event occurs. This Python function will do the data processing we need to perform on a user submitted review. In addition, we will give this function permission to send and recieve data from a SageMaker endpoint.\n",
    "\n",
    "Lastly, the method we will use to execute the Lambda function is a new endpoint that we will create using API Gateway. This endpoint will be a url that listens for data to be sent to it. Once it gets some data it will pass that data on to the Lambda function and then return whatever the Lambda function returns. Essentially it will act as an interface that lets our web app communicate with the Lambda function.\n",
    "\n",
    "### Processing a single review\n",
    "\n",
    "For now, suppose we are given a movie review by our user in the form of a string, like so:"
   ]
  },
  {
   "cell_type": "code",
   "execution_count": 24,
   "metadata": {},
   "outputs": [],
   "source": [
    "test_review = \"Nothing but a disgusting materialistic pageant of glistening abed remote control greed zombies, totally devoid of any heart or heat. A romantic comedy that has zero romantic chemestry and zero laughs!\""
   ]
  },
  {
   "cell_type": "markdown",
   "metadata": {},
   "source": [
    "How do we go from this string to the bag of words feature vector that is expected by our model?\n",
    "\n",
    "If we recall at the beginning of this notebook, the first step is to remove any unnecessary characters using the `review_to_words` method. Remember that we intentionally did this in a very simplistic way. This is because we are going to have to copy this method to our (eventual) Lambda function (we will go into more detail later) and this means it needs to be rather simplistic."
   ]
  },
  {
   "cell_type": "code",
   "execution_count": 25,
   "metadata": {},
   "outputs": [
    {
     "name": "stdout",
     "output_type": "stream",
     "text": [
      "nothing but a disgusting materialistic pageant of glistening abed remote control greed zombies totally devoid of any heart or heat a romantic comedy that has zero romantic chemestry and zero laughs\n"
     ]
    }
   ],
   "source": [
    "test_words = review_to_words(test_review)\n",
    "print(test_words)"
   ]
  },
  {
   "cell_type": "markdown",
   "metadata": {},
   "source": [
    "Next, we need to construct a bag of words embedding of the `test_words` string. To do this, remember that a bag of words embedding uses a `vocabulary` consisting of the most frequently appearing words in a set of documents. Then, for each word in the vocabulary we record the number of times that word appears in `test_words`. We constructed the `vocabulary` earlier using the training set for our problem so encoding `test_words` is relatively straightforward."
   ]
  },
  {
   "cell_type": "code",
   "execution_count": 26,
   "metadata": {},
   "outputs": [],
   "source": [
    "def bow_encoding(words, vocabulary):\n",
    "    bow = [0] * len(vocabulary) # Start by setting the count for each word in the vocabulary to zero.\n",
    "    for word in words.split():  # For each word in the string\n",
    "        if word in vocabulary:  # If the word is one that occurs in the vocabulary, increase its count.\n",
    "            bow[vocabulary[word]] += 1\n",
    "    return bow"
   ]
  },
  {
   "cell_type": "code",
   "execution_count": 27,
   "metadata": {},
   "outputs": [
    {
     "name": "stdout",
     "output_type": "stream",
     "text": [
      "[0, 0, 0, 0, 0, 0, 0, 0, 0, 0, 0, 0, 0, 0, 0, 0, 0, 0, 0, 0, 0, 0, 0, 0, 0, 0, 0, 0, 0, 0, 0, 0, 0, 0, 0, 0, 0, 0, 0, 0, 0, 0, 0, 0, 0, 0, 0, 0, 0, 0, 0, 0, 0, 0, 0, 0, 0, 0, 0, 0, 0, 0, 0, 0, 0, 0, 0, 0, 0, 0, 0, 0, 0, 0, 0, 0, 0, 0, 0, 0, 0, 0, 0, 0, 0, 0, 0, 0, 0, 0, 0, 0, 0, 0, 0, 0, 0, 0, 0, 0, 0, 0, 0, 0, 0, 0, 0, 0, 0, 0, 0, 0, 0, 0, 0, 0, 0, 0, 0, 0, 0, 0, 0, 0, 0, 0, 0, 0, 0, 0, 0, 0, 0, 0, 0, 0, 0, 0, 0, 0, 0, 0, 0, 0, 0, 0, 0, 0, 0, 0, 0, 0, 0, 0, 0, 0, 0, 0, 0, 0, 0, 0, 0, 0, 0, 0, 0, 0, 0, 0, 0, 0, 0, 0, 0, 0, 0, 0, 0, 0, 0, 0, 0, 0, 0, 0, 0, 0, 0, 0, 0, 0, 0, 0, 0, 0, 0, 0, 0, 0, 0, 0, 0, 0, 0, 0, 0, 0, 0, 0, 0, 0, 0, 0, 0, 0, 0, 0, 0, 0, 0, 0, 0, 0, 0, 0, 1, 0, 0, 0, 0, 0, 0, 0, 0, 0, 0, 0, 0, 0, 0, 0, 0, 0, 0, 0, 0, 0, 0, 0, 0, 0, 0, 0, 0, 0, 1, 0, 0, 0, 0, 0, 0, 0, 0, 0, 0, 0, 0, 0, 0, 0, 0, 0, 0, 0, 0, 0, 0, 0, 0, 0, 0, 0, 0, 0, 0, 0, 0, 0, 0, 0, 0, 0, 0, 0, 0, 0, 0, 0, 0, 0, 0, 0, 0, 0, 0, 0, 0, 0, 0, 0, 0, 0, 0, 0, 0, 0, 0, 0, 0, 0, 0, 0, 0, 0, 0, 0, 0, 0, 0, 0, 0, 0, 0, 0, 0, 0, 0, 0, 0, 0, 0, 0, 0, 0, 0, 0, 0, 0, 0, 0, 0, 0, 0, 0, 0, 0, 0, 0, 0, 0, 0, 0, 0, 0, 0, 0, 0, 0, 0, 0, 0, 0, 0, 0, 0, 0, 0, 0, 0, 0, 0, 0, 0, 0, 0, 0, 0, 0, 0, 0, 0, 0, 0, 0, 0, 0, 0, 0, 0, 0, 0, 0, 0, 0, 0, 0, 0, 0, 0, 0, 0, 0, 0, 0, 0, 0, 0, 0, 0, 0, 0, 0, 0, 0, 0, 0, 0, 0, 0, 0, 0, 0, 0, 0, 0, 0, 0, 0, 0, 0, 0, 0, 0, 0, 0, 0, 0, 0, 0, 0, 0, 0, 0, 0, 0, 0, 0, 0, 0, 0, 0, 0, 0, 0, 0, 0, 0, 0, 0, 0, 0, 0, 0, 0, 0, 0, 0, 0, 0, 0, 0, 0, 0, 0, 0, 0, 0, 0, 0, 0, 0, 0, 0, 0, 0, 0, 0, 0, 0, 0, 0, 0, 0, 0, 0, 0, 0, 0, 0, 0, 0, 0, 0, 0, 0, 0, 0, 0, 0, 0, 0, 0, 0, 0, 0, 0, 0, 0, 0, 0, 0, 0, 0, 0, 0, 0, 0, 0, 0, 0, 0, 0, 0, 0, 0, 0, 0, 0, 0, 0, 0, 0, 0, 0, 0, 0, 0, 0, 0, 0, 0, 0, 0, 0, 0, 0, 0, 0, 0, 0, 0, 0, 0, 0, 0, 0, 0, 0, 0, 0, 0, 0, 0, 0, 0, 0, 0, 0, 0, 0, 0, 0, 0, 0, 0, 0, 0, 0, 0, 0, 0, 0, 0, 0, 0, 0, 0, 0, 0, 0, 0, 0, 0, 0, 0, 0, 0, 0, 0, 0, 0, 0, 0, 0, 0, 0, 0, 0, 0, 0, 0, 0, 0, 0, 1, 0, 0, 0, 0, 0, 0, 0, 0, 0, 0, 0, 0, 0, 0, 0, 0, 0, 0, 0, 0, 0, 0, 0, 0, 0, 0, 0, 0, 0, 0, 0, 0, 0, 0, 0, 0, 0, 0, 0, 0, 0, 0, 0, 0, 0, 0, 0, 0, 0, 0, 0, 0, 0, 0, 0, 0, 0, 0, 0, 0, 0, 0, 0, 0, 0, 0, 0, 0, 0, 0, 0, 0, 0, 0, 0, 0, 0, 0, 0, 0, 0, 0, 0, 0, 0, 0, 0, 0, 0, 0, 0, 0, 0, 0, 0, 0, 0, 0, 0, 0, 0, 0, 0, 0, 0, 0, 0, 0, 0, 0, 0, 0, 0, 0, 0, 0, 0, 0, 0, 0, 0, 0, 0, 0, 0, 0, 0, 0, 0, 0, 0, 0, 0, 0, 0, 0, 0, 0, 0, 0, 0, 0, 0, 0, 0, 0, 0, 0, 0, 0, 0, 0, 0, 0, 0, 0, 0, 0, 0, 0, 0, 0, 0, 0, 0, 0, 0, 0, 0, 0, 0, 0, 0, 0, 0, 0, 0, 0, 0, 0, 0, 0, 0, 0, 0, 0, 0, 0, 0, 0, 0, 0, 0, 0, 0, 0, 0, 0, 0, 0, 0, 0, 0, 0, 0, 0, 0, 0, 0, 0, 0, 0, 0, 0, 0, 0, 0, 0, 0, 0, 0, 0, 0, 0, 0, 0, 0, 0, 0, 0, 0, 0, 0, 0, 0, 0, 0, 0, 0, 0, 0, 0, 0, 0, 0, 0, 0, 0, 0, 0, 0, 0, 0, 1, 0, 0, 0, 0, 0, 0, 0, 0, 0, 0, 0, 0, 0, 0, 0, 0, 0, 0, 0, 0, 0, 0, 0, 0, 0, 0, 0, 0, 0, 0, 0, 0, 0, 0, 0, 0, 0, 0, 0, 0, 0, 0, 0, 0, 0, 0, 0, 0, 0, 0, 0, 0, 0, 0, 0, 0, 0, 0, 0, 0, 0, 0, 0, 0, 0, 0, 0, 0, 0, 0, 0, 0, 0, 0, 0, 0, 0, 0, 0, 0, 0, 0, 0, 0, 0, 0, 1, 0, 0, 0, 0, 0, 0, 0, 0, 0, 0, 0, 0, 0, 0, 0, 0, 0, 0, 0, 0, 0, 0, 0, 0, 0, 0, 0, 0, 0, 0, 0, 0, 0, 0, 0, 0, 0, 0, 0, 0, 0, 0, 0, 0, 0, 0, 0, 0, 0, 0, 0, 0, 0, 0, 0, 0, 0, 0, 0, 0, 0, 0, 0, 0, 0, 0, 0, 0, 0, 0, 0, 0, 0, 0, 0, 0, 0, 0, 0, 0, 0, 0, 0, 0, 0, 0, 0, 0, 0, 0, 0, 0, 0, 0, 0, 0, 0, 0, 0, 0, 0, 0, 0, 0, 0, 0, 0, 0, 0, 0, 0, 0, 0, 0, 0, 0, 0, 0, 0, 0, 0, 0, 0, 0, 0, 0, 0, 0, 0, 0, 0, 0, 0, 0, 0, 0, 0, 0, 0, 0, 0, 0, 0, 0, 0, 0, 0, 0, 0, 0, 0, 0, 0, 0, 0, 0, 0, 0, 0, 0, 0, 0, 0, 0, 0, 0, 0, 0, 0, 0, 0, 0, 0, 0, 0, 0, 0, 0, 0, 0, 0, 0, 0, 0, 0, 0, 0, 0, 0, 0, 0, 0, 0, 0, 0, 0, 0, 0, 0, 0, 0, 0, 0, 0, 0, 0, 0, 0, 0, 0, 0, 0, 0, 0, 0, 0, 0, 0, 0, 0, 0, 0, 0, 0, 0, 0, 0, 0, 0, 0, 0, 0, 0, 0, 0, 0, 0, 0, 0, 0, 0, 0, 0, 0, 0, 0, 0, 0, 0, 0, 0, 0, 1, 0, 0, 0, 0, 0, 0, 0, 0, 0, 0, 0, 0, 0, 0, 0, 0, 0, 0, 0, 0, 0, 0, 0, 0, 0, 0, 0, 0, 0, 0, 0, 0, 0, 0, 0, 0, 0, 0, 0, 0, 0, 0, 0, 0, 0, 0, 0, 0, 0, 0, 0, 0, 0, 0, 0, 1, 0, 0, 0, 0, 0, 0, 0, 0, 0, 0, 0, 0, 0, 0, 0, 0, 0, 0, 0, 0, 0, 0, 0, 0, 0, 0, 0, 0, 0, 0, 0, 0, 0, 0, 0, 0, 0, 0, 0, 0, 0, 0, 0, 0, 0, 0, 0, 0, 0, 0, 0, 0, 0, 0, 0, 0, 0, 0, 0, 0, 0, 0, 0, 0, 0, 0, 0, 0, 0, 0, 0, 0, 0, 0, 0, 0, 0, 0, 0, 0, 0, 0, 0, 0, 0, 0, 0, 0, 0, 0, 0, 0, 0, 0, 0, 0, 0, 0, 0, 0, 0, 0, 0, 0, 0, 0, 0, 0, 0, 0, 0, 0, 0, 0, 0, 0, 0, 0, 0, 0, 0, 0, 0, 0, 0, 0, 0, 0, 0, 0, 0, 0, 0, 0, 0, 0, 0, 0, 0, 0, 0, 0, 0, 0, 0, 0, 0, 0, 0, 0, 0, 0, 0, 0, 0, 0, 0, 0, 0, 0, 0, 0, 0, 0, 0, 0, 0, 0, 0, 0, 0, 0, 0, 0, 0, 0, 0, 0, 0, 0, 0, 0, 0, 0, 0, 0, 0, 0, 0, 0, 0, 0, 0, 0, 0, 0, 0, 0, 0, 0, 0, 0, 0, 0, 0, 0, 0, 0, 0, 0, 0, 0, 0, 0, 0, 0, 0, 0, 0, 0, 0, 0, 0, 0, 0, 0, 0, 0, 0, 0, 0, 0, 0, 0, 0, 0, 0, 0, 0, 0, 0, 0, 0, 0, 0, 0, 0, 0, 0, 0, 0, 0, 0, 0, 0, 0, 0, 0, 0, 0, 0, 0, 0, 0, 0, 0, 0, 0, 0, 0, 0, 0, 0, 0, 0, 0, 0, 0, 0, 0, 0, 0, 0, 0, 0, 0, 0, 0, 0, 0, 0, 0, 0, 0, 0, 0, 0, 0, 0, 0, 0, 0, 0, 0, 0, 0, 0, 0, 0, 0, 0, 0, 0, 0, 0, 0, 0, 0, 0, 0, 0, 0, 0, 0, 0, 0, 0, 0, 0, 0, 0, 0, 0, 0, 0, 0, 0, 0, 0, 0, 0, 0, 0, 0, 0, 0, 0, 0, 0, 0, 0, 0, 0, 0, 0, 0, 0, 0, 0, 0, 0, 0, 0, 0, 0, 0, 0, 0, 0, 0, 0, 0, 0, 0, 0, 0, 0, 0, 0, 0, 0, 0, 0, 0, 0, 0, 0, 0, 0, 0, 0, 0, 0, 0, 0, 0, 0, 0, 0, 0, 0, 0, 0, 0, 0, 0, 0, 0, 0, 0, 0, 0, 0, 0, 0, 0, 0, 0, 0, 0, 0, 0, 0, 0, 0, 0, 0, 0, 0, 0, 0, 0, 0, 0, 0, 0, 0, 0, 0, 0, 0, 0, 0, 0, 0, 0, 0, 0, 0, 0, 0, 0, 0, 0, 0, 0, 0, 0, 0, 0, 0, 0, 0, 0, 0, 0, 0, 0, 0, 0, 0, 0, 0, 0, 0, 0, 0, 0, 0, 0, 0, 0, 0, 0, 0, 0, 0, 0, 0, 0, 0, 0, 0, 0, 0, 0, 0, 0, 0, 0, 0, 0, 0, 0, 0, 0, 0, 0, 0, 0, 0, 0, 0, 0, 0, 0, 0, 0, 0, 0, 0, 0, 0, 0, 0, 0, 0, 0, 0, 0, 0, 0, 0, 0, 0, 0, 0, 0, 0, 0, 0, 0, 0, 0, 0, 0, 0, 0, 0, 0, 0, 0, 0, 0, 0, 0, 0, 0, 0, 0, 0, 0, 0, 0, 0, 0, 0, 0, 0, 0, 0, 0, 0, 0, 0, 0, 0, 0, 0, 0, 0, 0, 0, 0, 0, 0, 0, 0, 0, 0, 0, 0, 0, 0, 0, 0, 0, 0, 0, 0, 0, 0, 0, 0, 0, 0, 0, 0, 0, 0, 0, 0, 0, 0, 0, 0, 0, 0, 0, 0, 0, 0, 0, 0, 0, 0, 0, 0, 0, 0, 0, 0, 0, 0, 0, 0, 0, 0, 0, 0, 0, 0, 0, 0, 0, 0, 0, 0, 0, 0, 0, 0, 0, 0, 0, 0, 0, 0, 0, 0, 0, 0, 0, 0, 0, 0, 0, 0, 0, 0, 0, 0, 0, 0, 0, 0, 0, 0, 0, 0, 0, 1, 0, 0, 0, 0, 0, 0, 0, 0, 0, 0, 0, 0, 0, 0, 0, 0, 0, 0, 0, 0, 0, 0, 0, 0, 0, 0, 0, 0, 0, 0, 0, 0, 0, 0, 0, 0, 0, 0, 0, 0, 0, 0, 0, 0, 0, 0, 0, 0, 0, 0, 0, 0, 0, 0, 0, 0, 0, 0, 0, 0, 0, 0, 0, 0, 0, 0, 0, 0, 0, 0, 0, 0, 0, 0, 1, 0, 0, 0, 0, 0, 0, 0, 0, 0, 0, 0, 0, 0, 0, 0, 0, 0, 0, 0, 0, 1, 0, 0, 1, 0, 0, 0, 0, 0, 0, 0, 0, 0, 0, 0, 0, 0, 0, 0, 0, 0, 0, 0, 0, 0, 0, 0, 0, 0, 0, 0, 0, 0, 0, 0, 0, 0, 0, 0, 0, 0, 0, 0, 0, 0, 0, 0, 0, 0, 0, 0, 0, 0, 0, 0, 0, 0, 0, 0, 0, 0, 0, 0, 0, 0, 0, 0, 0, 0, 0, 0, 0, 0, 0, 0, 0, 0, 0, 0, 0, 0, 0, 0, 0, 0, 0, 0, 0, 0, 0, 0, 0, 0, 0, 0, 0, 0, 0, 0, 0, 0, 0, 0, 0, 0, 0, 0, 0, 0, 0, 0, 0, 0, 0, 0, 0, 0, 0, 0, 0, 0, 0, 0, 0, 0, 0, 0, 0, 0, 0, 0, 0, 0, 0, 0, 0, 0, 0, 0, 0, 0, 0, 0, 0, 0, 0, 0, 0, 0, 0, 0, 0, 0, 0, 0, 0, 0, 0, 0, 0, 0, 0, 0, 0, 0, 0, 0, 0, 0, 0, 0, 0, 0, 0, 0, 0, 0, 0, 0, 0, 0, 0, 0, 0, 0, 0, 0, 0, 0, 0, 0, 0, 0, 0, 0, 0, 0, 0, 0, 0, 0, 0, 0, 0, 0, 0, 0, 0, 0, 0, 0, 0, 0, 0, 0, 0, 0, 0, 0, 0, 0, 0, 0, 0, 0, 0, 0, 0, 0, 0, 0, 0, 0, 0, 0, 0, 0, 0, 0, 0, 0, 0, 0, 0, 0, 0, 0, 0, 0, 0, 0, 0, 0, 0, 0, 0, 0, 0, 0, 0, 0, 0, 0, 0, 0, 0, 0, 0, 0, 0, 0, 0, 0, 0, 0, 0, 0, 0, 0, 0, 0, 0, 0, 0, 0, 0, 0, 0, 0, 0, 0, 0, 0, 0, 0, 0, 0, 0, 0, 0, 0, 0, 0, 0, 0, 0, 0, 0, 0, 0, 0, 0, 0, 0, 0, 0, 0, 0, 0, 0, 0, 0, 0, 0, 0, 0, 0, 0, 0, 0, 0, 0, 0, 0, 0, 0, 0, 0, 0, 0, 0, 0, 0, 0, 0, 0, 0, 0, 0, 0, 0, 0, 0, 0, 0, 0, 0, 0, 0, 0, 0, 0, 0, 0, 0, 0, 0, 0, 0, 0, 0, 0, 0, 0, 0, 0, 0, 0, 0, 0, 0, 0, 0, 0, 0, 0, 0, 0, 0, 0, 0, 0, 0, 0, 0, 0, 0, 0, 0, 0, 0, 0, 0, 0, 0, 0, 0, 0, 0, 0, 0, 0, 0, 0, 0, 0, 0, 0, 0, 0, 0, 0, 0, 0, 0, 0, 0, 0, 0, 0, 0, 0, 0, 0, 0, 0, 0, 0, 0, 0, 0, 0, 0, 0, 0, 0, 0, 0, 0, 0, 0, 0, 0, 0, 0, 0, 0, 0, 0, 0, 0, 0, 0, 0, 0, 0, 0, 0, 0, 0, 1, 0, 0, 0, 0, 0, 0, 0, 0, 0, 0, 0, 0, 0, 0, 0, 0, 0, 0, 0, 0, 0, 0, 0, 0, 0, 0, 0, 0, 0, 0, 0, 0, 0, 0, 0, 0, 0, 0, 0, 0, 0, 0, 0, 0, 0, 0, 0, 0, 0, 0, 0, 0, 0, 0, 0, 0, 0, 0, 0, 0, 0, 0, 0, 0, 0, 0, 0, 0, 0, 0, 0, 0, 0, 0, 0, 0, 0, 0, 0, 0, 0, 0, 0, 0, 0, 0, 0, 0, 0, 0, 0, 0, 0, 0, 0, 0, 0, 0, 0, 0, 0, 0, 0, 0, 0, 0, 0, 0, 0, 0, 0, 0, 0, 0, 0, 0, 0, 0, 0, 0, 0, 0, 0, 0, 0, 0, 0, 0, 0, 0, 0, 0, 0, 0, 0, 0, 0, 0, 0, 0, 0, 0, 0, 0, 0, 0, 0, 0, 0, 0, 0, 0, 0, 0, 0, 0, 0, 0, 0, 0, 0, 0, 0, 0, 0, 0, 0, 0, 0, 0, 0, 0, 0, 0, 0, 0, 0, 0, 0, 0, 0, 0, 0, 0, 0, 0, 0, 0, 0, 0, 0, 0, 0, 0, 0, 0, 0, 0, 0, 0, 0, 0, 0, 0, 0, 0, 0, 0, 0, 0, 0, 0, 0, 0, 0, 0, 0, 0, 0, 0, 0, 0, 0, 0, 0, 0, 0, 0, 0, 0, 0, 0, 0, 0, 0, 0, 0, 0, 0, 0, 0, 0, 0, 0, 0, 0, 0, 0, 0, 0, 0, 0, 0, 0, 0, 0, 0, 0, 0, 0, 0, 0, 0, 0, 0, 0, 0, 0, 0, 0, 0, 0, 0, 0, 0, 0, 0, 0, 0, 0, 0, 0, 0, 0, 0, 0, 0, 0, 0, 0, 0, 0, 0, 0, 0, 0, 0, 0, 0, 0, 0, 0, 0, 0, 0, 0, 0, 0, 0, 0, 0, 0, 0, 0, 0, 0, 0, 0, 0, 0, 0, 0, 0, 0, 0, 0, 0, 0, 0, 0, 0, 0, 0, 0, 0, 0, 0, 0, 0, 0, 0, 0, 0, 0, 0, 0, 0, 0, 0, 0, 0, 0, 0, 0, 0, 0, 0, 0, 0, 0, 0, 0, 0, 0, 0, 0, 0, 0, 0, 0, 0, 0, 0, 0, 0, 0, 0, 0, 0, 0, 0, 0, 0, 0, 0, 0, 0, 0, 0, 0, 0, 0, 0, 0, 0, 0, 0, 0, 0, 0, 0, 0, 0, 0, 0, 0, 0, 0, 0, 0, 0, 0, 0, 0, 0, 0, 0, 0, 0, 0, 0, 0, 0, 0, 0, 0, 0, 0, 0, 0, 0, 0, 0, 0, 0, 0, 0, 0, 0, 0, 0, 0, 0, 0, 0, 0, 0, 0, 0, 0, 0, 0, 0, 0, 0, 0, 0, 0, 0, 0, 0, 0, 0, 0, 0, 0, 0, 0, 0, 0, 0, 0, 0, 0, 0, 0, 0, 0, 0, 0, 0, 0, 0, 0, 0, 0, 0, 0, 0, 0, 0, 0, 0, 0, 0, 0, 0, 0, 0, 0, 0, 0, 0, 0, 0, 0, 0, 0, 0, 0, 0, 0, 1, 0, 0, 0, 0, 0, 0, 0, 0, 0, 0, 0, 0, 0, 0, 0, 0, 0, 0, 0, 0, 0, 0, 0, 0, 0, 0, 0, 0, 0, 0, 0, 0, 0, 0, 0, 2, 0, 0, 0, 0, 0, 0, 0, 0, 0, 0, 0, 0, 0, 0, 0, 0, 0, 0, 0, 0, 0, 0, 0, 0, 0, 0, 0, 0, 0, 0, 0, 0, 0, 0, 0, 0, 0, 0, 0, 0, 1, 0, 0, 0, 0, 0, 0, 0, 0, 0, 0, 0, 0, 0, 0, 0, 0, 0, 0, 0, 0, 0, 0, 0, 0, 0, 0, 0, 0, 0, 0, 0, 0, 0, 0, 0, 0, 0, 0, 0, 0, 0, 0, 0, 0, 0, 0, 0, 0, 0, 0, 0, 0, 0, 0, 0, 0, 0, 0, 0, 0, 0, 0, 0, 0, 0, 0, 0, 0, 0, 0, 0, 0, 0, 0, 0, 0, 0, 0, 0, 0, 0, 0, 0, 0, 0, 0, 0, 0, 0, 0, 0, 0, 0, 0, 0, 0, 0, 0, 0, 0, 0, 0, 0, 0, 0, 0, 0, 0, 0, 0, 0, 0, 0, 0, 0, 0, 0, 0, 0, 0, 0, 0, 0, 0, 0, 0, 0, 0, 0, 0, 0, 0, 0, 0, 0, 0, 0, 0, 0, 0, 0, 0, 0, 0, 0, 0, 0, 0, 0, 0, 0, 0, 0, 0, 0, 0, 0, 0, 0, 0, 0, 0, 0, 0, 0, 0, 0, 0, 0, 0, 0, 0, 0, 0, 0, 0, 0, 0, 0, 0, 0, 0, 0, 0, 0, 0, 0, 0, 0, 0, 0, 0, 0, 0, 0, 0, 0, 0, 0, 0, 0, 0, 0, 0, 0, 0, 0, 0, 0, 0, 0, 0, 0, 0, 0, 0, 0, 0, 0, 0, 0, 0, 0, 0, 0, 0, 0, 0, 0, 0, 0, 0, 0, 0, 0, 0, 0, 0, 0, 0, 0, 0, 0, 0, 0, 0, 0, 0, 0, 0, 0, 0, 0, 0, 0, 0, 0, 0, 0, 0, 0, 0, 0, 0, 0, 0, 0, 0, 0, 0, 0, 0, 0, 0, 0, 0, 0, 0, 0, 0, 0, 0, 0, 0, 0, 0, 0, 0, 0, 0, 0, 0, 0, 0, 0, 0, 0, 0, 0, 0, 0, 0, 0, 0, 0, 0, 0, 0, 0, 0, 0, 0, 0, 0, 0, 0, 0, 0, 0, 0, 0, 0, 0, 0, 0, 0, 0, 0, 0, 0, 0, 0, 0, 0, 0, 0, 0, 0, 0, 0, 0, 0, 0, 0, 0, 0, 0, 0, 0, 0, 0, 0, 0, 0, 0, 0, 0, 0, 0, 0, 0, 0, 0, 0, 0, 0, 0, 0, 0, 0, 0, 0, 0, 0, 0, 0, 0, 0, 0, 0, 0, 0, 0, 0, 0, 0, 0, 0, 0, 0, 0, 0, 0, 0, 0, 0, 0, 0, 0, 0, 0, 0, 0, 0, 0, 0, 0, 0, 0, 0, 0, 0, 0, 0, 0, 0, 0, 0, 0, 0, 0, 0, 0, 0, 0, 0, 0, 0, 0, 0, 0, 0, 0, 0, 0, 0, 0, 0, 0, 0, 0, 0, 0, 0, 0, 0, 0, 0, 0, 0, 0, 0, 0, 0, 0, 0, 0, 0, 0, 0, 0, 0, 0, 0, 0, 0, 0, 0, 0, 0, 0, 0, 0, 0, 0, 0, 0, 0, 0, 0, 0, 0, 0, 0, 0, 0, 0, 0, 0, 0, 0, 0, 0, 0, 0, 0, 0, 1, 0, 0, 0, 0, 0, 0, 0, 0, 0, 0, 0, 0, 0, 0, 0, 0, 0, 0, 0, 0, 0, 0, 0, 0, 0, 0, 0, 0, 0, 0, 0, 0, 0, 0, 0, 0, 0, 0, 0, 0, 0, 0, 0, 0, 0, 0, 0, 0, 0, 0, 0, 0, 0, 0, 0, 0, 0, 0, 0, 0, 0, 0, 0, 0, 0, 0, 0, 0, 0, 0, 0, 0, 0, 0, 0, 0, 0, 0, 0, 0, 0, 0, 0, 0, 0, 0, 0, 0, 0, 0, 0, 0, 0, 0, 0, 0, 0, 0, 0, 0, 0, 0, 0, 0, 0, 0, 0, 0, 0, 0, 2, 0, 0, 0, 0, 0, 0, 0, 0, 0, 0, 0, 0, 0, 0, 0, 0, 0, 0, 0, 0, 0, 0, 0, 0, 0, 0, 0, 0, 0, 0, 0, 0, 0, 0, 0, 0, 0, 0, 0, 0, 0, 0, 0, 0, 0, 0, 0, 0, 0, 0, 0, 0, 0, 0, 0, 0, 0, 0, 0, 0, 0, 0, 0, 0, 0, 0, 0, 0, 0, 0, 0, 0, 0, 0, 0, 0, 0, 0, 0, 0, 0, 0, 0, 0, 0, 0, 0, 0, 0, 0, 0, 0, 0, 0, 0, 0, 0, 0, 0, 0, 0, 0, 0, 0, 0, 0, 0, 0, 0, 0, 0, 0, 0, 0, 0, 0, 0, 0, 0, 0, 0, 0, 0, 0, 0, 0, 0, 0, 0, 0, 0, 0, 0, 0, 0, 0, 0, 0, 0, 0, 0, 0, 0, 0, 0, 0, 0, 0, 0, 0, 0, 0, 0, 0, 0, 0, 0, 0, 0, 0, 0, 0, 0, 0, 0, 0, 0, 0, 0, 0, 0, 0, 0, 0, 0, 0, 0, 0, 0, 0, 0, 0, 0, 0, 0, 0, 0, 0, 0, 0, 0, 0, 0, 0, 0, 0, 0, 0, 0, 0, 0, 0, 0, 0, 0, 0, 0, 0, 0, 0, 0, 0, 0, 0, 0, 0, 0, 0, 0, 0, 0, 0, 0, 0, 0, 0, 0, 0, 0, 0, 0, 0, 0, 0, 0, 0, 0, 0, 0, 0, 0, 0, 0, 0, 0, 0, 0, 0, 0, 0, 0, 0, 0, 0, 0, 0, 0, 0, 0, 0, 0, 0, 0, 0, 0, 0, 0, 0, 0, 0, 0, 0, 0, 0, 0, 0, 0, 0, 0, 0, 0, 0, 0, 0, 0, 0, 0, 0, 0, 0, 0, 0, 0, 0, 0, 0, 0, 0, 0, 0, 0, 0, 0, 0, 0, 0, 0, 0, 0, 0, 0, 0, 0, 0, 0, 0, 0, 0, 0, 0, 0, 0, 0, 0, 0, 0, 0, 0, 0, 0, 0, 0, 0, 0, 0, 0, 0, 0, 0, 0, 0, 0, 0, 0, 0, 0, 0, 0, 0, 0, 0, 0, 0, 0, 0, 0, 0, 0, 0, 0, 0, 0, 0, 0, 0, 0, 0, 0, 0, 0, 0, 0, 0, 0, 0, 0, 0, 0, 0, 0, 0, 0, 0, 0, 0, 0, 0, 0, 0, 0, 0, 0, 0, 0, 0, 0, 0, 0, 0, 0, 0, 0, 0, 0, 0, 0, 0, 0, 0, 0, 0, 0, 0, 0, 0, 0, 0, 0, 0, 0, 0, 0, 0, 0, 0, 0, 0, 0, 0, 0, 0, 0, 0, 0, 0, 0, 0, 0, 0, 0, 0, 0, 0, 0, 0, 0, 0, 0, 0, 0, 0, 0, 0, 0, 0, 0, 0, 0, 0, 0, 0, 0, 0, 0, 0, 0, 0, 0, 0, 0, 0, 0, 0, 0, 0, 0, 0, 0, 0, 0, 0, 0, 0, 0, 0, 0, 0, 0, 0, 0, 0, 0, 0, 0, 0, 0, 0, 0, 0, 0, 0, 0, 0, 0, 0, 0, 0, 0, 0, 0, 0, 0, 0, 0, 0, 0, 0, 0, 0, 0, 0, 0, 0, 0, 0, 0, 0, 0, 0, 0, 0, 0, 0, 0, 0, 0, 0, 0, 0, 0, 0, 0, 0, 0, 0, 0, 0, 0, 0, 0, 0, 0, 0, 0, 0, 0, 0, 0, 0, 0, 0, 0, 0, 0, 0, 0, 0, 0, 0, 0, 0, 0, 0, 0, 0, 0, 0, 0, 0, 0, 0, 0, 0, 0, 0, 0, 0, 0, 0, 0, 0, 0, 0, 0, 0, 0, 0, 0, 0, 0, 0, 0, 0, 0, 0, 0, 0, 0, 0, 0, 0, 0, 0, 0, 0, 0, 0, 0, 0, 0, 0, 0, 0, 0, 0, 0, 0, 0, 0, 0, 0, 0, 0, 0, 0, 0, 0, 0, 0, 0, 0, 0, 0, 0, 0, 0, 0, 0, 0, 0, 0, 0, 0, 0, 0, 0, 0, 0, 0, 0, 0, 0, 0, 0, 0, 0, 0, 0, 0, 0, 0, 0, 0, 0, 0, 0, 0, 0, 0, 0, 0, 0, 0, 0, 0, 0, 0, 0, 0, 0, 1, 0, 0, 0, 0, 0, 0, 0, 0, 0, 0, 0, 0, 0, 0, 0, 0, 0, 0, 0, 0, 0, 0, 0, 0, 0, 0, 0, 0, 0, 0, 0, 0, 0, 0, 0, 0, 0, 0, 0, 0, 0, 0, 0, 0, 0, 0, 0, 0, 0, 0, 0, 0, 0, 0, 0, 0, 0, 0, 0, 0, 0, 0, 0, 0, 0, 0, 0, 0, 0, 0, 0, 0, 0, 0, 0, 0, 0, 0, 0, 0, 0, 0, 0, 0, 0, 0, 0, 0, 0, 0, 0, 0, 0, 0, 0, 0, 0, 0, 0, 0, 0, 0, 0, 0, 0, 0, 0, 1, 0, 0, 0, 0, 0, 0, 0, 0, 0, 0, 0, 0, 0, 0, 0, 0, 0, 0, 0, 0, 0, 0, 0, 0, 0, 0, 0, 0, 0, 0, 0, 0, 0, 0, 0, 0, 0, 0, 0, 0, 0, 0, 0, 0, 0, 0, 0, 0, 0, 0, 0, 0, 0, 0, 0, 0, 0, 0, 0, 0, 0, 0, 0, 0, 0, 0, 0, 0, 0, 0, 0, 0, 0, 0, 0, 0, 0, 0, 0, 0, 0, 0, 0, 0, 0, 0, 0, 0, 0, 0, 0, 0, 0, 0, 0, 0, 0, 0, 0, 0, 0, 0, 0, 0, 0, 0, 0, 0, 0, 0, 0, 0, 0, 0, 0, 0, 0, 0, 0, 0, 0, 0, 0, 0, 0, 0, 0, 0, 0, 0, 0, 0, 0, 0, 0, 0, 0, 0, 0, 0, 0, 0, 0, 0, 0, 0, 0, 0, 0, 0, 0, 0, 0, 0, 0, 0, 0, 0, 0, 0, 0, 0, 0, 0, 0, 0, 0, 0, 0, 0, 0, 0, 0, 0, 0, 0, 0, 0, 0, 0, 0, 0, 0, 0, 0, 0, 0, 0, 0, 0, 0, 0, 0, 0, 0, 0, 0, 0, 0, 0, 0, 0, 0, 0, 0, 0, 0, 0, 0, 0, 0, 0, 0, 0, 0, 0, 0, 0, 0, 0, 0, 0, 0, 0, 0, 0, 0, 0, 0, 0, 0, 0, 0, 0, 0, 0, 0, 0, 0, 0, 0, 0, 0, 0, 0, 0, 0, 0, 0, 0, 0, 0, 0, 0, 0, 0, 0, 0, 0, 0, 0, 0, 0, 0, 0, 0, 0, 0, 0, 0, 0, 0, 0, 0, 0, 0, 0, 0, 0, 0, 0, 0, 0, 0, 0, 0, 0, 0, 0, 0, 0, 0, 0, 0, 0, 0, 0, 0, 0, 0, 0, 0, 0, 0, 0, 0, 0, 0, 0, 0, 0, 0, 0, 0, 0, 0, 0, 0, 0, 0, 0, 0, 0, 0, 0, 0, 0, 0, 0, 0, 0, 0, 0, 0, 0, 0, 0, 0, 0, 0, 0, 0, 0, 0, 0, 0, 0, 0, 0, 0, 0, 0, 0, 0, 0, 0, 0, 0, 0, 0, 0, 0, 0, 0, 0, 0, 0, 0, 0, 0, 0, 0, 0, 0, 0, 0, 0, 0, 0, 0, 0, 0, 0, 0, 0, 0, 0, 0, 0, 0, 0, 0, 0, 0, 0, 0, 0, 0, 0, 0, 0, 0, 0, 0, 0, 0, 0, 0, 0, 0, 0, 0, 0, 0, 0, 0, 0, 0, 0, 0, 0, 0, 0, 0, 0, 0, 0, 0, 0, 0, 0, 0, 0, 0, 0, 0, 0, 0, 0, 0, 0, 0, 0, 0, 0, 0, 0, 0, 0, 0, 0, 0, 0, 0, 0, 0, 0, 0, 0, 0, 0, 0, 0, 2, 0, 1, 0]\n"
     ]
    }
   ],
   "source": [
    "test_bow = bow_encoding(test_words, vocabulary)\n",
    "print(test_bow)"
   ]
  },
  {
   "cell_type": "code",
   "execution_count": 28,
   "metadata": {},
   "outputs": [
    {
     "data": {
      "text/plain": [
       "5000"
      ]
     },
     "execution_count": 28,
     "metadata": {},
     "output_type": "execute_result"
    }
   ],
   "source": [
    "len(test_bow)"
   ]
  },
  {
   "cell_type": "markdown",
   "metadata": {},
   "source": [
    "So now we know how to construct a bag of words encoding of a user provided review, how to we send it to our endpoint? First, we need to start the endpoint back up."
   ]
  },
  {
   "cell_type": "code",
   "execution_count": 29,
   "metadata": {},
   "outputs": [
    {
     "name": "stdout",
     "output_type": "stream",
     "text": [
      "-----------!"
     ]
    }
   ],
   "source": [
    "xgb_predictor = xgb.deploy(initial_instance_count = 1, instance_type = 'ml.m4.xlarge')"
   ]
  },
  {
   "cell_type": "markdown",
   "metadata": {},
   "source": [
    "At this point we could just do the same thing that we did earlier when we tested our deployed model and send `test_bow` to our endpoint using the `xgb_predictor` object. However, when we eventually construct our Lambda function we won't have access to this object, so how do we call a SageMaker endpoint?\n",
    "\n",
    "It turns out that Python functions that are used in Lambda have access to another Amazon library called `boto3`. This library provides an API for working with Amazon services, including SageMaker. To start with, we need to get a handle to the SageMaker runtime."
   ]
  },
  {
   "cell_type": "code",
   "execution_count": 30,
   "metadata": {},
   "outputs": [],
   "source": [
    "import boto3\n",
    "\n",
    "runtime = boto3.Session().client('sagemaker-runtime')"
   ]
  },
  {
   "cell_type": "markdown",
   "metadata": {},
   "source": [
    "And now that we have access to the SageMaker runtime, we can ask it to make use of (invoke) an endpoint that has already been created. However, we need to provide SageMaker with the name of the deployed endpoint. To find this out we can print it out using the `xgb_predictor` object."
   ]
  },
  {
   "cell_type": "code",
   "execution_count": 31,
   "metadata": {},
   "outputs": [
    {
     "data": {
      "text/plain": [
       "'xgboost-2020-04-14-21-32-45-352'"
      ]
     },
     "execution_count": 31,
     "metadata": {},
     "output_type": "execute_result"
    }
   ],
   "source": [
    "xgb_predictor.endpoint"
   ]
  },
  {
   "cell_type": "markdown",
   "metadata": {},
   "source": [
    "Using the SageMaker runtime and the name of our endpoint, we can invoke the endpoint and send it the `test_bow` data."
   ]
  },
  {
   "cell_type": "code",
   "execution_count": 32,
   "metadata": {},
   "outputs": [
    {
     "ename": "ParamValidationError",
     "evalue": "Parameter validation failed:\nInvalid type for parameter Body, value: [0, 0, 0, 0, 0, 0, 0, 0, 0, 0, 0, 0, 0, 0, 0, 0, 0, 0, 0, 0, 0, 0, 0, 0, 0, 0, 0, 0, 0, 0, 0, 0, 0, 0, 0, 0, 0, 0, 0, 0, 0, 0, 0, 0, 0, 0, 0, 0, 0, 0, 0, 0, 0, 0, 0, 0, 0, 0, 0, 0, 0, 0, 0, 0, 0, 0, 0, 0, 0, 0, 0, 0, 0, 0, 0, 0, 0, 0, 0, 0, 0, 0, 0, 0, 0, 0, 0, 0, 0, 0, 0, 0, 0, 0, 0, 0, 0, 0, 0, 0, 0, 0, 0, 0, 0, 0, 0, 0, 0, 0, 0, 0, 0, 0, 0, 0, 0, 0, 0, 0, 0, 0, 0, 0, 0, 0, 0, 0, 0, 0, 0, 0, 0, 0, 0, 0, 0, 0, 0, 0, 0, 0, 0, 0, 0, 0, 0, 0, 0, 0, 0, 0, 0, 0, 0, 0, 0, 0, 0, 0, 0, 0, 0, 0, 0, 0, 0, 0, 0, 0, 0, 0, 0, 0, 0, 0, 0, 0, 0, 0, 0, 0, 0, 0, 0, 0, 0, 0, 0, 0, 0, 0, 0, 0, 0, 0, 0, 0, 0, 0, 0, 0, 0, 0, 0, 0, 0, 0, 0, 0, 0, 0, 0, 0, 0, 0, 0, 0, 0, 0, 0, 0, 0, 0, 0, 0, 1, 0, 0, 0, 0, 0, 0, 0, 0, 0, 0, 0, 0, 0, 0, 0, 0, 0, 0, 0, 0, 0, 0, 0, 0, 0, 0, 0, 0, 0, 1, 0, 0, 0, 0, 0, 0, 0, 0, 0, 0, 0, 0, 0, 0, 0, 0, 0, 0, 0, 0, 0, 0, 0, 0, 0, 0, 0, 0, 0, 0, 0, 0, 0, 0, 0, 0, 0, 0, 0, 0, 0, 0, 0, 0, 0, 0, 0, 0, 0, 0, 0, 0, 0, 0, 0, 0, 0, 0, 0, 0, 0, 0, 0, 0, 0, 0, 0, 0, 0, 0, 0, 0, 0, 0, 0, 0, 0, 0, 0, 0, 0, 0, 0, 0, 0, 0, 0, 0, 0, 0, 0, 0, 0, 0, 0, 0, 0, 0, 0, 0, 0, 0, 0, 0, 0, 0, 0, 0, 0, 0, 0, 0, 0, 0, 0, 0, 0, 0, 0, 0, 0, 0, 0, 0, 0, 0, 0, 0, 0, 0, 0, 0, 0, 0, 0, 0, 0, 0, 0, 0, 0, 0, 0, 0, 0, 0, 0, 0, 0, 0, 0, 0, 0, 0, 0, 0, 0, 0, 0, 0, 0, 0, 0, 0, 0, 0, 0, 0, 0, 0, 0, 0, 0, 0, 0, 0, 0, 0, 0, 0, 0, 0, 0, 0, 0, 0, 0, 0, 0, 0, 0, 0, 0, 0, 0, 0, 0, 0, 0, 0, 0, 0, 0, 0, 0, 0, 0, 0, 0, 0, 0, 0, 0, 0, 0, 0, 0, 0, 0, 0, 0, 0, 0, 0, 0, 0, 0, 0, 0, 0, 0, 0, 0, 0, 0, 0, 0, 0, 0, 0, 0, 0, 0, 0, 0, 0, 0, 0, 0, 0, 0, 0, 0, 0, 0, 0, 0, 0, 0, 0, 0, 0, 0, 0, 0, 0, 0, 0, 0, 0, 0, 0, 0, 0, 0, 0, 0, 0, 0, 0, 0, 0, 0, 0, 0, 0, 0, 0, 0, 0, 0, 0, 0, 0, 0, 0, 0, 0, 0, 0, 0, 0, 0, 0, 0, 0, 0, 0, 0, 0, 0, 0, 0, 0, 0, 0, 0, 0, 0, 0, 0, 0, 0, 0, 0, 0, 0, 0, 0, 0, 0, 0, 0, 0, 0, 0, 0, 0, 0, 0, 0, 0, 0, 0, 0, 0, 0, 0, 0, 0, 0, 0, 0, 0, 0, 0, 0, 0, 0, 0, 0, 0, 0, 0, 0, 0, 0, 0, 0, 0, 0, 0, 0, 0, 0, 0, 0, 0, 0, 1, 0, 0, 0, 0, 0, 0, 0, 0, 0, 0, 0, 0, 0, 0, 0, 0, 0, 0, 0, 0, 0, 0, 0, 0, 0, 0, 0, 0, 0, 0, 0, 0, 0, 0, 0, 0, 0, 0, 0, 0, 0, 0, 0, 0, 0, 0, 0, 0, 0, 0, 0, 0, 0, 0, 0, 0, 0, 0, 0, 0, 0, 0, 0, 0, 0, 0, 0, 0, 0, 0, 0, 0, 0, 0, 0, 0, 0, 0, 0, 0, 0, 0, 0, 0, 0, 0, 0, 0, 0, 0, 0, 0, 0, 0, 0, 0, 0, 0, 0, 0, 0, 0, 0, 0, 0, 0, 0, 0, 0, 0, 0, 0, 0, 0, 0, 0, 0, 0, 0, 0, 0, 0, 0, 0, 0, 0, 0, 0, 0, 0, 0, 0, 0, 0, 0, 0, 0, 0, 0, 0, 0, 0, 0, 0, 0, 0, 0, 0, 0, 0, 0, 0, 0, 0, 0, 0, 0, 0, 0, 0, 0, 0, 0, 0, 0, 0, 0, 0, 0, 0, 0, 0, 0, 0, 0, 0, 0, 0, 0, 0, 0, 0, 0, 0, 0, 0, 0, 0, 0, 0, 0, 0, 0, 0, 0, 0, 0, 0, 0, 0, 0, 0, 0, 0, 0, 0, 0, 0, 0, 0, 0, 0, 0, 0, 0, 0, 0, 0, 0, 0, 0, 0, 0, 0, 0, 0, 0, 0, 0, 0, 0, 0, 0, 0, 0, 0, 0, 0, 0, 0, 0, 0, 0, 0, 0, 0, 0, 0, 0, 0, 0, 0, 0, 1, 0, 0, 0, 0, 0, 0, 0, 0, 0, 0, 0, 0, 0, 0, 0, 0, 0, 0, 0, 0, 0, 0, 0, 0, 0, 0, 0, 0, 0, 0, 0, 0, 0, 0, 0, 0, 0, 0, 0, 0, 0, 0, 0, 0, 0, 0, 0, 0, 0, 0, 0, 0, 0, 0, 0, 0, 0, 0, 0, 0, 0, 0, 0, 0, 0, 0, 0, 0, 0, 0, 0, 0, 0, 0, 0, 0, 0, 0, 0, 0, 0, 0, 0, 0, 0, 0, 1, 0, 0, 0, 0, 0, 0, 0, 0, 0, 0, 0, 0, 0, 0, 0, 0, 0, 0, 0, 0, 0, 0, 0, 0, 0, 0, 0, 0, 0, 0, 0, 0, 0, 0, 0, 0, 0, 0, 0, 0, 0, 0, 0, 0, 0, 0, 0, 0, 0, 0, 0, 0, 0, 0, 0, 0, 0, 0, 0, 0, 0, 0, 0, 0, 0, 0, 0, 0, 0, 0, 0, 0, 0, 0, 0, 0, 0, 0, 0, 0, 0, 0, 0, 0, 0, 0, 0, 0, 0, 0, 0, 0, 0, 0, 0, 0, 0, 0, 0, 0, 0, 0, 0, 0, 0, 0, 0, 0, 0, 0, 0, 0, 0, 0, 0, 0, 0, 0, 0, 0, 0, 0, 0, 0, 0, 0, 0, 0, 0, 0, 0, 0, 0, 0, 0, 0, 0, 0, 0, 0, 0, 0, 0, 0, 0, 0, 0, 0, 0, 0, 0, 0, 0, 0, 0, 0, 0, 0, 0, 0, 0, 0, 0, 0, 0, 0, 0, 0, 0, 0, 0, 0, 0, 0, 0, 0, 0, 0, 0, 0, 0, 0, 0, 0, 0, 0, 0, 0, 0, 0, 0, 0, 0, 0, 0, 0, 0, 0, 0, 0, 0, 0, 0, 0, 0, 0, 0, 0, 0, 0, 0, 0, 0, 0, 0, 0, 0, 0, 0, 0, 0, 0, 0, 0, 0, 0, 0, 0, 0, 0, 0, 0, 0, 0, 0, 0, 0, 0, 0, 0, 0, 0, 0, 0, 0, 0, 0, 0, 0, 0, 0, 0, 1, 0, 0, 0, 0, 0, 0, 0, 0, 0, 0, 0, 0, 0, 0, 0, 0, 0, 0, 0, 0, 0, 0, 0, 0, 0, 0, 0, 0, 0, 0, 0, 0, 0, 0, 0, 0, 0, 0, 0, 0, 0, 0, 0, 0, 0, 0, 0, 0, 0, 0, 0, 0, 0, 0, 0, 1, 0, 0, 0, 0, 0, 0, 0, 0, 0, 0, 0, 0, 0, 0, 0, 0, 0, 0, 0, 0, 0, 0, 0, 0, 0, 0, 0, 0, 0, 0, 0, 0, 0, 0, 0, 0, 0, 0, 0, 0, 0, 0, 0, 0, 0, 0, 0, 0, 0, 0, 0, 0, 0, 0, 0, 0, 0, 0, 0, 0, 0, 0, 0, 0, 0, 0, 0, 0, 0, 0, 0, 0, 0, 0, 0, 0, 0, 0, 0, 0, 0, 0, 0, 0, 0, 0, 0, 0, 0, 0, 0, 0, 0, 0, 0, 0, 0, 0, 0, 0, 0, 0, 0, 0, 0, 0, 0, 0, 0, 0, 0, 0, 0, 0, 0, 0, 0, 0, 0, 0, 0, 0, 0, 0, 0, 0, 0, 0, 0, 0, 0, 0, 0, 0, 0, 0, 0, 0, 0, 0, 0, 0, 0, 0, 0, 0, 0, 0, 0, 0, 0, 0, 0, 0, 0, 0, 0, 0, 0, 0, 0, 0, 0, 0, 0, 0, 0, 0, 0, 0, 0, 0, 0, 0, 0, 0, 0, 0, 0, 0, 0, 0, 0, 0, 0, 0, 0, 0, 0, 0, 0, 0, 0, 0, 0, 0, 0, 0, 0, 0, 0, 0, 0, 0, 0, 0, 0, 0, 0, 0, 0, 0, 0, 0, 0, 0, 0, 0, 0, 0, 0, 0, 0, 0, 0, 0, 0, 0, 0, 0, 0, 0, 0, 0, 0, 0, 0, 0, 0, 0, 0, 0, 0, 0, 0, 0, 0, 0, 0, 0, 0, 0, 0, 0, 0, 0, 0, 0, 0, 0, 0, 0, 0, 0, 0, 0, 0, 0, 0, 0, 0, 0, 0, 0, 0, 0, 0, 0, 0, 0, 0, 0, 0, 0, 0, 0, 0, 0, 0, 0, 0, 0, 0, 0, 0, 0, 0, 0, 0, 0, 0, 0, 0, 0, 0, 0, 0, 0, 0, 0, 0, 0, 0, 0, 0, 0, 0, 0, 0, 0, 0, 0, 0, 0, 0, 0, 0, 0, 0, 0, 0, 0, 0, 0, 0, 0, 0, 0, 0, 0, 0, 0, 0, 0, 0, 0, 0, 0, 0, 0, 0, 0, 0, 0, 0, 0, 0, 0, 0, 0, 0, 0, 0, 0, 0, 0, 0, 0, 0, 0, 0, 0, 0, 0, 0, 0, 0, 0, 0, 0, 0, 0, 0, 0, 0, 0, 0, 0, 0, 0, 0, 0, 0, 0, 0, 0, 0, 0, 0, 0, 0, 0, 0, 0, 0, 0, 0, 0, 0, 0, 0, 0, 0, 0, 0, 0, 0, 0, 0, 0, 0, 0, 0, 0, 0, 0, 0, 0, 0, 0, 0, 0, 0, 0, 0, 0, 0, 0, 0, 0, 0, 0, 0, 0, 0, 0, 0, 0, 0, 0, 0, 0, 0, 0, 0, 0, 0, 0, 0, 0, 0, 0, 0, 0, 0, 0, 0, 0, 0, 0, 0, 0, 0, 0, 0, 0, 0, 0, 0, 0, 0, 0, 0, 0, 0, 0, 0, 0, 0, 0, 0, 0, 0, 0, 0, 0, 0, 0, 0, 0, 0, 0, 0, 0, 0, 0, 0, 0, 0, 0, 0, 0, 0, 0, 0, 0, 0, 0, 0, 0, 0, 0, 0, 0, 0, 0, 0, 0, 0, 0, 0, 0, 0, 0, 0, 0, 0, 0, 0, 0, 0, 0, 0, 0, 0, 0, 0, 0, 0, 0, 0, 0, 0, 0, 0, 0, 0, 0, 0, 0, 0, 0, 0, 0, 0, 0, 0, 0, 0, 0, 0, 0, 0, 0, 0, 0, 0, 0, 0, 0, 0, 0, 0, 0, 0, 0, 0, 0, 0, 0, 0, 0, 0, 0, 0, 0, 0, 0, 0, 0, 0, 0, 0, 0, 0, 0, 0, 0, 0, 0, 0, 0, 0, 0, 0, 0, 0, 0, 0, 0, 0, 0, 0, 0, 0, 0, 0, 0, 0, 0, 0, 0, 0, 0, 0, 0, 0, 0, 0, 0, 0, 0, 0, 0, 0, 0, 0, 0, 0, 0, 0, 0, 0, 0, 0, 0, 0, 0, 0, 0, 0, 0, 0, 0, 0, 0, 0, 0, 0, 0, 0, 0, 0, 0, 0, 0, 0, 0, 0, 0, 0, 1, 0, 0, 0, 0, 0, 0, 0, 0, 0, 0, 0, 0, 0, 0, 0, 0, 0, 0, 0, 0, 0, 0, 0, 0, 0, 0, 0, 0, 0, 0, 0, 0, 0, 0, 0, 0, 0, 0, 0, 0, 0, 0, 0, 0, 0, 0, 0, 0, 0, 0, 0, 0, 0, 0, 0, 0, 0, 0, 0, 0, 0, 0, 0, 0, 0, 0, 0, 0, 0, 0, 0, 0, 0, 0, 1, 0, 0, 0, 0, 0, 0, 0, 0, 0, 0, 0, 0, 0, 0, 0, 0, 0, 0, 0, 0, 1, 0, 0, 1, 0, 0, 0, 0, 0, 0, 0, 0, 0, 0, 0, 0, 0, 0, 0, 0, 0, 0, 0, 0, 0, 0, 0, 0, 0, 0, 0, 0, 0, 0, 0, 0, 0, 0, 0, 0, 0, 0, 0, 0, 0, 0, 0, 0, 0, 0, 0, 0, 0, 0, 0, 0, 0, 0, 0, 0, 0, 0, 0, 0, 0, 0, 0, 0, 0, 0, 0, 0, 0, 0, 0, 0, 0, 0, 0, 0, 0, 0, 0, 0, 0, 0, 0, 0, 0, 0, 0, 0, 0, 0, 0, 0, 0, 0, 0, 0, 0, 0, 0, 0, 0, 0, 0, 0, 0, 0, 0, 0, 0, 0, 0, 0, 0, 0, 0, 0, 0, 0, 0, 0, 0, 0, 0, 0, 0, 0, 0, 0, 0, 0, 0, 0, 0, 0, 0, 0, 0, 0, 0, 0, 0, 0, 0, 0, 0, 0, 0, 0, 0, 0, 0, 0, 0, 0, 0, 0, 0, 0, 0, 0, 0, 0, 0, 0, 0, 0, 0, 0, 0, 0, 0, 0, 0, 0, 0, 0, 0, 0, 0, 0, 0, 0, 0, 0, 0, 0, 0, 0, 0, 0, 0, 0, 0, 0, 0, 0, 0, 0, 0, 0, 0, 0, 0, 0, 0, 0, 0, 0, 0, 0, 0, 0, 0, 0, 0, 0, 0, 0, 0, 0, 0, 0, 0, 0, 0, 0, 0, 0, 0, 0, 0, 0, 0, 0, 0, 0, 0, 0, 0, 0, 0, 0, 0, 0, 0, 0, 0, 0, 0, 0, 0, 0, 0, 0, 0, 0, 0, 0, 0, 0, 0, 0, 0, 0, 0, 0, 0, 0, 0, 0, 0, 0, 0, 0, 0, 0, 0, 0, 0, 0, 0, 0, 0, 0, 0, 0, 0, 0, 0, 0, 0, 0, 0, 0, 0, 0, 0, 0, 0, 0, 0, 0, 0, 0, 0, 0, 0, 0, 0, 0, 0, 0, 0, 0, 0, 0, 0, 0, 0, 0, 0, 0, 0, 0, 0, 0, 0, 0, 0, 0, 0, 0, 0, 0, 0, 0, 0, 0, 0, 0, 0, 0, 0, 0, 0, 0, 0, 0, 0, 0, 0, 0, 0, 0, 0, 0, 0, 0, 0, 0, 0, 0, 0, 0, 0, 0, 0, 0, 0, 0, 0, 0, 0, 0, 0, 0, 0, 0, 0, 0, 0, 0, 0, 0, 0, 0, 0, 0, 0, 0, 0, 0, 0, 0, 0, 0, 0, 0, 0, 0, 0, 0, 0, 0, 0, 0, 0, 0, 0, 0, 0, 0, 0, 0, 0, 0, 0, 0, 0, 0, 0, 0, 0, 0, 0, 0, 0, 0, 0, 0, 0, 0, 0, 0, 0, 0, 0, 0, 0, 0, 0, 0, 0, 0, 0, 0, 0, 0, 0, 0, 0, 0, 0, 0, 0, 0, 0, 0, 0, 0, 0, 0, 0, 0, 0, 0, 1, 0, 0, 0, 0, 0, 0, 0, 0, 0, 0, 0, 0, 0, 0, 0, 0, 0, 0, 0, 0, 0, 0, 0, 0, 0, 0, 0, 0, 0, 0, 0, 0, 0, 0, 0, 0, 0, 0, 0, 0, 0, 0, 0, 0, 0, 0, 0, 0, 0, 0, 0, 0, 0, 0, 0, 0, 0, 0, 0, 0, 0, 0, 0, 0, 0, 0, 0, 0, 0, 0, 0, 0, 0, 0, 0, 0, 0, 0, 0, 0, 0, 0, 0, 0, 0, 0, 0, 0, 0, 0, 0, 0, 0, 0, 0, 0, 0, 0, 0, 0, 0, 0, 0, 0, 0, 0, 0, 0, 0, 0, 0, 0, 0, 0, 0, 0, 0, 0, 0, 0, 0, 0, 0, 0, 0, 0, 0, 0, 0, 0, 0, 0, 0, 0, 0, 0, 0, 0, 0, 0, 0, 0, 0, 0, 0, 0, 0, 0, 0, 0, 0, 0, 0, 0, 0, 0, 0, 0, 0, 0, 0, 0, 0, 0, 0, 0, 0, 0, 0, 0, 0, 0, 0, 0, 0, 0, 0, 0, 0, 0, 0, 0, 0, 0, 0, 0, 0, 0, 0, 0, 0, 0, 0, 0, 0, 0, 0, 0, 0, 0, 0, 0, 0, 0, 0, 0, 0, 0, 0, 0, 0, 0, 0, 0, 0, 0, 0, 0, 0, 0, 0, 0, 0, 0, 0, 0, 0, 0, 0, 0, 0, 0, 0, 0, 0, 0, 0, 0, 0, 0, 0, 0, 0, 0, 0, 0, 0, 0, 0, 0, 0, 0, 0, 0, 0, 0, 0, 0, 0, 0, 0, 0, 0, 0, 0, 0, 0, 0, 0, 0, 0, 0, 0, 0, 0, 0, 0, 0, 0, 0, 0, 0, 0, 0, 0, 0, 0, 0, 0, 0, 0, 0, 0, 0, 0, 0, 0, 0, 0, 0, 0, 0, 0, 0, 0, 0, 0, 0, 0, 0, 0, 0, 0, 0, 0, 0, 0, 0, 0, 0, 0, 0, 0, 0, 0, 0, 0, 0, 0, 0, 0, 0, 0, 0, 0, 0, 0, 0, 0, 0, 0, 0, 0, 0, 0, 0, 0, 0, 0, 0, 0, 0, 0, 0, 0, 0, 0, 0, 0, 0, 0, 0, 0, 0, 0, 0, 0, 0, 0, 0, 0, 0, 0, 0, 0, 0, 0, 0, 0, 0, 0, 0, 0, 0, 0, 0, 0, 0, 0, 0, 0, 0, 0, 0, 0, 0, 0, 0, 0, 0, 0, 0, 0, 0, 0, 0, 0, 0, 0, 0, 0, 0, 0, 0, 0, 0, 0, 0, 0, 0, 0, 0, 0, 0, 0, 0, 0, 0, 0, 0, 0, 0, 0, 0, 0, 0, 0, 0, 0, 0, 0, 0, 0, 0, 0, 0, 0, 0, 0, 0, 0, 0, 0, 0, 0, 0, 0, 0, 0, 0, 0, 0, 0, 0, 0, 0, 0, 0, 0, 0, 0, 0, 0, 0, 0, 0, 0, 0, 0, 0, 0, 0, 0, 0, 0, 0, 0, 0, 0, 0, 0, 0, 0, 0, 0, 0, 0, 0, 0, 0, 0, 0, 0, 0, 0, 0, 0, 0, 0, 0, 0, 0, 1, 0, 0, 0, 0, 0, 0, 0, 0, 0, 0, 0, 0, 0, 0, 0, 0, 0, 0, 0, 0, 0, 0, 0, 0, 0, 0, 0, 0, 0, 0, 0, 0, 0, 0, 0, 2, 0, 0, 0, 0, 0, 0, 0, 0, 0, 0, 0, 0, 0, 0, 0, 0, 0, 0, 0, 0, 0, 0, 0, 0, 0, 0, 0, 0, 0, 0, 0, 0, 0, 0, 0, 0, 0, 0, 0, 0, 1, 0, 0, 0, 0, 0, 0, 0, 0, 0, 0, 0, 0, 0, 0, 0, 0, 0, 0, 0, 0, 0, 0, 0, 0, 0, 0, 0, 0, 0, 0, 0, 0, 0, 0, 0, 0, 0, 0, 0, 0, 0, 0, 0, 0, 0, 0, 0, 0, 0, 0, 0, 0, 0, 0, 0, 0, 0, 0, 0, 0, 0, 0, 0, 0, 0, 0, 0, 0, 0, 0, 0, 0, 0, 0, 0, 0, 0, 0, 0, 0, 0, 0, 0, 0, 0, 0, 0, 0, 0, 0, 0, 0, 0, 0, 0, 0, 0, 0, 0, 0, 0, 0, 0, 0, 0, 0, 0, 0, 0, 0, 0, 0, 0, 0, 0, 0, 0, 0, 0, 0, 0, 0, 0, 0, 0, 0, 0, 0, 0, 0, 0, 0, 0, 0, 0, 0, 0, 0, 0, 0, 0, 0, 0, 0, 0, 0, 0, 0, 0, 0, 0, 0, 0, 0, 0, 0, 0, 0, 0, 0, 0, 0, 0, 0, 0, 0, 0, 0, 0, 0, 0, 0, 0, 0, 0, 0, 0, 0, 0, 0, 0, 0, 0, 0, 0, 0, 0, 0, 0, 0, 0, 0, 0, 0, 0, 0, 0, 0, 0, 0, 0, 0, 0, 0, 0, 0, 0, 0, 0, 0, 0, 0, 0, 0, 0, 0, 0, 0, 0, 0, 0, 0, 0, 0, 0, 0, 0, 0, 0, 0, 0, 0, 0, 0, 0, 0, 0, 0, 0, 0, 0, 0, 0, 0, 0, 0, 0, 0, 0, 0, 0, 0, 0, 0, 0, 0, 0, 0, 0, 0, 0, 0, 0, 0, 0, 0, 0, 0, 0, 0, 0, 0, 0, 0, 0, 0, 0, 0, 0, 0, 0, 0, 0, 0, 0, 0, 0, 0, 0, 0, 0, 0, 0, 0, 0, 0, 0, 0, 0, 0, 0, 0, 0, 0, 0, 0, 0, 0, 0, 0, 0, 0, 0, 0, 0, 0, 0, 0, 0, 0, 0, 0, 0, 0, 0, 0, 0, 0, 0, 0, 0, 0, 0, 0, 0, 0, 0, 0, 0, 0, 0, 0, 0, 0, 0, 0, 0, 0, 0, 0, 0, 0, 0, 0, 0, 0, 0, 0, 0, 0, 0, 0, 0, 0, 0, 0, 0, 0, 0, 0, 0, 0, 0, 0, 0, 0, 0, 0, 0, 0, 0, 0, 0, 0, 0, 0, 0, 0, 0, 0, 0, 0, 0, 0, 0, 0, 0, 0, 0, 0, 0, 0, 0, 0, 0, 0, 0, 0, 0, 0, 0, 0, 0, 0, 0, 0, 0, 0, 0, 0, 0, 0, 0, 0, 0, 0, 0, 0, 0, 0, 0, 0, 0, 0, 0, 0, 0, 0, 0, 0, 0, 0, 0, 0, 0, 0, 0, 0, 0, 0, 0, 0, 0, 0, 0, 0, 0, 0, 0, 0, 0, 0, 0, 0, 0, 0, 0, 0, 0, 0, 0, 0, 0, 0, 0, 0, 0, 0, 0, 0, 0, 0, 0, 0, 0, 0, 0, 0, 0, 0, 0, 0, 0, 0, 0, 0, 0, 1, 0, 0, 0, 0, 0, 0, 0, 0, 0, 0, 0, 0, 0, 0, 0, 0, 0, 0, 0, 0, 0, 0, 0, 0, 0, 0, 0, 0, 0, 0, 0, 0, 0, 0, 0, 0, 0, 0, 0, 0, 0, 0, 0, 0, 0, 0, 0, 0, 0, 0, 0, 0, 0, 0, 0, 0, 0, 0, 0, 0, 0, 0, 0, 0, 0, 0, 0, 0, 0, 0, 0, 0, 0, 0, 0, 0, 0, 0, 0, 0, 0, 0, 0, 0, 0, 0, 0, 0, 0, 0, 0, 0, 0, 0, 0, 0, 0, 0, 0, 0, 0, 0, 0, 0, 0, 0, 0, 0, 0, 0, 2, 0, 0, 0, 0, 0, 0, 0, 0, 0, 0, 0, 0, 0, 0, 0, 0, 0, 0, 0, 0, 0, 0, 0, 0, 0, 0, 0, 0, 0, 0, 0, 0, 0, 0, 0, 0, 0, 0, 0, 0, 0, 0, 0, 0, 0, 0, 0, 0, 0, 0, 0, 0, 0, 0, 0, 0, 0, 0, 0, 0, 0, 0, 0, 0, 0, 0, 0, 0, 0, 0, 0, 0, 0, 0, 0, 0, 0, 0, 0, 0, 0, 0, 0, 0, 0, 0, 0, 0, 0, 0, 0, 0, 0, 0, 0, 0, 0, 0, 0, 0, 0, 0, 0, 0, 0, 0, 0, 0, 0, 0, 0, 0, 0, 0, 0, 0, 0, 0, 0, 0, 0, 0, 0, 0, 0, 0, 0, 0, 0, 0, 0, 0, 0, 0, 0, 0, 0, 0, 0, 0, 0, 0, 0, 0, 0, 0, 0, 0, 0, 0, 0, 0, 0, 0, 0, 0, 0, 0, 0, 0, 0, 0, 0, 0, 0, 0, 0, 0, 0, 0, 0, 0, 0, 0, 0, 0, 0, 0, 0, 0, 0, 0, 0, 0, 0, 0, 0, 0, 0, 0, 0, 0, 0, 0, 0, 0, 0, 0, 0, 0, 0, 0, 0, 0, 0, 0, 0, 0, 0, 0, 0, 0, 0, 0, 0, 0, 0, 0, 0, 0, 0, 0, 0, 0, 0, 0, 0, 0, 0, 0, 0, 0, 0, 0, 0, 0, 0, 0, 0, 0, 0, 0, 0, 0, 0, 0, 0, 0, 0, 0, 0, 0, 0, 0, 0, 0, 0, 0, 0, 0, 0, 0, 0, 0, 0, 0, 0, 0, 0, 0, 0, 0, 0, 0, 0, 0, 0, 0, 0, 0, 0, 0, 0, 0, 0, 0, 0, 0, 0, 0, 0, 0, 0, 0, 0, 0, 0, 0, 0, 0, 0, 0, 0, 0, 0, 0, 0, 0, 0, 0, 0, 0, 0, 0, 0, 0, 0, 0, 0, 0, 0, 0, 0, 0, 0, 0, 0, 0, 0, 0, 0, 0, 0, 0, 0, 0, 0, 0, 0, 0, 0, 0, 0, 0, 0, 0, 0, 0, 0, 0, 0, 0, 0, 0, 0, 0, 0, 0, 0, 0, 0, 0, 0, 0, 0, 0, 0, 0, 0, 0, 0, 0, 0, 0, 0, 0, 0, 0, 0, 0, 0, 0, 0, 0, 0, 0, 0, 0, 0, 0, 0, 0, 0, 0, 0, 0, 0, 0, 0, 0, 0, 0, 0, 0, 0, 0, 0, 0, 0, 0, 0, 0, 0, 0, 0, 0, 0, 0, 0, 0, 0, 0, 0, 0, 0, 0, 0, 0, 0, 0, 0, 0, 0, 0, 0, 0, 0, 0, 0, 0, 0, 0, 0, 0, 0, 0, 0, 0, 0, 0, 0, 0, 0, 0, 0, 0, 0, 0, 0, 0, 0, 0, 0, 0, 0, 0, 0, 0, 0, 0, 0, 0, 0, 0, 0, 0, 0, 0, 0, 0, 0, 0, 0, 0, 0, 0, 0, 0, 0, 0, 0, 0, 0, 0, 0, 0, 0, 0, 0, 0, 0, 0, 0, 0, 0, 0, 0, 0, 0, 0, 0, 0, 0, 0, 0, 0, 0, 0, 0, 0, 0, 0, 0, 0, 0, 0, 0, 0, 0, 0, 0, 0, 0, 0, 0, 0, 0, 0, 0, 0, 0, 0, 0, 0, 0, 0, 0, 0, 0, 0, 0, 0, 0, 0, 0, 0, 0, 0, 0, 0, 0, 0, 0, 0, 0, 0, 0, 0, 0, 0, 0, 0, 0, 0, 0, 0, 0, 0, 0, 0, 0, 0, 0, 0, 0, 0, 0, 0, 0, 0, 0, 0, 0, 0, 0, 0, 0, 0, 0, 0, 0, 0, 0, 0, 0, 0, 0, 0, 0, 0, 0, 0, 0, 0, 0, 0, 0, 0, 0, 0, 0, 0, 0, 0, 0, 0, 0, 0, 0, 0, 0, 0, 0, 0, 0, 0, 0, 0, 0, 0, 0, 0, 0, 0, 0, 0, 0, 0, 0, 0, 0, 0, 0, 0, 0, 0, 0, 0, 0, 0, 0, 0, 0, 0, 0, 0, 0, 0, 0, 0, 0, 0, 0, 0, 0, 0, 0, 0, 0, 0, 0, 0, 0, 0, 0, 0, 0, 0, 0, 0, 1, 0, 0, 0, 0, 0, 0, 0, 0, 0, 0, 0, 0, 0, 0, 0, 0, 0, 0, 0, 0, 0, 0, 0, 0, 0, 0, 0, 0, 0, 0, 0, 0, 0, 0, 0, 0, 0, 0, 0, 0, 0, 0, 0, 0, 0, 0, 0, 0, 0, 0, 0, 0, 0, 0, 0, 0, 0, 0, 0, 0, 0, 0, 0, 0, 0, 0, 0, 0, 0, 0, 0, 0, 0, 0, 0, 0, 0, 0, 0, 0, 0, 0, 0, 0, 0, 0, 0, 0, 0, 0, 0, 0, 0, 0, 0, 0, 0, 0, 0, 0, 0, 0, 0, 0, 0, 0, 0, 1, 0, 0, 0, 0, 0, 0, 0, 0, 0, 0, 0, 0, 0, 0, 0, 0, 0, 0, 0, 0, 0, 0, 0, 0, 0, 0, 0, 0, 0, 0, 0, 0, 0, 0, 0, 0, 0, 0, 0, 0, 0, 0, 0, 0, 0, 0, 0, 0, 0, 0, 0, 0, 0, 0, 0, 0, 0, 0, 0, 0, 0, 0, 0, 0, 0, 0, 0, 0, 0, 0, 0, 0, 0, 0, 0, 0, 0, 0, 0, 0, 0, 0, 0, 0, 0, 0, 0, 0, 0, 0, 0, 0, 0, 0, 0, 0, 0, 0, 0, 0, 0, 0, 0, 0, 0, 0, 0, 0, 0, 0, 0, 0, 0, 0, 0, 0, 0, 0, 0, 0, 0, 0, 0, 0, 0, 0, 0, 0, 0, 0, 0, 0, 0, 0, 0, 0, 0, 0, 0, 0, 0, 0, 0, 0, 0, 0, 0, 0, 0, 0, 0, 0, 0, 0, 0, 0, 0, 0, 0, 0, 0, 0, 0, 0, 0, 0, 0, 0, 0, 0, 0, 0, 0, 0, 0, 0, 0, 0, 0, 0, 0, 0, 0, 0, 0, 0, 0, 0, 0, 0, 0, 0, 0, 0, 0, 0, 0, 0, 0, 0, 0, 0, 0, 0, 0, 0, 0, 0, 0, 0, 0, 0, 0, 0, 0, 0, 0, 0, 0, 0, 0, 0, 0, 0, 0, 0, 0, 0, 0, 0, 0, 0, 0, 0, 0, 0, 0, 0, 0, 0, 0, 0, 0, 0, 0, 0, 0, 0, 0, 0, 0, 0, 0, 0, 0, 0, 0, 0, 0, 0, 0, 0, 0, 0, 0, 0, 0, 0, 0, 0, 0, 0, 0, 0, 0, 0, 0, 0, 0, 0, 0, 0, 0, 0, 0, 0, 0, 0, 0, 0, 0, 0, 0, 0, 0, 0, 0, 0, 0, 0, 0, 0, 0, 0, 0, 0, 0, 0, 0, 0, 0, 0, 0, 0, 0, 0, 0, 0, 0, 0, 0, 0, 0, 0, 0, 0, 0, 0, 0, 0, 0, 0, 0, 0, 0, 0, 0, 0, 0, 0, 0, 0, 0, 0, 0, 0, 0, 0, 0, 0, 0, 0, 0, 0, 0, 0, 0, 0, 0, 0, 0, 0, 0, 0, 0, 0, 0, 0, 0, 0, 0, 0, 0, 0, 0, 0, 0, 0, 0, 0, 0, 0, 0, 0, 0, 0, 0, 0, 0, 0, 0, 0, 0, 0, 0, 0, 0, 0, 0, 0, 0, 0, 0, 0, 0, 0, 0, 0, 0, 0, 0, 0, 0, 0, 0, 0, 0, 0, 0, 0, 0, 0, 0, 0, 0, 0, 0, 0, 0, 0, 0, 0, 0, 0, 0, 0, 0, 0, 0, 0, 0, 0, 0, 0, 0, 0, 0, 0, 0, 0, 0, 0, 0, 0, 0, 0, 0, 0, 0, 0, 0, 0, 0, 2, 0, 1, 0], type: <class 'list'>, valid types: <class 'bytes'>, <class 'bytearray'>, file-like object",
     "output_type": "error",
     "traceback": [
      "\u001b[0;31m---------------------------------------------------------------------------\u001b[0m",
      "\u001b[0;31mParamValidationError\u001b[0m                      Traceback (most recent call last)",
      "\u001b[0;32m<ipython-input-32-c9ab54ae3a48>\u001b[0m in \u001b[0;36m<module>\u001b[0;34m()\u001b[0m\n\u001b[1;32m      1\u001b[0m response = runtime.invoke_endpoint(EndpointName = xgb_predictor.endpoint, # The name of the endpoint we created\n\u001b[1;32m      2\u001b[0m                                        \u001b[0mContentType\u001b[0m \u001b[0;34m=\u001b[0m \u001b[0;34m'text/csv'\u001b[0m\u001b[0;34m,\u001b[0m                     \u001b[0;31m# The data format that is expected\u001b[0m\u001b[0;34m\u001b[0m\u001b[0m\n\u001b[0;32m----> 3\u001b[0;31m                                        Body = test_bow)\n\u001b[0m",
      "\u001b[0;32m~/anaconda3/envs/python3/lib/python3.6/site-packages/botocore/client.py\u001b[0m in \u001b[0;36m_api_call\u001b[0;34m(self, *args, **kwargs)\u001b[0m\n\u001b[1;32m    314\u001b[0m                     \"%s() only accepts keyword arguments.\" % py_operation_name)\n\u001b[1;32m    315\u001b[0m             \u001b[0;31m# The \"self\" in this scope is referring to the BaseClient.\u001b[0m\u001b[0;34m\u001b[0m\u001b[0;34m\u001b[0m\u001b[0m\n\u001b[0;32m--> 316\u001b[0;31m             \u001b[0;32mreturn\u001b[0m \u001b[0mself\u001b[0m\u001b[0;34m.\u001b[0m\u001b[0m_make_api_call\u001b[0m\u001b[0;34m(\u001b[0m\u001b[0moperation_name\u001b[0m\u001b[0;34m,\u001b[0m \u001b[0mkwargs\u001b[0m\u001b[0;34m)\u001b[0m\u001b[0;34m\u001b[0m\u001b[0m\n\u001b[0m\u001b[1;32m    317\u001b[0m \u001b[0;34m\u001b[0m\u001b[0m\n\u001b[1;32m    318\u001b[0m         \u001b[0m_api_call\u001b[0m\u001b[0;34m.\u001b[0m\u001b[0m__name__\u001b[0m \u001b[0;34m=\u001b[0m \u001b[0mstr\u001b[0m\u001b[0;34m(\u001b[0m\u001b[0mpy_operation_name\u001b[0m\u001b[0;34m)\u001b[0m\u001b[0;34m\u001b[0m\u001b[0m\n",
      "\u001b[0;32m~/anaconda3/envs/python3/lib/python3.6/site-packages/botocore/client.py\u001b[0m in \u001b[0;36m_make_api_call\u001b[0;34m(self, operation_name, api_params)\u001b[0m\n\u001b[1;32m    597\u001b[0m         }\n\u001b[1;32m    598\u001b[0m         request_dict = self._convert_to_request_dict(\n\u001b[0;32m--> 599\u001b[0;31m             api_params, operation_model, context=request_context)\n\u001b[0m\u001b[1;32m    600\u001b[0m \u001b[0;34m\u001b[0m\u001b[0m\n\u001b[1;32m    601\u001b[0m         \u001b[0mservice_id\u001b[0m \u001b[0;34m=\u001b[0m \u001b[0mself\u001b[0m\u001b[0;34m.\u001b[0m\u001b[0m_service_model\u001b[0m\u001b[0;34m.\u001b[0m\u001b[0mservice_id\u001b[0m\u001b[0;34m.\u001b[0m\u001b[0mhyphenize\u001b[0m\u001b[0;34m(\u001b[0m\u001b[0;34m)\u001b[0m\u001b[0;34m\u001b[0m\u001b[0m\n",
      "\u001b[0;32m~/anaconda3/envs/python3/lib/python3.6/site-packages/botocore/client.py\u001b[0m in \u001b[0;36m_convert_to_request_dict\u001b[0;34m(self, api_params, operation_model, context)\u001b[0m\n\u001b[1;32m    645\u001b[0m             api_params, operation_model, context)\n\u001b[1;32m    646\u001b[0m         request_dict = self._serializer.serialize_to_request(\n\u001b[0;32m--> 647\u001b[0;31m             api_params, operation_model)\n\u001b[0m\u001b[1;32m    648\u001b[0m         \u001b[0;32mif\u001b[0m \u001b[0;32mnot\u001b[0m \u001b[0mself\u001b[0m\u001b[0;34m.\u001b[0m\u001b[0m_client_config\u001b[0m\u001b[0;34m.\u001b[0m\u001b[0minject_host_prefix\u001b[0m\u001b[0;34m:\u001b[0m\u001b[0;34m\u001b[0m\u001b[0m\n\u001b[1;32m    649\u001b[0m             \u001b[0mrequest_dict\u001b[0m\u001b[0;34m.\u001b[0m\u001b[0mpop\u001b[0m\u001b[0;34m(\u001b[0m\u001b[0;34m'host_prefix'\u001b[0m\u001b[0;34m,\u001b[0m \u001b[0;32mNone\u001b[0m\u001b[0;34m)\u001b[0m\u001b[0;34m\u001b[0m\u001b[0m\n",
      "\u001b[0;32m~/anaconda3/envs/python3/lib/python3.6/site-packages/botocore/validate.py\u001b[0m in \u001b[0;36mserialize_to_request\u001b[0;34m(self, parameters, operation_model)\u001b[0m\n\u001b[1;32m    295\u001b[0m                                                     operation_model.input_shape)\n\u001b[1;32m    296\u001b[0m             \u001b[0;32mif\u001b[0m \u001b[0mreport\u001b[0m\u001b[0;34m.\u001b[0m\u001b[0mhas_errors\u001b[0m\u001b[0;34m(\u001b[0m\u001b[0;34m)\u001b[0m\u001b[0;34m:\u001b[0m\u001b[0;34m\u001b[0m\u001b[0m\n\u001b[0;32m--> 297\u001b[0;31m                 \u001b[0;32mraise\u001b[0m \u001b[0mParamValidationError\u001b[0m\u001b[0;34m(\u001b[0m\u001b[0mreport\u001b[0m\u001b[0;34m=\u001b[0m\u001b[0mreport\u001b[0m\u001b[0;34m.\u001b[0m\u001b[0mgenerate_report\u001b[0m\u001b[0;34m(\u001b[0m\u001b[0;34m)\u001b[0m\u001b[0;34m)\u001b[0m\u001b[0;34m\u001b[0m\u001b[0m\n\u001b[0m\u001b[1;32m    298\u001b[0m         return self._serializer.serialize_to_request(parameters,\n\u001b[1;32m    299\u001b[0m                                                      operation_model)\n",
      "\u001b[0;31mParamValidationError\u001b[0m: Parameter validation failed:\nInvalid type for parameter Body, value: [0, 0, 0, 0, 0, 0, 0, 0, 0, 0, 0, 0, 0, 0, 0, 0, 0, 0, 0, 0, 0, 0, 0, 0, 0, 0, 0, 0, 0, 0, 0, 0, 0, 0, 0, 0, 0, 0, 0, 0, 0, 0, 0, 0, 0, 0, 0, 0, 0, 0, 0, 0, 0, 0, 0, 0, 0, 0, 0, 0, 0, 0, 0, 0, 0, 0, 0, 0, 0, 0, 0, 0, 0, 0, 0, 0, 0, 0, 0, 0, 0, 0, 0, 0, 0, 0, 0, 0, 0, 0, 0, 0, 0, 0, 0, 0, 0, 0, 0, 0, 0, 0, 0, 0, 0, 0, 0, 0, 0, 0, 0, 0, 0, 0, 0, 0, 0, 0, 0, 0, 0, 0, 0, 0, 0, 0, 0, 0, 0, 0, 0, 0, 0, 0, 0, 0, 0, 0, 0, 0, 0, 0, 0, 0, 0, 0, 0, 0, 0, 0, 0, 0, 0, 0, 0, 0, 0, 0, 0, 0, 0, 0, 0, 0, 0, 0, 0, 0, 0, 0, 0, 0, 0, 0, 0, 0, 0, 0, 0, 0, 0, 0, 0, 0, 0, 0, 0, 0, 0, 0, 0, 0, 0, 0, 0, 0, 0, 0, 0, 0, 0, 0, 0, 0, 0, 0, 0, 0, 0, 0, 0, 0, 0, 0, 0, 0, 0, 0, 0, 0, 0, 0, 0, 0, 0, 0, 1, 0, 0, 0, 0, 0, 0, 0, 0, 0, 0, 0, 0, 0, 0, 0, 0, 0, 0, 0, 0, 0, 0, 0, 0, 0, 0, 0, 0, 0, 1, 0, 0, 0, 0, 0, 0, 0, 0, 0, 0, 0, 0, 0, 0, 0, 0, 0, 0, 0, 0, 0, 0, 0, 0, 0, 0, 0, 0, 0, 0, 0, 0, 0, 0, 0, 0, 0, 0, 0, 0, 0, 0, 0, 0, 0, 0, 0, 0, 0, 0, 0, 0, 0, 0, 0, 0, 0, 0, 0, 0, 0, 0, 0, 0, 0, 0, 0, 0, 0, 0, 0, 0, 0, 0, 0, 0, 0, 0, 0, 0, 0, 0, 0, 0, 0, 0, 0, 0, 0, 0, 0, 0, 0, 0, 0, 0, 0, 0, 0, 0, 0, 0, 0, 0, 0, 0, 0, 0, 0, 0, 0, 0, 0, 0, 0, 0, 0, 0, 0, 0, 0, 0, 0, 0, 0, 0, 0, 0, 0, 0, 0, 0, 0, 0, 0, 0, 0, 0, 0, 0, 0, 0, 0, 0, 0, 0, 0, 0, 0, 0, 0, 0, 0, 0, 0, 0, 0, 0, 0, 0, 0, 0, 0, 0, 0, 0, 0, 0, 0, 0, 0, 0, 0, 0, 0, 0, 0, 0, 0, 0, 0, 0, 0, 0, 0, 0, 0, 0, 0, 0, 0, 0, 0, 0, 0, 0, 0, 0, 0, 0, 0, 0, 0, 0, 0, 0, 0, 0, 0, 0, 0, 0, 0, 0, 0, 0, 0, 0, 0, 0, 0, 0, 0, 0, 0, 0, 0, 0, 0, 0, 0, 0, 0, 0, 0, 0, 0, 0, 0, 0, 0, 0, 0, 0, 0, 0, 0, 0, 0, 0, 0, 0, 0, 0, 0, 0, 0, 0, 0, 0, 0, 0, 0, 0, 0, 0, 0, 0, 0, 0, 0, 0, 0, 0, 0, 0, 0, 0, 0, 0, 0, 0, 0, 0, 0, 0, 0, 0, 0, 0, 0, 0, 0, 0, 0, 0, 0, 0, 0, 0, 0, 0, 0, 0, 0, 0, 0, 0, 0, 0, 0, 0, 0, 0, 0, 0, 0, 0, 0, 0, 0, 0, 0, 0, 0, 0, 0, 0, 0, 0, 0, 0, 0, 0, 0, 0, 0, 0, 0, 0, 0, 0, 0, 0, 0, 0, 0, 0, 0, 0, 0, 0, 0, 0, 0, 0, 0, 0, 0, 0, 0, 0, 0, 0, 0, 0, 0, 0, 0, 0, 0, 0, 0, 0, 0, 0, 0, 0, 0, 1, 0, 0, 0, 0, 0, 0, 0, 0, 0, 0, 0, 0, 0, 0, 0, 0, 0, 0, 0, 0, 0, 0, 0, 0, 0, 0, 0, 0, 0, 0, 0, 0, 0, 0, 0, 0, 0, 0, 0, 0, 0, 0, 0, 0, 0, 0, 0, 0, 0, 0, 0, 0, 0, 0, 0, 0, 0, 0, 0, 0, 0, 0, 0, 0, 0, 0, 0, 0, 0, 0, 0, 0, 0, 0, 0, 0, 0, 0, 0, 0, 0, 0, 0, 0, 0, 0, 0, 0, 0, 0, 0, 0, 0, 0, 0, 0, 0, 0, 0, 0, 0, 0, 0, 0, 0, 0, 0, 0, 0, 0, 0, 0, 0, 0, 0, 0, 0, 0, 0, 0, 0, 0, 0, 0, 0, 0, 0, 0, 0, 0, 0, 0, 0, 0, 0, 0, 0, 0, 0, 0, 0, 0, 0, 0, 0, 0, 0, 0, 0, 0, 0, 0, 0, 0, 0, 0, 0, 0, 0, 0, 0, 0, 0, 0, 0, 0, 0, 0, 0, 0, 0, 0, 0, 0, 0, 0, 0, 0, 0, 0, 0, 0, 0, 0, 0, 0, 0, 0, 0, 0, 0, 0, 0, 0, 0, 0, 0, 0, 0, 0, 0, 0, 0, 0, 0, 0, 0, 0, 0, 0, 0, 0, 0, 0, 0, 0, 0, 0, 0, 0, 0, 0, 0, 0, 0, 0, 0, 0, 0, 0, 0, 0, 0, 0, 0, 0, 0, 0, 0, 0, 0, 0, 0, 0, 0, 0, 0, 0, 0, 0, 0, 0, 0, 1, 0, 0, 0, 0, 0, 0, 0, 0, 0, 0, 0, 0, 0, 0, 0, 0, 0, 0, 0, 0, 0, 0, 0, 0, 0, 0, 0, 0, 0, 0, 0, 0, 0, 0, 0, 0, 0, 0, 0, 0, 0, 0, 0, 0, 0, 0, 0, 0, 0, 0, 0, 0, 0, 0, 0, 0, 0, 0, 0, 0, 0, 0, 0, 0, 0, 0, 0, 0, 0, 0, 0, 0, 0, 0, 0, 0, 0, 0, 0, 0, 0, 0, 0, 0, 0, 0, 1, 0, 0, 0, 0, 0, 0, 0, 0, 0, 0, 0, 0, 0, 0, 0, 0, 0, 0, 0, 0, 0, 0, 0, 0, 0, 0, 0, 0, 0, 0, 0, 0, 0, 0, 0, 0, 0, 0, 0, 0, 0, 0, 0, 0, 0, 0, 0, 0, 0, 0, 0, 0, 0, 0, 0, 0, 0, 0, 0, 0, 0, 0, 0, 0, 0, 0, 0, 0, 0, 0, 0, 0, 0, 0, 0, 0, 0, 0, 0, 0, 0, 0, 0, 0, 0, 0, 0, 0, 0, 0, 0, 0, 0, 0, 0, 0, 0, 0, 0, 0, 0, 0, 0, 0, 0, 0, 0, 0, 0, 0, 0, 0, 0, 0, 0, 0, 0, 0, 0, 0, 0, 0, 0, 0, 0, 0, 0, 0, 0, 0, 0, 0, 0, 0, 0, 0, 0, 0, 0, 0, 0, 0, 0, 0, 0, 0, 0, 0, 0, 0, 0, 0, 0, 0, 0, 0, 0, 0, 0, 0, 0, 0, 0, 0, 0, 0, 0, 0, 0, 0, 0, 0, 0, 0, 0, 0, 0, 0, 0, 0, 0, 0, 0, 0, 0, 0, 0, 0, 0, 0, 0, 0, 0, 0, 0, 0, 0, 0, 0, 0, 0, 0, 0, 0, 0, 0, 0, 0, 0, 0, 0, 0, 0, 0, 0, 0, 0, 0, 0, 0, 0, 0, 0, 0, 0, 0, 0, 0, 0, 0, 0, 0, 0, 0, 0, 0, 0, 0, 0, 0, 0, 0, 0, 0, 0, 0, 0, 0, 0, 0, 0, 0, 1, 0, 0, 0, 0, 0, 0, 0, 0, 0, 0, 0, 0, 0, 0, 0, 0, 0, 0, 0, 0, 0, 0, 0, 0, 0, 0, 0, 0, 0, 0, 0, 0, 0, 0, 0, 0, 0, 0, 0, 0, 0, 0, 0, 0, 0, 0, 0, 0, 0, 0, 0, 0, 0, 0, 0, 1, 0, 0, 0, 0, 0, 0, 0, 0, 0, 0, 0, 0, 0, 0, 0, 0, 0, 0, 0, 0, 0, 0, 0, 0, 0, 0, 0, 0, 0, 0, 0, 0, 0, 0, 0, 0, 0, 0, 0, 0, 0, 0, 0, 0, 0, 0, 0, 0, 0, 0, 0, 0, 0, 0, 0, 0, 0, 0, 0, 0, 0, 0, 0, 0, 0, 0, 0, 0, 0, 0, 0, 0, 0, 0, 0, 0, 0, 0, 0, 0, 0, 0, 0, 0, 0, 0, 0, 0, 0, 0, 0, 0, 0, 0, 0, 0, 0, 0, 0, 0, 0, 0, 0, 0, 0, 0, 0, 0, 0, 0, 0, 0, 0, 0, 0, 0, 0, 0, 0, 0, 0, 0, 0, 0, 0, 0, 0, 0, 0, 0, 0, 0, 0, 0, 0, 0, 0, 0, 0, 0, 0, 0, 0, 0, 0, 0, 0, 0, 0, 0, 0, 0, 0, 0, 0, 0, 0, 0, 0, 0, 0, 0, 0, 0, 0, 0, 0, 0, 0, 0, 0, 0, 0, 0, 0, 0, 0, 0, 0, 0, 0, 0, 0, 0, 0, 0, 0, 0, 0, 0, 0, 0, 0, 0, 0, 0, 0, 0, 0, 0, 0, 0, 0, 0, 0, 0, 0, 0, 0, 0, 0, 0, 0, 0, 0, 0, 0, 0, 0, 0, 0, 0, 0, 0, 0, 0, 0, 0, 0, 0, 0, 0, 0, 0, 0, 0, 0, 0, 0, 0, 0, 0, 0, 0, 0, 0, 0, 0, 0, 0, 0, 0, 0, 0, 0, 0, 0, 0, 0, 0, 0, 0, 0, 0, 0, 0, 0, 0, 0, 0, 0, 0, 0, 0, 0, 0, 0, 0, 0, 0, 0, 0, 0, 0, 0, 0, 0, 0, 0, 0, 0, 0, 0, 0, 0, 0, 0, 0, 0, 0, 0, 0, 0, 0, 0, 0, 0, 0, 0, 0, 0, 0, 0, 0, 0, 0, 0, 0, 0, 0, 0, 0, 0, 0, 0, 0, 0, 0, 0, 0, 0, 0, 0, 0, 0, 0, 0, 0, 0, 0, 0, 0, 0, 0, 0, 0, 0, 0, 0, 0, 0, 0, 0, 0, 0, 0, 0, 0, 0, 0, 0, 0, 0, 0, 0, 0, 0, 0, 0, 0, 0, 0, 0, 0, 0, 0, 0, 0, 0, 0, 0, 0, 0, 0, 0, 0, 0, 0, 0, 0, 0, 0, 0, 0, 0, 0, 0, 0, 0, 0, 0, 0, 0, 0, 0, 0, 0, 0, 0, 0, 0, 0, 0, 0, 0, 0, 0, 0, 0, 0, 0, 0, 0, 0, 0, 0, 0, 0, 0, 0, 0, 0, 0, 0, 0, 0, 0, 0, 0, 0, 0, 0, 0, 0, 0, 0, 0, 0, 0, 0, 0, 0, 0, 0, 0, 0, 0, 0, 0, 0, 0, 0, 0, 0, 0, 0, 0, 0, 0, 0, 0, 0, 0, 0, 0, 0, 0, 0, 0, 0, 0, 0, 0, 0, 0, 0, 0, 0, 0, 0, 0, 0, 0, 0, 0, 0, 0, 0, 0, 0, 0, 0, 0, 0, 0, 0, 0, 0, 0, 0, 0, 0, 0, 0, 0, 0, 0, 0, 0, 0, 0, 0, 0, 0, 0, 0, 0, 0, 0, 0, 0, 0, 0, 0, 0, 0, 0, 0, 0, 0, 0, 0, 0, 0, 0, 0, 0, 0, 0, 0, 0, 0, 0, 0, 0, 0, 0, 0, 0, 0, 0, 0, 0, 0, 0, 0, 0, 0, 0, 0, 0, 0, 0, 0, 0, 0, 0, 0, 0, 0, 0, 0, 0, 0, 0, 0, 0, 0, 0, 0, 0, 0, 0, 0, 0, 0, 0, 0, 0, 0, 0, 0, 0, 0, 0, 0, 0, 0, 0, 0, 0, 0, 0, 0, 0, 0, 0, 0, 0, 0, 0, 0, 0, 0, 0, 0, 0, 0, 0, 0, 0, 0, 0, 0, 0, 0, 0, 0, 0, 0, 0, 0, 0, 0, 0, 0, 0, 0, 0, 0, 0, 0, 0, 0, 0, 0, 0, 0, 0, 0, 0, 0, 0, 0, 0, 0, 0, 0, 0, 0, 0, 0, 0, 0, 0, 0, 0, 0, 0, 0, 0, 1, 0, 0, 0, 0, 0, 0, 0, 0, 0, 0, 0, 0, 0, 0, 0, 0, 0, 0, 0, 0, 0, 0, 0, 0, 0, 0, 0, 0, 0, 0, 0, 0, 0, 0, 0, 0, 0, 0, 0, 0, 0, 0, 0, 0, 0, 0, 0, 0, 0, 0, 0, 0, 0, 0, 0, 0, 0, 0, 0, 0, 0, 0, 0, 0, 0, 0, 0, 0, 0, 0, 0, 0, 0, 0, 1, 0, 0, 0, 0, 0, 0, 0, 0, 0, 0, 0, 0, 0, 0, 0, 0, 0, 0, 0, 0, 1, 0, 0, 1, 0, 0, 0, 0, 0, 0, 0, 0, 0, 0, 0, 0, 0, 0, 0, 0, 0, 0, 0, 0, 0, 0, 0, 0, 0, 0, 0, 0, 0, 0, 0, 0, 0, 0, 0, 0, 0, 0, 0, 0, 0, 0, 0, 0, 0, 0, 0, 0, 0, 0, 0, 0, 0, 0, 0, 0, 0, 0, 0, 0, 0, 0, 0, 0, 0, 0, 0, 0, 0, 0, 0, 0, 0, 0, 0, 0, 0, 0, 0, 0, 0, 0, 0, 0, 0, 0, 0, 0, 0, 0, 0, 0, 0, 0, 0, 0, 0, 0, 0, 0, 0, 0, 0, 0, 0, 0, 0, 0, 0, 0, 0, 0, 0, 0, 0, 0, 0, 0, 0, 0, 0, 0, 0, 0, 0, 0, 0, 0, 0, 0, 0, 0, 0, 0, 0, 0, 0, 0, 0, 0, 0, 0, 0, 0, 0, 0, 0, 0, 0, 0, 0, 0, 0, 0, 0, 0, 0, 0, 0, 0, 0, 0, 0, 0, 0, 0, 0, 0, 0, 0, 0, 0, 0, 0, 0, 0, 0, 0, 0, 0, 0, 0, 0, 0, 0, 0, 0, 0, 0, 0, 0, 0, 0, 0, 0, 0, 0, 0, 0, 0, 0, 0, 0, 0, 0, 0, 0, 0, 0, 0, 0, 0, 0, 0, 0, 0, 0, 0, 0, 0, 0, 0, 0, 0, 0, 0, 0, 0, 0, 0, 0, 0, 0, 0, 0, 0, 0, 0, 0, 0, 0, 0, 0, 0, 0, 0, 0, 0, 0, 0, 0, 0, 0, 0, 0, 0, 0, 0, 0, 0, 0, 0, 0, 0, 0, 0, 0, 0, 0, 0, 0, 0, 0, 0, 0, 0, 0, 0, 0, 0, 0, 0, 0, 0, 0, 0, 0, 0, 0, 0, 0, 0, 0, 0, 0, 0, 0, 0, 0, 0, 0, 0, 0, 0, 0, 0, 0, 0, 0, 0, 0, 0, 0, 0, 0, 0, 0, 0, 0, 0, 0, 0, 0, 0, 0, 0, 0, 0, 0, 0, 0, 0, 0, 0, 0, 0, 0, 0, 0, 0, 0, 0, 0, 0, 0, 0, 0, 0, 0, 0, 0, 0, 0, 0, 0, 0, 0, 0, 0, 0, 0, 0, 0, 0, 0, 0, 0, 0, 0, 0, 0, 0, 0, 0, 0, 0, 0, 0, 0, 0, 0, 0, 0, 0, 0, 0, 0, 0, 0, 0, 0, 0, 0, 0, 0, 0, 0, 0, 0, 0, 0, 0, 0, 0, 0, 0, 0, 0, 0, 0, 0, 0, 0, 0, 0, 0, 0, 0, 0, 0, 0, 0, 0, 0, 0, 0, 0, 0, 0, 0, 0, 0, 0, 0, 0, 0, 0, 0, 0, 0, 0, 0, 0, 0, 0, 0, 0, 0, 0, 0, 0, 0, 0, 0, 0, 0, 0, 0, 0, 0, 0, 0, 0, 0, 0, 0, 1, 0, 0, 0, 0, 0, 0, 0, 0, 0, 0, 0, 0, 0, 0, 0, 0, 0, 0, 0, 0, 0, 0, 0, 0, 0, 0, 0, 0, 0, 0, 0, 0, 0, 0, 0, 0, 0, 0, 0, 0, 0, 0, 0, 0, 0, 0, 0, 0, 0, 0, 0, 0, 0, 0, 0, 0, 0, 0, 0, 0, 0, 0, 0, 0, 0, 0, 0, 0, 0, 0, 0, 0, 0, 0, 0, 0, 0, 0, 0, 0, 0, 0, 0, 0, 0, 0, 0, 0, 0, 0, 0, 0, 0, 0, 0, 0, 0, 0, 0, 0, 0, 0, 0, 0, 0, 0, 0, 0, 0, 0, 0, 0, 0, 0, 0, 0, 0, 0, 0, 0, 0, 0, 0, 0, 0, 0, 0, 0, 0, 0, 0, 0, 0, 0, 0, 0, 0, 0, 0, 0, 0, 0, 0, 0, 0, 0, 0, 0, 0, 0, 0, 0, 0, 0, 0, 0, 0, 0, 0, 0, 0, 0, 0, 0, 0, 0, 0, 0, 0, 0, 0, 0, 0, 0, 0, 0, 0, 0, 0, 0, 0, 0, 0, 0, 0, 0, 0, 0, 0, 0, 0, 0, 0, 0, 0, 0, 0, 0, 0, 0, 0, 0, 0, 0, 0, 0, 0, 0, 0, 0, 0, 0, 0, 0, 0, 0, 0, 0, 0, 0, 0, 0, 0, 0, 0, 0, 0, 0, 0, 0, 0, 0, 0, 0, 0, 0, 0, 0, 0, 0, 0, 0, 0, 0, 0, 0, 0, 0, 0, 0, 0, 0, 0, 0, 0, 0, 0, 0, 0, 0, 0, 0, 0, 0, 0, 0, 0, 0, 0, 0, 0, 0, 0, 0, 0, 0, 0, 0, 0, 0, 0, 0, 0, 0, 0, 0, 0, 0, 0, 0, 0, 0, 0, 0, 0, 0, 0, 0, 0, 0, 0, 0, 0, 0, 0, 0, 0, 0, 0, 0, 0, 0, 0, 0, 0, 0, 0, 0, 0, 0, 0, 0, 0, 0, 0, 0, 0, 0, 0, 0, 0, 0, 0, 0, 0, 0, 0, 0, 0, 0, 0, 0, 0, 0, 0, 0, 0, 0, 0, 0, 0, 0, 0, 0, 0, 0, 0, 0, 0, 0, 0, 0, 0, 0, 0, 0, 0, 0, 0, 0, 0, 0, 0, 0, 0, 0, 0, 0, 0, 0, 0, 0, 0, 0, 0, 0, 0, 0, 0, 0, 0, 0, 0, 0, 0, 0, 0, 0, 0, 0, 0, 0, 0, 0, 0, 0, 0, 0, 0, 0, 0, 0, 0, 0, 0, 0, 0, 0, 0, 0, 0, 0, 0, 0, 0, 0, 0, 0, 0, 0, 0, 0, 0, 0, 0, 0, 0, 0, 0, 0, 0, 0, 0, 0, 0, 0, 0, 0, 0, 0, 0, 0, 0, 0, 0, 0, 0, 0, 0, 0, 0, 0, 0, 0, 0, 0, 0, 0, 0, 0, 0, 0, 0, 0, 0, 0, 0, 0, 0, 0, 0, 0, 0, 0, 0, 0, 0, 0, 0, 0, 0, 0, 0, 0, 0, 0, 0, 0, 0, 0, 0, 0, 0, 0, 0, 0, 0, 0, 0, 0, 0, 0, 1, 0, 0, 0, 0, 0, 0, 0, 0, 0, 0, 0, 0, 0, 0, 0, 0, 0, 0, 0, 0, 0, 0, 0, 0, 0, 0, 0, 0, 0, 0, 0, 0, 0, 0, 0, 2, 0, 0, 0, 0, 0, 0, 0, 0, 0, 0, 0, 0, 0, 0, 0, 0, 0, 0, 0, 0, 0, 0, 0, 0, 0, 0, 0, 0, 0, 0, 0, 0, 0, 0, 0, 0, 0, 0, 0, 0, 1, 0, 0, 0, 0, 0, 0, 0, 0, 0, 0, 0, 0, 0, 0, 0, 0, 0, 0, 0, 0, 0, 0, 0, 0, 0, 0, 0, 0, 0, 0, 0, 0, 0, 0, 0, 0, 0, 0, 0, 0, 0, 0, 0, 0, 0, 0, 0, 0, 0, 0, 0, 0, 0, 0, 0, 0, 0, 0, 0, 0, 0, 0, 0, 0, 0, 0, 0, 0, 0, 0, 0, 0, 0, 0, 0, 0, 0, 0, 0, 0, 0, 0, 0, 0, 0, 0, 0, 0, 0, 0, 0, 0, 0, 0, 0, 0, 0, 0, 0, 0, 0, 0, 0, 0, 0, 0, 0, 0, 0, 0, 0, 0, 0, 0, 0, 0, 0, 0, 0, 0, 0, 0, 0, 0, 0, 0, 0, 0, 0, 0, 0, 0, 0, 0, 0, 0, 0, 0, 0, 0, 0, 0, 0, 0, 0, 0, 0, 0, 0, 0, 0, 0, 0, 0, 0, 0, 0, 0, 0, 0, 0, 0, 0, 0, 0, 0, 0, 0, 0, 0, 0, 0, 0, 0, 0, 0, 0, 0, 0, 0, 0, 0, 0, 0, 0, 0, 0, 0, 0, 0, 0, 0, 0, 0, 0, 0, 0, 0, 0, 0, 0, 0, 0, 0, 0, 0, 0, 0, 0, 0, 0, 0, 0, 0, 0, 0, 0, 0, 0, 0, 0, 0, 0, 0, 0, 0, 0, 0, 0, 0, 0, 0, 0, 0, 0, 0, 0, 0, 0, 0, 0, 0, 0, 0, 0, 0, 0, 0, 0, 0, 0, 0, 0, 0, 0, 0, 0, 0, 0, 0, 0, 0, 0, 0, 0, 0, 0, 0, 0, 0, 0, 0, 0, 0, 0, 0, 0, 0, 0, 0, 0, 0, 0, 0, 0, 0, 0, 0, 0, 0, 0, 0, 0, 0, 0, 0, 0, 0, 0, 0, 0, 0, 0, 0, 0, 0, 0, 0, 0, 0, 0, 0, 0, 0, 0, 0, 0, 0, 0, 0, 0, 0, 0, 0, 0, 0, 0, 0, 0, 0, 0, 0, 0, 0, 0, 0, 0, 0, 0, 0, 0, 0, 0, 0, 0, 0, 0, 0, 0, 0, 0, 0, 0, 0, 0, 0, 0, 0, 0, 0, 0, 0, 0, 0, 0, 0, 0, 0, 0, 0, 0, 0, 0, 0, 0, 0, 0, 0, 0, 0, 0, 0, 0, 0, 0, 0, 0, 0, 0, 0, 0, 0, 0, 0, 0, 0, 0, 0, 0, 0, 0, 0, 0, 0, 0, 0, 0, 0, 0, 0, 0, 0, 0, 0, 0, 0, 0, 0, 0, 0, 0, 0, 0, 0, 0, 0, 0, 0, 0, 0, 0, 0, 0, 0, 0, 0, 0, 0, 0, 0, 0, 0, 0, 0, 0, 0, 0, 0, 0, 0, 0, 0, 0, 0, 0, 0, 0, 0, 0, 0, 0, 0, 0, 0, 0, 0, 0, 0, 0, 0, 0, 0, 0, 0, 0, 0, 0, 0, 0, 0, 0, 0, 0, 0, 0, 0, 0, 0, 0, 0, 0, 0, 0, 0, 0, 0, 0, 1, 0, 0, 0, 0, 0, 0, 0, 0, 0, 0, 0, 0, 0, 0, 0, 0, 0, 0, 0, 0, 0, 0, 0, 0, 0, 0, 0, 0, 0, 0, 0, 0, 0, 0, 0, 0, 0, 0, 0, 0, 0, 0, 0, 0, 0, 0, 0, 0, 0, 0, 0, 0, 0, 0, 0, 0, 0, 0, 0, 0, 0, 0, 0, 0, 0, 0, 0, 0, 0, 0, 0, 0, 0, 0, 0, 0, 0, 0, 0, 0, 0, 0, 0, 0, 0, 0, 0, 0, 0, 0, 0, 0, 0, 0, 0, 0, 0, 0, 0, 0, 0, 0, 0, 0, 0, 0, 0, 0, 0, 0, 2, 0, 0, 0, 0, 0, 0, 0, 0, 0, 0, 0, 0, 0, 0, 0, 0, 0, 0, 0, 0, 0, 0, 0, 0, 0, 0, 0, 0, 0, 0, 0, 0, 0, 0, 0, 0, 0, 0, 0, 0, 0, 0, 0, 0, 0, 0, 0, 0, 0, 0, 0, 0, 0, 0, 0, 0, 0, 0, 0, 0, 0, 0, 0, 0, 0, 0, 0, 0, 0, 0, 0, 0, 0, 0, 0, 0, 0, 0, 0, 0, 0, 0, 0, 0, 0, 0, 0, 0, 0, 0, 0, 0, 0, 0, 0, 0, 0, 0, 0, 0, 0, 0, 0, 0, 0, 0, 0, 0, 0, 0, 0, 0, 0, 0, 0, 0, 0, 0, 0, 0, 0, 0, 0, 0, 0, 0, 0, 0, 0, 0, 0, 0, 0, 0, 0, 0, 0, 0, 0, 0, 0, 0, 0, 0, 0, 0, 0, 0, 0, 0, 0, 0, 0, 0, 0, 0, 0, 0, 0, 0, 0, 0, 0, 0, 0, 0, 0, 0, 0, 0, 0, 0, 0, 0, 0, 0, 0, 0, 0, 0, 0, 0, 0, 0, 0, 0, 0, 0, 0, 0, 0, 0, 0, 0, 0, 0, 0, 0, 0, 0, 0, 0, 0, 0, 0, 0, 0, 0, 0, 0, 0, 0, 0, 0, 0, 0, 0, 0, 0, 0, 0, 0, 0, 0, 0, 0, 0, 0, 0, 0, 0, 0, 0, 0, 0, 0, 0, 0, 0, 0, 0, 0, 0, 0, 0, 0, 0, 0, 0, 0, 0, 0, 0, 0, 0, 0, 0, 0, 0, 0, 0, 0, 0, 0, 0, 0, 0, 0, 0, 0, 0, 0, 0, 0, 0, 0, 0, 0, 0, 0, 0, 0, 0, 0, 0, 0, 0, 0, 0, 0, 0, 0, 0, 0, 0, 0, 0, 0, 0, 0, 0, 0, 0, 0, 0, 0, 0, 0, 0, 0, 0, 0, 0, 0, 0, 0, 0, 0, 0, 0, 0, 0, 0, 0, 0, 0, 0, 0, 0, 0, 0, 0, 0, 0, 0, 0, 0, 0, 0, 0, 0, 0, 0, 0, 0, 0, 0, 0, 0, 0, 0, 0, 0, 0, 0, 0, 0, 0, 0, 0, 0, 0, 0, 0, 0, 0, 0, 0, 0, 0, 0, 0, 0, 0, 0, 0, 0, 0, 0, 0, 0, 0, 0, 0, 0, 0, 0, 0, 0, 0, 0, 0, 0, 0, 0, 0, 0, 0, 0, 0, 0, 0, 0, 0, 0, 0, 0, 0, 0, 0, 0, 0, 0, 0, 0, 0, 0, 0, 0, 0, 0, 0, 0, 0, 0, 0, 0, 0, 0, 0, 0, 0, 0, 0, 0, 0, 0, 0, 0, 0, 0, 0, 0, 0, 0, 0, 0, 0, 0, 0, 0, 0, 0, 0, 0, 0, 0, 0, 0, 0, 0, 0, 0, 0, 0, 0, 0, 0, 0, 0, 0, 0, 0, 0, 0, 0, 0, 0, 0, 0, 0, 0, 0, 0, 0, 0, 0, 0, 0, 0, 0, 0, 0, 0, 0, 0, 0, 0, 0, 0, 0, 0, 0, 0, 0, 0, 0, 0, 0, 0, 0, 0, 0, 0, 0, 0, 0, 0, 0, 0, 0, 0, 0, 0, 0, 0, 0, 0, 0, 0, 0, 0, 0, 0, 0, 0, 0, 0, 0, 0, 0, 0, 0, 0, 0, 0, 0, 0, 0, 0, 0, 0, 0, 0, 0, 0, 0, 0, 0, 0, 0, 0, 0, 0, 0, 0, 0, 0, 0, 0, 0, 0, 0, 0, 0, 0, 0, 0, 0, 0, 0, 0, 0, 0, 0, 0, 0, 0, 0, 0, 0, 0, 0, 0, 0, 0, 0, 0, 0, 0, 0, 0, 0, 0, 0, 0, 0, 0, 0, 0, 0, 0, 0, 0, 0, 0, 0, 0, 0, 0, 0, 0, 0, 0, 0, 0, 0, 0, 0, 0, 0, 0, 0, 0, 0, 0, 0, 0, 0, 0, 0, 0, 0, 0, 0, 0, 0, 0, 0, 0, 0, 0, 0, 0, 0, 0, 0, 0, 0, 0, 0, 0, 0, 0, 0, 0, 0, 0, 0, 0, 0, 0, 0, 0, 0, 0, 0, 0, 0, 0, 0, 0, 0, 0, 0, 0, 0, 0, 0, 0, 1, 0, 0, 0, 0, 0, 0, 0, 0, 0, 0, 0, 0, 0, 0, 0, 0, 0, 0, 0, 0, 0, 0, 0, 0, 0, 0, 0, 0, 0, 0, 0, 0, 0, 0, 0, 0, 0, 0, 0, 0, 0, 0, 0, 0, 0, 0, 0, 0, 0, 0, 0, 0, 0, 0, 0, 0, 0, 0, 0, 0, 0, 0, 0, 0, 0, 0, 0, 0, 0, 0, 0, 0, 0, 0, 0, 0, 0, 0, 0, 0, 0, 0, 0, 0, 0, 0, 0, 0, 0, 0, 0, 0, 0, 0, 0, 0, 0, 0, 0, 0, 0, 0, 0, 0, 0, 0, 0, 1, 0, 0, 0, 0, 0, 0, 0, 0, 0, 0, 0, 0, 0, 0, 0, 0, 0, 0, 0, 0, 0, 0, 0, 0, 0, 0, 0, 0, 0, 0, 0, 0, 0, 0, 0, 0, 0, 0, 0, 0, 0, 0, 0, 0, 0, 0, 0, 0, 0, 0, 0, 0, 0, 0, 0, 0, 0, 0, 0, 0, 0, 0, 0, 0, 0, 0, 0, 0, 0, 0, 0, 0, 0, 0, 0, 0, 0, 0, 0, 0, 0, 0, 0, 0, 0, 0, 0, 0, 0, 0, 0, 0, 0, 0, 0, 0, 0, 0, 0, 0, 0, 0, 0, 0, 0, 0, 0, 0, 0, 0, 0, 0, 0, 0, 0, 0, 0, 0, 0, 0, 0, 0, 0, 0, 0, 0, 0, 0, 0, 0, 0, 0, 0, 0, 0, 0, 0, 0, 0, 0, 0, 0, 0, 0, 0, 0, 0, 0, 0, 0, 0, 0, 0, 0, 0, 0, 0, 0, 0, 0, 0, 0, 0, 0, 0, 0, 0, 0, 0, 0, 0, 0, 0, 0, 0, 0, 0, 0, 0, 0, 0, 0, 0, 0, 0, 0, 0, 0, 0, 0, 0, 0, 0, 0, 0, 0, 0, 0, 0, 0, 0, 0, 0, 0, 0, 0, 0, 0, 0, 0, 0, 0, 0, 0, 0, 0, 0, 0, 0, 0, 0, 0, 0, 0, 0, 0, 0, 0, 0, 0, 0, 0, 0, 0, 0, 0, 0, 0, 0, 0, 0, 0, 0, 0, 0, 0, 0, 0, 0, 0, 0, 0, 0, 0, 0, 0, 0, 0, 0, 0, 0, 0, 0, 0, 0, 0, 0, 0, 0, 0, 0, 0, 0, 0, 0, 0, 0, 0, 0, 0, 0, 0, 0, 0, 0, 0, 0, 0, 0, 0, 0, 0, 0, 0, 0, 0, 0, 0, 0, 0, 0, 0, 0, 0, 0, 0, 0, 0, 0, 0, 0, 0, 0, 0, 0, 0, 0, 0, 0, 0, 0, 0, 0, 0, 0, 0, 0, 0, 0, 0, 0, 0, 0, 0, 0, 0, 0, 0, 0, 0, 0, 0, 0, 0, 0, 0, 0, 0, 0, 0, 0, 0, 0, 0, 0, 0, 0, 0, 0, 0, 0, 0, 0, 0, 0, 0, 0, 0, 0, 0, 0, 0, 0, 0, 0, 0, 0, 0, 0, 0, 0, 0, 0, 0, 0, 0, 0, 0, 0, 0, 0, 0, 0, 0, 0, 0, 0, 0, 0, 0, 0, 0, 0, 0, 0, 0, 0, 0, 0, 0, 0, 0, 0, 0, 0, 0, 0, 0, 0, 0, 0, 0, 0, 0, 0, 0, 0, 0, 0, 0, 0, 0, 0, 0, 0, 0, 0, 0, 0, 0, 0, 0, 0, 0, 0, 0, 0, 0, 0, 0, 0, 0, 0, 0, 0, 0, 0, 0, 0, 0, 0, 0, 0, 2, 0, 1, 0], type: <class 'list'>, valid types: <class 'bytes'>, <class 'bytearray'>, file-like object"
     ]
    }
   ],
   "source": [
    "response = runtime.invoke_endpoint(EndpointName = xgb_predictor.endpoint, # The name of the endpoint we created\n",
    "                                       ContentType = 'text/csv',                     # The data format that is expected\n",
    "                                       Body = test_bow)"
   ]
  },
  {
   "cell_type": "markdown",
   "metadata": {},
   "source": [
    "So why did we get an error?\n",
    "\n",
    "Because we tried to send the endpoint a list of integers but it expected us to send data of type `text/csv`. So, we need to convert it."
   ]
  },
  {
   "cell_type": "code",
   "execution_count": 33,
   "metadata": {},
   "outputs": [],
   "source": [
    "response = runtime.invoke_endpoint(EndpointName = xgb_predictor.endpoint, # The name of the endpoint we created\n",
    "                                       ContentType = 'text/csv',                     # The data format that is expected\n",
    "                                       Body = ','.join([str(val) for val in test_bow]).encode('utf-8'))"
   ]
  },
  {
   "cell_type": "code",
   "execution_count": 34,
   "metadata": {},
   "outputs": [
    {
     "name": "stdout",
     "output_type": "stream",
     "text": [
      "{'ResponseMetadata': {'RequestId': 'f2a4a2e9-6731-4338-9fe6-ac46736a108b', 'HTTPStatusCode': 200, 'HTTPHeaders': {'x-amzn-requestid': 'f2a4a2e9-6731-4338-9fe6-ac46736a108b', 'x-amzn-invoked-production-variant': 'AllTraffic', 'date': 'Tue, 14 Apr 2020 22:10:53 GMT', 'content-type': 'text/csv; charset=utf-8', 'content-length': '14'}, 'RetryAttempts': 0}, 'ContentType': 'text/csv; charset=utf-8', 'InvokedProductionVariant': 'AllTraffic', 'Body': <botocore.response.StreamingBody object at 0x7fe47e0b6c50>}\n"
     ]
    }
   ],
   "source": [
    "print(response)"
   ]
  },
  {
   "cell_type": "markdown",
   "metadata": {},
   "source": [
    "As we can see, the response from our model is a somewhat complicated looking dict that contains a bunch of information. The bit that we are most interested in is `'Body'` object which is a streaming object that we need to `read` in order to make use of."
   ]
  },
  {
   "cell_type": "code",
   "execution_count": 35,
   "metadata": {},
   "outputs": [
    {
     "name": "stdout",
     "output_type": "stream",
     "text": [
      "0.555723369122\n"
     ]
    }
   ],
   "source": [
    "response = response['Body'].read().decode('utf-8')\n",
    "print(response)"
   ]
  },
  {
   "cell_type": "markdown",
   "metadata": {},
   "source": [
    "Now that we know how to process the incoming user data we can start setting up the infrastructure to make our simple web app work. To do this we will make use of two different services. Amazon's Lambda and API Gateway services.\n",
    "\n",
    "Lambda is a service which allows someone to write some relatively simple code and have it executed whenever a chosen trigger occurs. For example, you may want to update a database whenever new data is uploaded to a folder stored on S3.\n",
    "\n",
    "API Gateway is a service that allows you to create HTTP endpoints (url addresses) which are connected to other AWS services. One of the benefits to this is that you get to decide what credentials, if any, are required to access these endpoints.\n",
    "\n",
    "In our case we are going to set up an HTTP endpoint through API Gateway which is open to the public. Then, whenever anyone sends data to our public endpoint we will trigger a Lambda function which will send the input (in our case a review) to our model's endpoint and then return the result."
   ]
  },
  {
   "cell_type": "markdown",
   "metadata": {},
   "source": [
    "### Setting up a Lambda function\n",
    "\n",
    "The first thing we are going to do is set up a Lambda function. This Lambda function will be executed whenever our public API has data sent to it. When it is executed it will receive the data, perform any sort of processing that is required, send the data (the review) to the SageMaker endpoint we've created and then return the result.\n",
    "\n",
    "#### Part A: Create an IAM Role for the Lambda function\n",
    "\n",
    "Since we want the Lambda function to call a SageMaker endpoint, we need to make sure that it has permission to do so. To do this, we will construct a role that we can later give the Lambda function.\n",
    "\n",
    "Using the AWS Console, navigate to the **IAM** page and click on **Roles**. Then, click on **Create role**. Make sure that the **AWS service** is the type of trusted entity selected and choose **Lambda** as the service that will use this role, then click **Next: Permissions**.\n",
    "\n",
    "In the search box type `sagemaker` and select the check box next to the **AmazonSageMakerFullAccess** policy. Then, click on **Next: Review**.\n",
    "\n",
    "Lastly, give this role a name. Make sure you use a name that you will remember later on, for example `LambdaSageMakerRole`. Then, click on **Create role**."
   ]
  },
  {
   "cell_type": "markdown",
   "metadata": {},
   "source": [
    "#### Part B: Create a Lambda function\n",
    "\n",
    "Now it is time to actually create the Lambda function. Remember from earlier that in order to process the user provided input and send it to our endpoint we need to gather two pieces of information:\n",
    "\n",
    " - The name of the endpoint, and\n",
    " - the vocabulary object.\n",
    "\n",
    "We will copy these pieces of information to our Lambda function after we create it.\n",
    "\n",
    "To start, using the AWS Console, navigate to the AWS Lambda page and click on **Create a function**. When you get to the next page, make sure that **Author from scratch** is selected. Now, name your Lambda function, using a name that you will remember later on, for example `sentiment_analysis_xgboost_func`. Make sure that the **Python 3.6** runtime is selected and then choose the role that you created in the previous part. Then, click on **Create Function**.\n",
    "\n",
    "On the next page you will see some information about the Lambda function you've just created. If you scroll down you should see an editor in which you can write the code that will be executed when your Lambda function is triggered. Collecting the code we wrote above to process a single review and adding it to the provided example `lambda_handler` we arrive at the following.\n",
    "\n",
    "```python\n",
    "# We need to use the low-level library to interact with SageMaker since the SageMaker API\n",
    "# is not available natively through Lambda.\n",
    "import boto3\n",
    "\n",
    "# And we need the regular expression library to do some of the data processing\n",
    "import re\n",
    "\n",
    "REPLACE_NO_SPACE = re.compile(\"(\\.)|(\\;)|(\\:)|(\\!)|(\\')|(\\?)|(\\,)|(\\\")|(\\()|(\\))|(\\[)|(\\])\")\n",
    "REPLACE_WITH_SPACE = re.compile(\"(<br\\s*/><br\\s*/>)|(\\-)|(\\/)\")\n",
    "\n",
    "def review_to_words(review):\n",
    "    words = REPLACE_NO_SPACE.sub(\"\", review.lower())\n",
    "    words = REPLACE_WITH_SPACE.sub(\" \", words)\n",
    "    return words\n",
    "    \n",
    "def bow_encoding(words, vocabulary):\n",
    "    bow = [0] * len(vocabulary) # Start by setting the count for each word in the vocabulary to zero.\n",
    "    for word in words.split():  # For each word in the string\n",
    "        if word in vocabulary:  # If the word is one that occurs in the vocabulary, increase its count.\n",
    "            bow[vocabulary[word]] += 1\n",
    "    return bow\n",
    "\n",
    "\n",
    "def lambda_handler(event, context):\n",
    "    \n",
    "    vocab = \"*** ACTUAL VOCABULARY GOES HERE ***\"\n",
    "    \n",
    "    words = review_to_words(event['body'])\n",
    "    bow = bow_encoding(words, vocab)\n",
    "\n",
    "    # The SageMaker runtime is what allows us to invoke the endpoint that we've created.\n",
    "    runtime = boto3.Session().client('sagemaker-runtime')\n",
    "\n",
    "    # Now we use the SageMaker runtime to invoke our endpoint, sending the review we were given\n",
    "    response = runtime.invoke_endpoint(EndpointName = '***ENDPOINT NAME HERE***',# The name of the endpoint we created\n",
    "                                       ContentType = 'text/csv',                 # The data format that is expected\n",
    "                                       Body = ','.join([str(val) for val in bow]).encode('utf-8')) # The actual review\n",
    "\n",
    "    # The response is an HTTP response whose body contains the result of our inference\n",
    "    result = response['Body'].read().decode('utf-8')\n",
    "    \n",
    "    # Round the result so that our web app only gets '1' or '0' as a response.\n",
    "    result = round(float(result))\n",
    "\n",
    "    return {\n",
    "        'statusCode' : 200,\n",
    "        'headers' : { 'Content-Type' : 'text/plain', 'Access-Control-Allow-Origin' : '*' },\n",
    "        'body' : str(result)\n",
    "    }\n",
    "```"
   ]
  },
  {
   "cell_type": "markdown",
   "metadata": {},
   "source": [
    "Once you have copy and pasted the code above into the Lambda code editor, replace the `**ENDPOINT NAME HERE**` portion with the name of the endpoint that we deployed earlier. You can determine the name of the endpoint using the code cell below."
   ]
  },
  {
   "cell_type": "code",
   "execution_count": 36,
   "metadata": {},
   "outputs": [
    {
     "data": {
      "text/plain": [
       "'xgboost-2020-04-14-21-32-45-352'"
      ]
     },
     "execution_count": 36,
     "metadata": {},
     "output_type": "execute_result"
    }
   ],
   "source": [
    "xgb_predictor.endpoint"
   ]
  },
  {
   "cell_type": "markdown",
   "metadata": {},
   "source": [
    "In addition, you will need to copy the vocabulary dict to the appropriate place in the code at the beginning of the `lambda_handler` method. The cell below prints out the vocabulary dict in a way that is easy to copy and paste."
   ]
  },
  {
   "cell_type": "code",
   "execution_count": 37,
   "metadata": {},
   "outputs": [
    {
     "name": "stdout",
     "output_type": "stream",
     "text": [
      "{'the': 4426, 'shining': 3933, 'starts': 4159, 'with': 4911, 'jack': 2373, 'nicholson': 3011, 'driving': 1368, 'to': 4507, 'an': 223, 'isolated': 2363, 'hotel': 2175, 'named': 2961, 'overlook': 3153, 'high': 2100, 'in': 2257, 'mountains': 2918, 'for': 1784, 'interview': 2329, 'its': 2370, 'manager': 2724, 'barry': 401, 'nelson': 2997, 'about': 67, 'becoming': 435, 'winter': 4900, 'tells': 4397, 'that': 4424, 'he': 2056, 'will': 4886, 'be': 418, 'responsible': 3656, 'basic': 406, 'of': 3083, 'but': 636, 'almost': 193, 'totally': 4532, 'from': 1840, 'rest': 3657, 'world': 4946, 'six': 4010, 'months': 2897, 'as': 311, 'harsh': 2040, 'sets': 3899, 'together': 4511, 'his': 2118, 'wife': 4884, 'wendy': 4846, 'shelley': 3928, 'young': 4989, 'son': 4070, 'danny': 1112, 'lloyd': 2630, 'moves': 2925, 'into': 2332, 'at': 331, 'first': 1736, 'everything': 1544, 'seems': 3864, 'fine': 1729, 'beautiful': 428, 'absolutely': 72, 'huge': 2185, 'whatever': 4859, 'they': 4442, 'need': 2987, 'is': 2360, 'their': 4431, 'however': 2183, 'has': 2043, 'past': 3207, 'previous': 3387, 'entire': 1502, 'family': 1645, 'before': 440, 'suicide': 4283, 'ability': 65, 'shine': 3931, 'which': 4867, 'means': 2783, 'psychic': 3456, 'powers': 3361, 'let': 2579, 'him': 2110, 'see': 3855, 'hear': 2061, 'things': 4451, 'ordinary': 3128, 'people': 3221, 'cant': 671, 'days': 1130, 'weeks': 4839, 'begin': 442, 'pass': 3201, 'become': 433, 'more': 2904, 'insane': 2296, 'keeps': 2451, 'seeing': 3857, 'while': 4868, 'becomes': 434, 'she': 3923, 'doesnt': 1309, 'have': 2052, 'clue': 864, 'whats': 4860, 'happening': 2028, 'her': 2085, 'heavy': 2070, 'leaves': 2556, 'them': 4432, 'trapped': 4564, 'finally': 1724, 'loses': 2657, 'it': 2366, 'this': 4457, 'english': 1483, 'production': 3419, 'was': 4805, 'co': 867, 'written': 4972, 'produced': 3414, 'directed': 1259, 'by': 642, 'stanley': 4148, 'kubrick': 2496, 'horror': 2168, 'film': 1716, 'appears': 278, 'another': 250, 'exists': 1573, 'two': 4620, 'distinct': 1296, 'different': 1248, 'versions': 4721, 'one': 3107, 'on': 3105, 'european': 1530, 'cut': 1089, 'runs': 3757, 'just': 2437, 'under': 4639, 'hours': 2177, 'length': 2569, 'script': 3834, 'diane': 1238, 'johnson': 2411, 'based': 404, 'novel': 3052, 'stephen': 4176, 'king': 2479, 'not': 3040, 'read': 3543, 'so': 4046, 'compare': 911, 'goes': 1930, 'psychological': 3458, 'rather': 3528, 'than': 4420, 'visual': 4757, 'only': 3110, 'murder': 2939, 'during': 1387, 'there': 4438, 'are': 285, 'very': 4723, 'few': 1700, 'characters': 760, 'ones': 3108, 'really': 3556, 'matter': 2769, 'since': 3990, 'you': 4986, 'care': 684, 'involved': 2346, 'what': 4858, 'go': 1924, 'through': 4477, 'pace': 3161, 'somewhat': 4068, 'slow': 4031, 'didnt': 1242, 'feel': 1684, 'long': 2644, 'interested': 2324, 'throughout': 4478, 'negative': 2991, 'side': 3965, 'dont': 1324, 'think': 4452, 'behind': 447, 'going': 1931, 'crazy': 1035, 'wanting': 4790, 'kill': 2468, 'strong': 4229, 'enough': 1491, 'convince': 983, 'me': 2778, 'fact': 1621, 'escapes': 1519, 'without': 4913, 'any': 256, 'explanation': 1590, 'bugs': 613, 'know': 2489, 'if': 2222, 'missed': 2867, 'something': 4066, 'ending': 1471, 'make': 2713, 'sense': 3877, 'whatsoever': 4861, 'im': 2232, 'still': 4188, 'trying': 4601, 'work': 4940, 'out': 3141, 'picture': 3269, 'all': 187, 'little': 2624, 'way': 4820, 'violence': 4747, 'or': 3124, 'gore': 1941, 'couple': 1016, 'rotten': 3740, 'zombie': 4997, 'ghosts': 1903, 'someone': 4064, 'killed': 2469, 'blood': 512, 'special': 4097, 'effects': 1431, 'gripping': 1976, 'story': 4207, 'budget': 610, 'technically': 4382, 'flawless': 1751, 'would': 4957, 'expect': 1575, 'filmmaker': 1719, 'such': 4268, 'cinematography': 820, 'brilliant': 583, 'some': 4061, 'fantastic': 1651, 'free': 1827, 'smooth': 4041, 'shots': 3950, 'camera': 659, 'follows': 1775, 'around': 297, 'look': 2646, 'real': 3547, 'instead': 2307, 'clichéd': 845, 'old': 3100, 'haunted': 2050, 'house': 2178, 'themes': 4434, 'like': 2599, 'dark': 1115, 'brings': 587, 'right': 3696, 'up': 4683, 'date': 1118, 'lit': 2621, 'massive': 2756, 'open': 3112, 'modern': 2882, 'well': 4843, '80s': 59, 'check': 777, 'red': 3576, 'toilet': 4512, 'acting': 99, 'good': 1937, 'everyone': 1542, 'although': 201, 'usual': 4699, 'films': 1721, 'kid': 2464, 'highly': 2105, 'annoying': 249, 'start': 4156, 'enjoyed': 1486, 'watching': 4815, 'sure': 4308, 'id': 2212, 'watch': 4811, 'again': 146, 'soon': 4074, 'those': 4460, 'looking': 2648, 'explosions': 1597, 'fancy': 1649, 'disappointed': 1273, 'type': 4621, 'definitely': 1162, 'worth': 4953, 'my': 2951, 'humble': 2191, 'opinion': 3118, 'loved': 2670, 'fred': 1825, 'wonderful': 4928, 'proud': 3444, 'yet': 4984, 'same': 3778, 'time': 4495, 'vulnerable': 4768, 'player': 3298, 'who': 4871, 'love': 2669, 'maggie': 2702, 'whos': 4876, 'always': 203, 'meet': 2793, 'after': 143, 'comes': 891, 'off': 3084, 'ship': 3934, 'and': 226, 'end': 1468, 'bar': 396, 'anthony': 253, 'tony': 4521, 'gets': 1900, 'nose': 3037, 'thinking': 4453, 'loose': 2650, 'woman': 4921, 'because': 432, 'took': 4523, 'hat': 2045, 'public': 3460, 'big': 478, 'ends': 1474, 'stuck': 4237, 'romance': 3732, 'arthur': 305, 'great': 1964, 'whenever': 4863, 'needs': 2990, 'where': 4864, 'movie': 2926, 'find': 1726, 'these': 4441, 'scenes': 3811, 'sings': 3997, 'arms': 294, 'plays': 3301, 'recommend': 3571, 'show': 3953, 'second': 3846, 'season': 3843, 'began': 441, 'ended': 1470, 'much': 2934, 'mystery': 2956, 'suspense': 4330, 'most': 2909, 'episodes': 1508, 'everywhere': 1545, 'made': 2697, 'truly': 4597, 'amazing': 209, 'how': 2181, 'writer': 4968, 'can': 665, 'come': 886, 'link': 2613, 'combine': 884, 'elements': 1443, 'lives': 2628, 'meaningful': 2781, 'never': 3001, 'fail': 1625, 'am': 204, 'forward': 1808, 'new': 3003, 'hopefully': 2157, 'secrets': 3852, 'reveal': 3670, 'cast': 710, 'too': 4522, 'fit': 1740, 'perfectly': 3226, 'wait': 4770, 'discover': 1279, 'secret': 3849, 'hype': 2207, 'wont': 4932, 'spoil': 4121, 'surprised': 4313, 'comedy': 890, 'amusing': 221, 'times': 4497, 'wasnt': 4807, 'funny': 1852, 'been': 438, 'expecting': 1578, 'might': 2835, 'no': 3020, 'expectations': 1576, 'found': 1811, 'enjoyable': 1485, 'engaging': 1481, 'maybe': 2776, 'protagonist': 3441, 'less': 2575, 'concerned': 932, 'satire': 3788, 'capital': 673, 'man': 2721, 'fighting': 1709, 'gain': 1863, 'put': 3480, 'hes': 2093, 'heroic': 2090, 'when': 4862, 'refuses': 3587, 'take': 4349, 'money': 2888, 'hot': 2174, 'return': 3665, 'interesting': 2325, 'here': 2086, 'compared': 912, 'park': 3190, 'thoroughly': 4459, 'part': 3193, 'impossible': 2249, 'planet': 3289, 'slightly': 4029, 'worried': 4949, 'wouldnt': 4958, 'hold': 2129, 'quite': 3495, 'true': 4596, 'series': 3890, 'thankfully': 4422, 'fears': 1677, 'were': 4848, 'myself': 2953, 'enjoying': 1487, 'episode': 1507, 'anyway': 261, 'we': 4823, 'surviving': 4323, 'crew': 1053, 'members': 2801, 'run': 3755, 'whom': 4875, 'devils': 1229, 'also': 199, 'bit': 488, 'doctors': 1305, 'needless': 2989, 'say': 3799, 'solid': 4057, 'doctor': 1304, 'tad': 4347, 'intense': 2316, 'younger': 4990, 'viewers': 4739, 'though': 4461, 'grade': 1951, 'best': 469, 'movies': 2927, 'ive': 2372, 'ever': 1538, 'seen': 3865, 'takes': 4351, 'emotions': 1461, 'laugh': 2529, 'cry': 1073, 'get': 1899, 'happy': 2032, 'over': 3148, 'actors': 104, 'mention': 2810, 'leading': 2547, 'actor': 103, 'course': 1019, 'michael': 2829, 'does': 1308, 'remarkable': 3613, 'job': 2405, 'admire': 121, 'mentally': 2809, 'convincing': 985, 'sort': 4077, 'reminded': 3619, 'roll': 3728, 'then': 4436, 'song': 4071, 'enjoy': 1484, 'dreadful': 1353, 'sequel': 3885, 'picks': 3268, 'karen': 2444, 'funeral': 1849, 'christopher': 811, 'lee': 2559, 'sadly': 3769, 'arrives': 302, 'brother': 598, 'ben': 463, 'brown': 601, 'werewolf': 4850, 'head': 2057, 'annie': 247, 'join': 2412, 'terrible': 4407, 'bad': 382, 'direction': 1261, 'inept': 2281, 'editing': 1421, 'horrendous': 2162, 'single': 3996, 'sink': 3999, 'mostly': 2910, 'kept': 2456, 'reason': 3557, 'theyre': 4445, 'did': 1241, 'cartoon': 704, 'theres': 4440, 'particularly': 3195, 'stupid': 4247, 'top': 4525, 'least': 2554, 'eight': 1436, 'closing': 859, 'credits': 1050, 'village': 4743, 'looks': 2649, 'came': 656, 'universal': 4665, 'flick': 1754, '1930s': 11, 'tricks': 4583, 'between': 475, 'transition': 4561, 'bodies': 526, 'save': 3794, 'why': 4878, 'do': 1302, 'hard': 2033, 'lowest': 2678, 'rated': 3527, 'alone': 194, 'should': 3951, 'tell': 4395, 'supposedly': 4307, 'saw': 3798, 'understand': 4643, 'must': 2950, 'miss': 2866, 'stay': 4166, 'sleep': 4024, 'pure': 3471, 'crap': 1031, 'actually': 109, 'got': 1944, 'walked': 4776, 'poorly': 3329, 'hated': 2047, 'taken': 4350, 'better': 472, 'had': 2003, 'expected': 1577, 'considering': 952, 'liked': 2600, 'george': 1893, 'jungle': 2434, 'graphics': 1959, 'werent': 4849, 'instance': 2304, 'bird': 484, 'tree': 4576, 'hope': 2155, 'director': 1264, 'next': 3007, 'give': 1912, 'done': 1322, 'worthwhile': 4955, 'until': 4680, '10': 0, 'minded': 2850, 'shop': 3945, 'canadian': 667, 'your': 4991, 'mind': 2849, 'closed': 854, 'current': 1084, 'score': 3822, '25': 40, 'anybody': 257, 'prepared': 3371, 'outside': 3146, 'own': 3158, 'racial': 3501, 'life': 2592, 'three': 4469, 'lose': 2654, 'many': 2732, 'especially': 1520, 'towards': 4540, 'yourself': 4993, 'having': 2054, 'tear': 4379, 'eyes': 1613, 'simply': 3986, 'often': 3095, 'anyone': 259, 'beyond': 476, 'traditional': 4550, 'american': 213, 'international': 2326, 'documentary': 1307, 'festival': 1697, 'both': 547, 'directors': 1266, 'lively': 2627, 'title': 4504, 'keep': 2449, 'river': 3707, 'making': 2718, 'aspect': 321, 'equally': 1510, 'important': 2247, 'loving': 2675, 'gay': 1876, 'relationship': 3597, 'groups': 1981, 'reunion': 3669, 'nearly': 2981, '80': 58, 'years': 4979, 'age': 148, 'inevitable': 2282, 'leave': 2555, 'taking': 4352, 'moving': 2928, 'anything': 260, 'thought': 4462, 'deadly': 1133, 'smart': 4035, 'stylish': 4251, 'rock': 3720, 'carrie': 697, 'anne': 246, 'baker': 385, 'tim': 4494, 'blake': 498, 'billy': 482, 'fast': 1661, 'writers': 4969, 'dennis': 1179, 'robert': 3713, 'andrew': 228, 'lot': 2661, 'political': 3324, 'created': 1037, 'depth': 1190, 'spirit': 4113, 'cure': 1081, 'went': 4847, 'bomb': 531, 'basically': 407, 'broadway': 592, 'play': 3296, 'music': 2946, 'plain': 3286, 'isnt': 2362, 'memorable': 2802, 'heard': 2062, 'hits': 2125, 'arent': 288, 'musical': 2947, 'numbers': 3061, 'pop': 3330, 'back': 378, 'songs': 4072, 'suck': 4269, 'character': 758, 'development': 1225, 'lead': 2545, 'singing': 3995, 'sounded': 4082, 'every': 1539, 'stand': 4143, 'nothing': 3047, 'offer': 3087, 'die': 1243, 'doubt': 1332, 'complete': 921, 'except': 1556, 'glover': 1923, 'screen': 3829, 'whose': 4877, 'developed': 1223, 'rent': 3626, 'video': 4733, 'youll': 4988, 'agree': 155, 'expensive': 1579, 'polished': 3323, 'dog': 1310, 'choreographed': 801, 'dancing': 1107, 'serious': 3891, 'goldberg': 1933, 'quality': 3484, 'staying': 4168, 'awake': 365, 'disjointed': 1287, 'message': 2819, 'tribute': 4581, 'students': 4239, 'died': 1244, 'student': 4238, 'noted': 3045, 'entertainment': 1500, 'poor': 3328, 'style': 4249, 'worse': 4951, 'wanted': 4789, 'tv': 4610, 'town': 4541, 'last': 2521, 'night': 3013, 'regret': 3591, 'day': 1129, 'wasted': 4809, 'ticket': 4487, 'trash': 4565, 'could': 1007, 'beginning': 443, 'bunch': 623, 'sex': 3907, 'exaggerated': 1552, 'works': 4945, 'reality': 3551, 'girls': 1911, 'types': 4622, 'boyfriend': 558, 'passing': 3204, 'pregnant': 3369, 'girl': 1909, 'barely': 399, 'laughs': 2534, 'bank': 394, 'robbery': 3711, 'completely': 922, 'boring': 543, 'gags': 1862, 'used': 4693, 'other': 3135, 'car': 680, 'beat': 423, 'van': 4713, 'claimed': 829, 'breaks': 571, 'hey': 2095, 'nice': 3008, 'vehicle': 4718, 'audience': 352, 'low': 2676, 'destroyed': 1214, 'stuff': 4243, 'drive': 1363, 'christian': 808, 'nuts': 3064, 'even': 1533, 'chase': 769, 'scene': 3809, 'chases': 771, 'rate': 3526, 'stands': 4147, 'ten': 4399, 'stars': 4155, 'dvd': 1391, 'endless': 1473, 'background': 380, 'videos': 4734, 'grand': 1953, 'set': 3898, 'various': 4715, 'pieces': 3273, 'dream': 1354, 'unfortunately': 4654, 'dull': 1384, 'transfer': 4559, 'media': 2789, 'experiments': 1584, 'amateurish': 207, 'effort': 1432, 'contains': 964, 'social': 4049, 'commentary': 899, 'released': 3603, 'premise': 3370, 'outrageous': 3145, 'events': 1536, 'imagine': 2238, 'clearly': 840, 'fan': 1648, 'hitchcock': 2123, 'executed': 1565, 'parody': 3192, 'pulp': 3465, 'fiction': 1702, 'including': 2264, 'soundtrack': 4085, 'us': 4690, 'supposed': 4306, 'pay': 3216, 'attention': 345, 'points': 3319, 'letters': 2582, 'page': 3167, 'admit': 122, 'entertaining': 1499, 'reasons': 3560, 'sometimes': 4067, 'slick': 4026, 'education': 1424, 'purposes': 3475, 'oh': 3096, 'yes': 4982, 'showed': 3956, 'heart': 2064, 'break': 569, 'giant': 1905, 'accidentally': 85, 'computer': 927, 'introduced': 2337, 'virus': 4752, 'order': 3126, 'security': 3854, 'keeping': 2450, 'resort': 3650, 'construction': 960, 'leaving': 2557, 'searching': 3842, 'missing': 2869, 'porn': 3336, 'away': 369, 'contact': 961, 'unable': 4631, 'eat': 1411, 'pretty': 3384, 'rip': 3700, 'victims': 4730, 'include': 2261, 'group': 1980, 'college': 875, 'stereotypes': 4179, 'rich': 3685, 'easily': 1406, 'wish': 4904, 'horrible': 2163, 'death': 1141, 'sci': 3815, 'fi': 1701, 'channel': 753, 'flicks': 1755, 'attack': 337, 'animals': 240, 'final': 1722, 'sequence': 3887, 'presented': 3376, 'demand': 1174, 'within': 4912, 'soul': 4079, 'spent': 4108, 'awful': 372, 'exercise': 1568, 'creature': 1045, 'feature': 1678, 'humor': 2192, 'heads': 2059, 'being': 448, 'torn': 4528, 'unconvincing': 4638, 'body': 527, 'parts': 3199, 'upon': 4684, 'crying': 1074, 'help': 2079, 'none': 3028, 'starting': 4158, 'sound': 4081, 'broken': 594, 'record': 3573, 'user': 4696, 'comment': 898, 'write': 4967, 'move': 2921, 'kinds': 2478, 'cinema': 816, 'carradine': 695, 'role': 3726, 'ruthless': 3764, 'businessman': 634, 'ex': 1549, 'law': 2538, 'nicholas': 3010, 'bell': 458, 'opening': 3114, 'featuring': 1681, 'major': 2711, 'attraction': 350, 'officer': 3092, 'attempts': 343, 'hopes': 2159, 'putting': 3482, 'multi': 2935, 'million': 2847, 'dollar': 1314, 'project': 3427, 'island': 2361, 'brian': 576, 'lover': 2672, 'running': 3756, 'fate': 1665, 'resulting': 3661, 'tooth': 4524, 'tiger': 4491, 'spends': 4107, 'deal': 1135, 'point': 3316, 'view': 4736, 'shows': 3960, 'humans': 2190, 'bright': 581, 'color': 877, 'ultimately': 4628, 'consists': 955, 'walking': 4779, 'safety': 3772, 'kids': 2467, 'commit': 904, 'breaking': 570, 'certain': 737, 'hunt': 2198, 'enter': 1494, 'playing': 3300, 'rise': 3702, 'above': 68, 'clichés': 846, 'remember': 3616, 'flying': 1764, 'now': 3054, 'private': 3404, 'commercial': 902, 'obsessed': 3069, 'subject': 4253, 'across': 96, 'spin': 4112, 'basement': 405, 'home': 2142, 'hit': 2122, 'parents': 3188, 'bought': 552, 'tape': 4365, 'theme': 4433, 'grew': 1972, 're': 3535, 'today': 4508, 'plan': 3287, 'buying': 641, 'dvds': 1392, 'children': 792, 'adults': 126, 'timeless': 4496, 'cannot': 670, 'eddie': 1416, 'nine': 3017, 'shooting': 3943, 'makes': 2716, 'key': 2458, 'poignant': 3315, 'hair': 2005, 'clothing': 861, 'styles': 4250, 'dated': 1119, 'note': 3044, 'game': 1864, 'shown': 3959, 'heston': 2094, 'said': 3774, 'believed': 455, 'several': 3905, 'classic': 835, 'notch': 3043, 'robinson': 3716, 'performances': 3229, 'peters': 3248, 'perfect': 3224, 'combined': 885, 'cake': 648, 'significant': 3972, 'tale': 4353, 'wrong': 4973, 'mans': 2730, 'earth': 1403, 'says': 3801, 'our': 3139, 'present': 3374, 'saying': 3800, 'refreshing': 3586, 'lost': 2660, 'gem': 1877, 'effective': 1429, 'dialog': 1232, 'excellent': 1555, 'involve': 2345, 'happens': 2029, 'douglas': 1334, 'widmark': 4882, 'realistic': 3550, 'heroes': 2089, 'evil': 1548, 'presence': 3373, 'win': 4892, 'fight': 1707, '60': 53, 'seconds': 3848, 'logical': 2639, 'lengthy': 2570, 'foot': 1781, 'overdone': 3152, 'sequences': 3888, 'contemporary': 965, 'hollywood': 2137, 'likely': 2601, 'interest': 2323, 'middle': 2833, 'conclusion': 936, 'immediately': 2242, 'bottom': 551, 'shelf': 3926, 'local': 2634, 'store': 4204, 'covered': 1023, 'dust': 1388, 'touched': 4534, 'may': 2775, '50': 51, 'bucks': 606, 'swear': 4334, 'buy': 640, 'celluloid': 731, 'version': 4720, 'forms': 1801, 'gave': 1875, 'deserves': 1201, 'lower': 2677, 'designed': 1203, 'spoiled': 4122, 'jennifer': 2392, 'typical': 4623, 'jim': 2402, 'carrey': 696, 'comedies': 889, 'otherwise': 3137, 'satisfied': 3789, '60s': 54, 'recording': 3575, 'sympathy': 4343, 'devil': 1228, 'album': 175, 'revolutionary': 3681, 'boy': 557, 'rolling': 3730, 'stones': 4198, 'richards': 3687, 'charlie': 765, 'bill': 481, 'jones': 2418, 'plus': 3311, 'faithful': 1634, 'movements': 2924, 'black': 493, 'power': 3359, 'reading': 3544, 'cheap': 774, 'sight': 3969, 'eve': 1532, 'inside': 2297, 'beach': 419, 'pretentious': 3383, 'mess': 2818, 'uneven': 4649, 'jean': 2389, 'narrative': 2966, 'fortunately': 1805, 'careers': 687, 'unbearable': 4633, 'vote': 4766, 'brazil': 568, 'adams': 112, 'inspiring': 2302, 'impressive': 2253, 'doing': 1312, 'french': 1830, 'dramatic': 1348, 'mix': 2876, 'animation': 242, 'generated': 1882, 'images': 2235, 'result': 3660, 'stunning': 4244, 'once': 3106, 'week': 4837, 'compelling': 916, 'rank': 3518, 'household': 2179, 'book': 535, 'filmed': 1717, 'visit': 4755, 'answer': 251, 'question': 3487, 'ill': 2228, 'comments': 901, 'british': 589, 'lovely': 2671, 'south': 4087, 'place': 3282, 'essential': 1522, 'change': 749, 'disappointment': 1275, 'lines': 2612, 'heres': 2087, 'main': 2707, 'issue': 2364, 'kim': 2475, 'castle': 712, 'visually': 4758, 'seemed': 3862, 'odds': 3082, 'dogs': 1311, 'orange': 3125, 'john': 2409, 'delivers': 1172, 'violent': 4748, 'arguably': 289, '1970s': 17, 'burt': 629, 'reynolds': 3684, 'jon': 2416, 'voight': 4764, 'ned': 2986, 'beatty': 427, 'cox': 1026, 'portray': 3340, 'four': 1812, 'decide': 1148, 'trip': 4588, 'down': 1335, 'wild': 4885, 'calls': 654, 'dead': 1132, 'lake': 2509, 'mountain': 2917, 'folk': 1770, 'painfully': 3172, 'obvious': 3071, 'city': 825, 'boys': 559, 'woods': 4935, 'following': 1774, 'sexually': 3910, 'infamous': 2284, 'vicious': 4728, 'men': 2805, 'cowboy': 1025, 'thus': 4486, 'started': 4157, 'turned': 4606, 'nightmare': 3014, 'protagonists': 3442, 'thin': 4449, 'line': 2610, 'civilization': 827, 'james': 2378, 'adapted': 114, 'screenplay': 3831, 'selling': 3873, 'disturbing': 1300, 'known': 2492, 'superb': 4296, 'roles': 3727, 'frightening': 1839, 'villains': 4745, 'willing': 4889, 'chance': 747, 'okay': 3099, 'pleasure': 3306, 'mixed': 2877, 'dentist': 1180, 'either': 1438, 'hate': 2046, 'else': 1448, 'recommended': 3572, 'psycho': 3457, 'iii': 2227, 'certainly': 738, 'pleasant': 3302, 'account': 89, 'details': 1219, 'twisted': 4618, 'ie': 2221, 'cuba': 1075, 'jr': 2423, 'panic': 3181, 'streets': 4217, 'decent': 1147, 'thriller': 4472, 'felt': 1692, 'central': 735, 'attacked': 338, 'plague': 3285, 'fascinating': 1658, 'develops': 1226, 'weak': 4824, 'whole': 4873, 'believable': 453, 'suspenseful': 4331, 'quick': 3490, 'climax': 849, 'later': 2525, 'richard': 3686, 'watchable': 4812, 'paul': 3214, 'yelling': 4980, 'zero': 4996, 'primarily': 3393, 'comic': 893, 'effectively': 1430, 'cinemas': 817, 'ultimate': 4627, 'chilling': 794, 'villain': 4744, 'disappointing': 1274, 'purely': 3472, 'year': 4978, 'response': 3654, 'anyways': 262, 'killer': 2470, 'tomatoes': 4515, 'france': 1816, 'itself': 2371, 'genius': 1887, 'text': 4419, 'cinematic': 818, 'history': 2121, 'sitting': 4007, 'recognition': 3568, 'call': 651, 'standard': 4144, 'scripts': 3836, 'opened': 3113, 'genre': 1888, 'likes': 2602, 'minimum': 2856, 'ago': 154, 'getting': 1901, 'purchase': 3469, 'card': 681, 'sappy': 3784, 'trite': 4589, 'thank': 4421, 'coming': 896, 'married': 2744, 'marriage': 2743, 'lasted': 2522, 'jumps': 2432, 'feet': 1688, 'portrays': 3344, 'please': 3304, 'warned': 4798, 'earlier': 1399, 'prove': 3445, 'absence': 70, 'agreed': 156, 'star': 4150, 'trek': 4578, 'reviewer': 3677, 'original': 3129, 'millions': 2848, 'excited': 1561, 'fans': 1650, 'waiting': 4772, 'forced': 1787, 'bland': 500, 'plot': 3309, 'incomprehensible': 2267, 'terribly': 4408, 'gory': 1943, 'recent': 3566, 'lacks': 2505, 'addition': 118, 'sad': 3767, 'thats': 4425, 'want': 4788, 'sorry': 4076, 'unless': 4669, '2003': 33, 'curious': 1083, 'famous': 1647, 'detail': 1217, 'necessary': 2984, 'source': 4086, 'material': 2766, 'era': 1513, 'small': 4033, 'morality': 2903, 'storytelling': 4209, 'eye': 1611, 'content': 966, 'told': 4513, 'overcome': 3151, 'ironically': 2356, 'cutting': 1092, 'edge': 1418, 'occasionally': 3075, 'provide': 3448, 'lacking': 2504, 'live': 2625, 'misery': 2865, 'represents': 3639, 'relatively': 3600, 'class': 833, 'beloved': 461, 'father': 1666, 'touching': 4536, 'colour': 880, 'uses': 4697, 'beautifully': 429, 'shocking': 3940, 'dreams': 1355, 'surreal': 4317, 'beauty': 430, 'humanity': 2189, 'force': 1786, 'focused': 1767, 'capturing': 679, 'portraying': 3343, 'emotional': 1459, 'dressing': 1359, 'room': 3735, 'loud': 2664, 'neither': 2996, 'impact': 2244, 'beaten': 424, 'absurd': 73, 'against': 147, 'literally': 2622, 'discussion': 1284, 'women': 4923, 'finds': 1728, 'cheated': 775, 'white': 4870, 'team': 4378, 'ridiculous': 3693, 'racism': 3502, 'possible': 3350, 'endure': 1475, 'understanding': 4645, 'craft': 1028, 'track': 4544, 'desperate': 1208, 'attempt': 340, 'wondering': 4930, 'accepted': 82, 'appearance': 274, 'painful': 3171, 'wonder': 4926, 'watched': 4813, 'admittedly': 123, 'viewed': 4737, 'knew': 2486, 'names': 2963, 'claim': 828, 'greatest': 1966, 'broke': 593, 'murdered': 2940, 'favorite': 1671, 'station': 4164, 'mtv': 2933, 'decided': 1149, 'surprisingly': 4316, 'dialogue': 1234, 'handled': 2019, 'occasion': 3073, 'slight': 4027, 'accent': 78, 'talking': 4360, 'explore': 1594, 'possibilities': 3348, 'harris': 2038, 'snl': 4044, 'realize': 3552, 'moment': 2886, 'probably': 3407, 'overall': 3150, 'curiosity': 1082, 'happened': 2027, 'viewing': 4740, 'earned': 1401, 'guys': 2001, 'direct': 1258, 'produce': 3413, 'poetry': 3314, 'awesome': 371, 'fell': 1690, 'adding': 117, 'collection': 874, 'friends': 1837, 'continue': 969, 'worry': 4950, 'wishes': 4906, 'art': 304, 'grim': 1974, 'depressing': 1188, 'joy': 2422, 'involving': 2349, 'union': 4661, 'strike': 4224, 'already': 197, 'positive': 3346, 'americas': 215, 'underrated': 4642, 'deeply': 1156, 'chinese': 796, 'underground': 4640, 'bands': 392, 'culture': 1079, 'thing': 4450, 'whether': 4866, 'kicking': 2462, 'bored': 541, 'growing': 1983, 'dad': 1095, 'teenager': 4390, 'weekend': 4838, 'moved': 2922, 'round': 3742, 'whoever': 4872, 'trailer': 4554, 'pictures': 3270, 'latest': 2526, 'release': 3602, 'along': 195, 'believing': 457, 'contrary': 974, 'supernatural': 4302, 'thrilling': 4474, 'sarah': 3785, 'michelle': 2830, 'personal': 3240, 'problems': 3409, 'haunting': 2051, 'depicting': 1184, 'met': 2822, 'texas': 4418, 'business': 633, 'led': 2558, 'womans': 4922, 'la': 2500, 'face': 1616, 'person': 3238, 'frequently': 1832, 'appeared': 276, 'name': 2960, 'terry': 4415, 'played': 3297, 'peter': 3247, 'search': 3841, 'answers': 252, 'folks': 1771, 'atrocious': 335, 'hideous': 2098, 'directing': 1260, 'choose': 799, 'each': 1395, 'adam': 111, 'downright': 1337, 'moronic': 2907, 'unpleasant': 4674, 'placed': 3283, 'believe': 454, 'called': 652, 'actual': 108, 'due': 1382, 'left': 2561, 'cold': 872, 'stellar': 4174, 'themselves': 4435, 'saved': 3795, 'disaster': 1276, 'assume': 328, 'pride': 3391, 'medical': 2790, 'entirely': 1503, 'guy': 2000, 'test': 4416, 'full': 1846, 'door': 1328, 'learning': 2552, 'improved': 2255, 'able': 66, 'massacre': 2754, 'given': 1913, 'kudos': 2497, 'consider': 949, 'praise': 3364, 'worthy': 4956, 'worst': 4952, 'mean': 2779, 'parallel': 3185, 'success': 4265, 'add': 115, 'honestly': 2147, 'embarrassed': 1453, 'theater': 4427, 'experience': 1580, 'short': 3946, 'non': 3027, 'cliche': 843, 'wise': 4903, 'silly': 3976, 'florida': 1761, 'academy': 77, 'awards': 367, 'bizarre': 492, 'results': 3662, 'award': 366, 'difficult': 1249, 'explain': 1586, 'five': 1743, 'unwatchable': 4682, 'dr': 1340, 'tune': 4602, 'rex': 3683, 'brooks': 596, 'powerful': 3360, 'adaptation': 113, 'capture': 676, 'graphic': 1958, 'gruesome': 1986, 'adult': 125, 'multiple': 2936, '1950s': 14, 'locations': 2636, 'murders': 2943, 'master': 2757, 'cinematographer': 819, 'hall': 2009, 'correct': 1000, 'unsettling': 4679, 'built': 618, 'scott': 3824, 'wilson': 4891, 'charm': 767, 'killers': 2471, 'joke': 2414, 'speaks': 4096, 'treasure': 4571, 'duo': 1386, 'mexico': 2827, 'child': 789, 'sold': 4052, 'anti': 254, 'punishment': 3467, 'despite': 1211, 'focus': 1766, 'criminals': 1058, 'backgrounds': 381, 'dimensional': 1253, 'lack': 2502, 'balance': 387, 'row': 3744, 'apparently': 270, 'feelings': 1686, 'deep': 1154, 'thoughts': 4464, 'double': 1331, 'speak': 4094, 'racist': 3503, 'educational': 1425, 'system': 4345, 'failed': 1626, 'ice': 2210, 'relationships': 3598, 'reach': 3536, 'spoke': 4125, 'minute': 2858, 'thomas': 4458, 'touch': 4533, 'familiar': 1643, 'unknown': 4668, 'perhaps': 3235, 'reflection': 3585, 'pat': 3208, 'performance': 3228, 'jason': 2383, 'makers': 2715, 'struggling': 4236, 'fill': 1714, '90': 60, 'minutes': 2859, 'seem': 3861, 'scared': 3805, 'fairy': 1632, 'ghost': 1902, 'individual': 2277, 'bet': 470, 'wandering': 4785, 'riding': 3695, 'youre': 4992, 'acted': 98, 'kidding': 2465, 'historical': 2119, 'references': 3583, 'aside': 315, 'excuse': 1564, 'shame': 3918, 'others': 3136, 'costumes': 1006, 'asian': 314, 'couldnt': 1008, 'figure': 1711, 'lying': 2690, 'bed': 436, 'maria': 2736, 'wrote': 4974, 'suddenly': 4273, 'battle': 414, 'delivered': 1170, 'junior': 2435, 'gary': 1873, 'stretch': 4221, 'costume': 1005, 'fair': 1630, 'italy': 2368, 'street': 4216, 'half': 2007, 'wanna': 4786, 'piece': 3272, 'favourite': 1673, 'queen': 3485, 'floor': 1759, 'baby': 376, 'chair': 742, 'leg': 2562, 'god': 1926, 'confused': 941, 'extremely': 1610, 'superficial': 4298, 'cheesy': 781, 'subplots': 4256, 'nowhere': 3056, 'chick': 786, 'attempting': 342, 'shocked': 3939, 'youd': 4987, 'lesbian': 2573, 'closet': 858, 'catch': 714, 'ok': 3098, 'bother': 548, 'looked': 2647, 'count': 1010, 'hand': 2015, 'crappy': 1032, 'lighting': 2596, 'places': 3284, 'try': 4600, 'practically': 3362, 'johnny': 2410, 'rebel': 3561, 'blond': 510, 'stick': 4185, 'buddy': 609, 'charming': 768, 'rendition': 3625, 'areas': 287, 'mood': 2898, 'laurel': 2537, 'hardy': 2037, 'offended': 3085, 'gentle': 1890, 'introduce': 2336, 'reasonably': 3559, 'supporting': 4304, 'manner': 2729, 'born': 544, 'luck': 2681, 'marry': 2745, '30s': 44, 'ideas': 2215, 'status': 4165, 'parties': 3196, 'dress': 1357, 'balls': 390, 'joan': 2404, 'wealthy': 4827, 'older': 3101, 'aged': 149, 'luckily': 2682, 'rooms': 3736, 'neck': 2985, 'turning': 4608, 'police': 3322, 'inspector': 2299, 'sir': 4000, 'mother': 2911, 'loyal': 2679, 'sam': 3777, 'wood': 4933, 'adds': 119, 'subtle': 4260, 'touches': 4535, 'average': 362, 'melodrama': 2797, 'idiotic': 2219, 'fake': 1635, 'lame': 2510, 'dialogues': 1235, 'unbelievably': 4635, 'example': 1553, 'dumb': 1385, 'husband': 2204, 'idea': 2213, 'stage': 4139, 'sit': 4003, 'thousands': 4466, 'needed': 2988, 'creates': 1038, 'chemistry': 782, 'paper': 3183, 'casting': 711, 'choice': 797, 'revolves': 3682, 'action': 100, 'seriously': 3892, 'fault': 1668, 'importance': 2246, 'shines': 3932, 'tone': 4517, 'conversation': 980, 'acts': 107, 'translation': 4562, 'silver': 3977, '12': 3, 'angry': 238, 'fish': 1738, 'feels': 1687, 'knows': 2493, 'fortune': 1806, 'falls': 1640, 'waitress': 4773, 'weird': 4841, 'damn': 1100, 'indian': 2274, 'inspired': 2301, 'fun': 1848, 'corny': 997, 'liners': 2611, 'moments': 2887, 'meets': 2795, 'moore': 2901, 'timing': 4498, 'words': 4938, 'language': 2516, 'talks': 4361, 'standing': 4146, 'country': 1014, 'directions': 1262, 'oscar': 3133, 'future': 1856, 'flat': 1748, 'unbelievable': 4634, 'usa': 4691, 'views': 4742, 'opportunity': 3121, 'attitudes': 347, 'element': 1442, 'portrayed': 3342, 'school': 3813, '20': 29, 'prior': 3400, 'box': 555, '16': 8, 'chicago': 785, 'gas': 1874, 'population': 3335, 'intimate': 2331, 'hates': 2048, 'plant': 3293, 'front': 1841, 'equal': 1509, 'emotion': 1458, '17': 9, 'virgin': 4749, 'sexual': 3908, 'flesh': 1753, 'mere': 2814, 'breath': 573, 'helping': 2081, 'farm': 1656, 'avoid': 363, 'ruin': 3750, 'giving': 1915, 'appreciate': 279, 'neil': 2995, 'brilliance': 582, 'finding': 1727, 'wit': 4908, 'human': 2188, 'york': 4985, 'ear': 1397, 'dry': 1377, 'jewish': 2401, 'trouble': 4592, 'expression': 1602, 'walter': 4784, 'matthau': 2771, 'funnier': 1850, 'self': 3869, 'image': 2233, 'happen': 2026, 'fathers': 1667, 'husbands': 2205, 'mental': 2808, 'warning': 4800, 'roots': 3738, 'possibly': 3351, 'method': 2824, 'delight': 1167, 'delivery': 1173, 'masterpiece': 2759, 'personally': 3243, 'general': 1880, 'exception': 1557, 'unfortunate': 4653, 'competition': 918, 'separate': 3883, 'oscars': 3134, 'drama': 1346, 'gone': 1935, 'al': 170, 'pacino': 3164, 'afternoon': 144, 'sunshine': 4294, 'masterful': 2758, 'legendary': 2565, 'burns': 628, 'sentimental': 3882, 'brad': 560, 'debut': 1143, 'chris': 806, 'proves': 3447, 'theory': 4437, 'review': 3676, 'grandmother': 1955, 'facial': 1619, 'expressions': 1603, 'seemingly': 3863, 'currently': 1085, 'dealing': 1136, 'pain': 3170, 'relief': 3605, 'forget': 1793, 'normally': 3034, 'minor': 2857, 'kind': 2476, 'popular': 3333, 'exposed': 1598, 'intended': 2315, 'word': 4937, 'incoherent': 2265, 'pathetic': 3210, 'lets': 2580, 'primary': 3394, 'teachers': 4376, 'talent': 4354, 'realise': 3548, 'cases': 708, 'far': 1653, 'aware': 368, 'rarely': 3524, 'redeeming': 3577, 'features': 1680, 'humour': 2194, 'fear': 1676, 'lie': 2590, 'gradually': 1952, 'breasts': 572, 'exciting': 1563, 'convey': 982, 'use': 4692, 'drugs': 1374, 'crime': 1055, 'lesson': 2577, 'youve': 4995, 'case': 707, 'amount': 219, 'titles': 4506, 'consequences': 947, '1980s': 21, 'unlike': 4670, 'teen': 4388, 'holds': 2131, 'relevant': 3604, 'foster': 1809, 'southern': 4088, 'california': 650, 'existence': 1571, 'devoid': 1230, 'teens': 4392, 'spend': 4105, 'nights': 3016, 'instant': 2305, 'party': 3200, 'sympathetic': 4342, 'grow': 1982, 'charismatic': 763, 'dislike': 1288, 'pan': 3180, 'asleep': 320, 'donna': 1323, 'radio': 3504, 'beneath': 464, 'speed': 4103, 'shy': 3962, 'finish': 1732, 'holding': 2130, 'hunting': 2201, 'sally': 3776, 'fails': 1628, 'remains': 3611, 'clothes': 860, 'dorothy': 1330, 'havent': 2053, 'hurt': 2202, 'breathtaking': 574, 'dawn': 1127, 'summer': 4291, 'ian': 2209, 'biggest': 480, 'st': 4137, 'fire': 1734, 'empire': 1464, 'wall': 4781, 'commented': 900, 'wake': 4774, 'abc': 63, 'format': 1799, 'trick': 4582, 'jane': 2380, 'trailers': 4555, 'light': 2595, 'ahead': 159, 'displayed': 1292, 'ride': 3692, 'department': 1182, 'worked': 4941, 'television': 4394, 'entertained': 1498, 'decade': 1144, 'act': 97, 'advice': 133, 'disney': 1289, 'producers': 3416, 'circumstances': 822, 'hire': 2116, 'romantic': 3733, 'von': 4765, 'quotes': 3497, 'clips': 852, 'forgot': 1796, 'favorites': 1672, 'hook': 2152, 'lady': 2507, 'army': 295, 'aint': 163, 'stopped': 4202, 'picked': 3266, 'sub': 4252, 'par': 3184, 'suspect': 4327, 'stories': 4205, 'cost': 1003, 'nation': 2969, 'zombies': 4998, 'near': 2979, 'wave': 4818, 'cover': 1022, 'according': 88, 'sounds': 4084, 'kinda': 2477, 'tried': 4584, 'rental': 3627, 'ripped': 3701, 'imdb': 2240, 'allow': 189, 'somehow': 4063, 'manages': 2725, 'bring': 585, 'innocent': 2294, 'birds': 485, 'paulie': 3215, 'begins': 444, 'speech': 4102, 'learns': 2553, 'military': 2844, 'sent': 3880, 'aging': 153, 'artist': 307, 'etc': 1527, 'traveling': 4568, 'owner': 3159, 'continues': 971, 'twists': 4619, 'eventually': 1537, 'hidden': 2096, 'russian': 3762, 'simple': 3983, 'gift': 1906, 'curse': 1086, 'mixture': 2878, 'digital': 1251, 'base': 402, 'angles': 237, 'scenery': 3810, 'wars': 4804, 'resembles': 3646, 'added': 116, 'recently': 3567, 'thumbs': 4485, 'rubbish': 3748, 'cable': 644, 'channels': 754, 'marks': 2742, 'sons': 4073, 'messages': 2820, 'demons': 1178, 'exceptionally': 1559, 'stop': 4201, 'fully': 1847, 'unnecessary': 4672, 'plots': 3310, 'wholly': 4874, 'exceptional': 1558, 'silence': 3974, 'intriguing': 2335, 'aspects': 322, 'problem': 3408, 'structure': 4233, 'situations': 4009, 'orson': 3132, 'welles': 4844, 'sees': 3866, 'saves': 3796, 'ireland': 2352, 'defense': 1159, 'attorney': 348, 'talk': 4358, 'working': 4944, 'initial': 2290, 'affair': 135, 'shortly': 3947, 'strange': 4211, 'glenn': 1918, 'partner': 3198, 'asks': 319, 'dangerous': 1110, 'scheme': 3812, 'agrees': 157, 'naturally': 2974, 'number': 3060, 'mysteries': 2954, 'revealed': 3671, 'exactly': 1551, 'writes': 4970, 'directs': 1267, 'anywhere': 263, 'majority': 2712, 'became': 431, 'campy': 664, 'et': 1526, 'allowed': 190, 'magic': 2703, 'table': 4346, 'citizen': 824, 'kane': 2442, 'chances': 748, 'rating': 3529, 'himself': 2111, 'affected': 137, 'tends': 4402, 'dick': 1239, 'listed': 2618, '1999': 27, 'band': 391, 'accents': 79, 'irish': 2353, 'shes': 3930, 'gorgeous': 1942, 'plenty': 3307, 'candy': 668, 'shoots': 3944, 'close': 853, 'soap': 4047, 'opera': 3116, 'tend': 4400, 'introduces': 2338, 'pick': 3265, 'improve': 2254, 'late': 2523, 'quickly': 3491, 'turns': 4609, 'sudden': 4272, 'relative': 3599, 'exotic': 1574, 'settings': 3901, 'fairly': 1631, 'combination': 883, 'largely': 2518, 'san': 3780, 'francisco': 1819, 'allows': 192, 'complex': 923, 'resolution': 3649, 'symbolism': 4341, 'usually': 4700, 'skill': 4013, 'lots': 2662, 'heights': 2073, 'drops': 1372, 'serves': 3895, 'backdrop': 379, 'surely': 4309, 'learn': 2550, 'aid': 160, 'science': 3816, 'meaning': 2780, 'cool': 989, 'minds': 2852, 'norman': 3035, 'tough': 4537, 'follow': 1772, 'tiny': 4500, 'square': 4136, 'mouth': 2920, 'silent': 3975, 'hill': 2108, 'guessing': 1991, 'builds': 617, 'faster': 1662, 'mentioned': 2811, 'stolen': 4195, 'scary': 3807, 'gonna': 1936, 'scare': 3803, 'bear': 420, 'forever': 1792, 'stomach': 4196, 'garbage': 1870, 'copy': 994, 'tries': 4585, 'cheating': 776, 'toys': 4543, 'waste': 4808, 'belief': 451, 'telling': 4396, 'somewhere': 4069, 'hide': 2097, 'random': 3514, 'audio': 354, 'third': 4455, 'guess': 1989, 'achieve': 92, 'desired': 1206, 'carpenter': 694, 'lynch': 2691, 'filmmakers': 1720, 'flow': 1762, 'aimed': 162, 'nobody': 3022, 'ask': 316, 'held': 2074, 'successful': 4266, 'alan': 171, 'crisis': 1060, 'career': 686, 'former': 1800, 'wants': 4791, '11': 2, 'america': 212, 'longer': 2645, 'games': 1865, 'friendship': 1838, 'bond': 532, 'friend': 1835, 'angela': 232, 'psychiatrist': 3455, 'darkness': 1117, 'smith': 4038, 'mike': 2838, 'donald': 1321, 'sutherland': 4333, 'outstanding': 3147, 'bruce': 602, 'sandler': 3781, 'singer': 3993, 'bob': 524, 'state': 4160, 'contain': 962, 'spoilers': 4124, 'spoiler': 4123, 'youth': 4994, 'cliché': 844, 'particular': 3194, 'pointless': 3318, 'sucked': 4270, 'natural': 2973, 'sensitive': 3879, 'level': 2584, 'build': 614, 'deals': 1137, 'ham': 2011, 'handed': 2016, 'core': 995, 'uncomfortable': 4637, 'calling': 653, 'twenty': 4612, 'honest': 2146, 'substance': 4258, 'horrid': 2165, 'writing': 4971, 'nonsense': 3030, 'nudity': 3059, 'jerk': 2395, 'thanks': 4423, 'trust': 4598, 'numerous': 3062, 'levels': 2585, 'critics': 1064, 'neat': 2982, 'race': 3499, 'health': 2060, 'authority': 360, 'everybody': 1540, 'heat': 2067, 'cousin': 1021, 'available': 361, 'internet': 2327, 'genuine': 1891, 'period': 3236, 'noir': 3023, 'location': 2635, 'noise': 3024, 'distracting': 1297, 'professional': 3421, 'artists': 309, 'crowd': 1067, 'pacing': 3163, 'hanging': 2023, 'genuinely': 1892, 'intelligent': 2314, 'sick': 3963, 'terrific': 4409, 'anger': 235, 'mission': 2870, 'somebody': 4062, 'remake': 3612, 'fx': 1858, 'conflict': 939, 'kennedy': 2454, 'spot': 4131, 'sleazy': 4023, 'newspaper': 3006, 'community': 908, 'living': 2629, 'ages': 152, 'shot': 3949, 'hang': 2022, 'regular': 3592, 'basis': 408, 'blue': 518, 'ha': 2002, 'yeah': 4977, 'continuity': 972, 'errors': 1516, 'mainly': 2708, 'ms': 2931, 'changing': 752, 'indie': 2276, 'slasher': 4020, 'topless': 4527, 'overly': 3155, 'cameo': 657, 'wonderfully': 4929, 'understated': 4646, 'moral': 2902, 'news': 3005, 'odd': 3080, 'bigger': 479, 'laughing': 2533, 'generally': 1881, 'creepy': 1052, 'beliefs': 452, 'offered': 3088, 'murderous': 2942, 'diamond': 1236, 'china': 795, 'straight': 4210, 'male': 2719, 'superior': 4300, 'large': 2517, 'air': 164, '40': 48, 'onto': 3111, 'repeatedly': 3632, 'corrupt': 1001, 'listen': 2619, 'albert': 174, 'taste': 4369, 'daughter': 1121, 'alright': 198, 'memories': 2803, 'impression': 2252, 'philip': 3252, 'train': 4556, 'ryan': 3765, 'hitler': 2124, 'wwii': 4975, 'war': 4792, 'soldiers': 4054, 'post': 3352, 'stress': 4220, 'horrors': 2169, 'misses': 2868, 'books': 536, 'glory': 1922, 'frustration': 1843, 'utter': 4701, 'bullet': 620, 'germany': 1898, 'germans': 1897, 'create': 1036, 'loss': 2659, 'poverty': 3357, 'ignored': 2225, 'throw': 4479, 'pile': 3275, 'value': 4709, 'fictional': 1703, 'threw': 4470, 'sell': 3871, 'opens': 3115, 'bus': 631, 'toward': 4539, 'setting': 3900, 'photography': 3260, 'clear': 839, 'spirited': 4114, 'buddies': 608, 'thrill': 4471, 'hell': 2077, 'rules': 3754, 'alcohol': 176, 'cross': 1066, 'path': 3209, 'showing': 3958, 'witnesses': 4916, 'gold': 1932, 'ironic': 2355, 'tied': 4489, 'throat': 4476, 'doors': 1329, 'stewart': 4184, 'tonight': 4519, 'fat': 1663, 'safe': 3771, 'prison': 3401, 'senseless': 3878, 'hour': 2176, 'carry': 700, 'theyve': 4446, 'mistakes': 2873, 'witness': 4914, 'mr': 2929, 'depiction': 1185, 'disgusting': 1286, 'target': 4366, 'laughably': 2531, 'ways': 4822, 'filming': 1718, 'cameras': 660, 'normal': 3033, 'tommy': 4516, 'tunes': 4603, 'cute': 1090, 'sheriff': 3929, 'offers': 3090, 'fix': 1744, 'hands': 2020, 'killing': 2472, 'faces': 1618, 'burn': 625, 'laughable': 2530, 'dare': 1113, 'lewis': 2586, 'vampire': 4711, 'harder': 2035, 'kicks': 2463, 'butt': 638, 'incredible': 2269, 'prevent': 3385, 'hilariously': 2107, 'clint': 850, 'whilst': 4869, 'reputation': 3640, 'mysterious': 2955, 'meeting': 2794, 'chooses': 800, 'rid': 3690, 'gun': 1996, 'forgotten': 1797, 'values': 4710, 'scream': 3826, 'western': 4853, 'entry': 1504, 'angel': 231, 'hasnt': 2044, 'synopsis': 4344, 'similarly': 3980, 'pleasantly': 3303, 'thru': 4483, 'menace': 2806, 'wayne': 4821, 'shadows': 3913, 'staring': 4152, 'shadow': 3912, 'solely': 4056, 'ted': 4386, 'de': 1131, 'kick': 2460, 'guns': 1998, 'alex': 179, 'north': 3036, 'ears': 1402, 'studio': 4240, 'surprises': 4314, '75': 57, 'apart': 264, 'horribly': 2164, 'storyline': 4208, 'extra': 1606, 'situation': 4008, 'eric': 1514, 'land': 2511, 'protect': 3443, 'upset': 4687, 'decides': 1150, 'swimming': 4338, 'load': 2631, 'magical': 2704, 'energy': 1478, 'obviously': 3072, 'imagination': 2236, 'grown': 1984, 'trademark': 4548, 'sequels': 3886, 'cinderella': 815, 'ii': 2226, 'league': 2549, 'theyll': 4444, 'deserve': 1199, 'blair': 497, 'witch': 4909, 'managed': 2723, 'empty': 1465, 'london': 2641, 'heroine': 2091, 'worthless': 4954, 'dies': 1245, 'homeless': 2143, 'sister': 4001, 'wrestling': 4966, 'match': 2762, 'mediocre': 2791, 'trap': 4563, 'formula': 1802, 'potential': 3355, 'mark': 2739, 'highlight': 2103, 'eaten': 1412, 'wears': 4832, 'mask': 2752, 'false': 1641, 'loves': 2674, 'sweet': 4336, 'ugly': 4625, 'blonde': 511, 'captured': 677, 'reveals': 3673, 'list': 2617, 'arm': 292, 'travel': 4567, 'code': 869, 'knowledge': 2491, '1983': 22, 'perspective': 3245, 'learned': 2551, 'remembered': 3617, 'beer': 439, 'flash': 1745, 'memory': 2804, 'blank': 501, 'event': 1535, 'access': 83, 'elvira': 1450, 'anna': 245, 'distant': 1295, 'relatives': 3601, 'estate': 1525, 'fare': 1655, 'mob': 2879, 'marvelous': 2750, 'locked': 2637, 'vegas': 4717, 'davies': 1125, 'property': 3438, 'comedic': 888, 'william': 4887, 'screens': 3832, 'notice': 3048, 'producer': 3415, 'process': 3412, 'briefly': 580, 'chaplin': 756, 'turn': 4605, 'seeking': 3859, 'claire': 831, 'jay': 2386, 'fits': 1741, 'africa': 141, 'described': 1195, 'previously': 3388, 'classics': 837, 'harry': 2039, 'included': 2262, 'sidekick': 3966, 'streisand': 4218, 'study': 4242, 'barbara': 397, 'weakest': 4825, 'ego': 1435, 'raise': 3507, 'stinker': 4191, 'blame': 499, 'wreck': 4965, 'motion': 2913, 'amazed': 208, 'animated': 241, 'contrast': 975, 'laughed': 2532, 'broad': 590, 'defend': 1158, 'brought': 600, 'fights': 1710, 'ocean': 3079, 'whereas': 4865, 'surface': 4310, 'parent': 3187, 'emotionally': 1460, 'impress': 2250, 'water': 4816, 'blown': 516, 'suffer': 4275, 'threat': 4467, 'raising': 3509, 'voices': 4763, 'predictable': 3367, 'faith': 1633, 'hired': 2117, 'paint': 3173, 'vast': 4716, 'mansion': 2731, 'menacing': 2807, 'advance': 127, 'butler': 637, 'serving': 3897, 'walks': 4780, 'seat': 3845, 'tension': 4404, 'assumed': 329, 'communist': 907, 'appreciation': 281, 'support': 4303, 'wear': 4830, 'gray': 1963, 'effect': 1428, 'confusion': 943, 'naive': 2958, 'che': 773, 'engage': 1479, 'blind': 506, 'falling': 1639, 'building': 615, 'pit': 3278, 'hero': 2088, 'wing': 4896, 'hoping': 2160, 'display': 1291, 'dean': 1139, 'laid': 2508, 'chicks': 787, 'mass': 2753, 'hippie': 2115, 'cops': 993, 'freedom': 1828, 'assault': 324, 'hollow': 2135, 'commercials': 903, 'advertising': 132, 'selfish': 3870, 'greedy': 1969, 'thinks': 4454, 'families': 1644, 'movement': 2923, 'express': 1600, 'opinions': 3119, 'countries': 1013, 'irony': 2357, 'excessive': 1560, 'successfully': 4267, 'species': 4098, 'upper': 4685, 'losers': 2656, 'factor': 1622, 'revolution': 3680, 'solution': 4059, 'maker': 2714, 'italian': 2367, 'suppose': 4305, 'thousand': 4465, 'neo': 2998, 'below': 462, '1973': 19, 'bound': 553, 'throwing': 4480, 'term': 4405, 'wow': 4962, 'afraid': 140, 'alive': 186, 'cage': 645, 'slightest': 4028, 'irritating': 2359, 'homage': 2141, 'mirror': 2861, 'pretending': 3382, 'detailed': 1218, 'analysis': 224, 'bothered': 549, 'loosely': 2651, 'dramas': 1347, 'form': 1798, 'bbc': 417, 'presentation': 3375, 'uninspired': 4657, 'mad': 2696, 'ladies': 2506, 'hearts': 2066, 'jumped': 2430, 'greek': 1970, 'struggle': 4234, 'portrayal': 3341, 'boredom': 542, 'treatment': 4574, 'stan': 4142, 'flaws': 1752, 'adventures': 131, 'thirty': 4456, 'wacky': 4769, 'larry': 2520, 'strangers': 4214, 'stinks': 4192, 'americans': 214, 'cause': 723, 'helped': 2080, 'split': 4120, 'altogether': 202, 'replaced': 3634, 'jokes': 2415, 'mummy': 2937, 'lousy': 2667, 'scenario': 3808, 'using': 4698, 'opposed': 3122, 'contrived': 976, 'notable': 3041, 'reference': 3582, 'clown': 862, 'travesty': 4570, 'questions': 3489, 'glass': 1917, 'cgi': 740, 'finale': 1723, 'disbelief': 1277, 'absolute': 71, 'vice': 4727, 'slaughter': 4021, 'attend': 344, 'marty': 2749, 'actress': 105, 'satisfy': 3790, 'female': 1693, 'victim': 4729, 'acid': 95, 'utterly': 4702, 'company': 910, 'essentially': 1523, 'shirley': 3936, 'temple': 4398, 'dressed': 1358, 'outfit': 3144, 'appeal': 271, 'franchise': 1817, 'prequel': 3372, '30': 42, 'religion': 3607, 'gangsters': 1869, 'mafia': 2700, 'rule': 3753, 'abilities': 64, 'naked': 2959, 'actresses': 106, 'banned': 395, 'closely': 855, 'saga': 3773, 'among': 217, 'reaching': 3539, 'understandable': 4644, '90s': 61, 'qualities': 3483, 'mario': 2738, 'joined': 2413, 'godfather': 1927, 'shouldnt': 3952, 'don': 1320, 'attractive': 351, 'virtually': 4751, 'remotely': 3623, 'sean': 3840, 'passed': 3202, 'miracle': 2860, 'reviews': 3679, 'site': 4005, 'limited': 2606, 'studios': 4241, 'ignore': 2224, 'directly': 1263, 'considered': 951, 'individuals': 2278, 'foreign': 1790, 'iraq': 2351, 'president': 3378, 'dan': 1102, 'quiet': 3492, 'anymore': 258, 'cusack': 1088, 'depression': 1189, 'related': 3594, 'specific': 4099, 'advise': 134, 'politically': 3325, 'personalities': 3241, 'daily': 1097, 'vengeance': 4719, 'issues': 2365, 'pull': 3461, 'deliver': 1169, 'visuals': 4759, 'viewer': 4738, 'noticed': 3049, 'artistic': 308, 'pro': 3406, 'wonders': 4931, 'mainstream': 2709, 'soldier': 4053, 'wearing': 4831, 'corporate': 998, 'combat': 882, 'insulting': 2310, 'priceless': 3390, 'hilarious': 2106, 'souls': 4080, 'propaganda': 3435, 'defined': 1160, 'realizing': 3555, 'hearted': 2065, 'tales': 4357, 'deceased': 1146, 'gotten': 1947, 'spring': 4134, 'catherine': 719, 'merely': 2815, 'brains': 563, 'ed': 1415, 'robbins': 3712, 'uncle': 4636, 'appear': 273, 'pulls': 3464, 'kurt': 2499, 'step': 4175, 'further': 1853, 'suspend': 4329, 'logic': 2638, 'rocket': 3721, 'paced': 3162, 'worlds': 4947, 'lessons': 2578, 'occasional': 3074, 'glimpse': 1919, 'horse': 2170, 'ready': 3546, 'genres': 1889, 'washington': 4806, 'signed': 3971, 'holiday': 2134, 'letting': 2583, 'remaining': 3610, '24': 39, 'service': 3896, 'subplot': 4255, 'someones': 4065, 'holes': 2133, 'purchased': 3470, 'dedicated': 1153, 'fbi': 1675, 'agent': 150, 'miles': 2843, 'nature': 2975, 'fellow': 1691, 'hamilton': 2012, 'carries': 699, 'dignity': 1252, 'semi': 3874, 'max': 2774, 'integrity': 2311, 'edgar': 1417, 'crimes': 1056, 'weve': 4856, 'kills': 2474, 'props': 3439, 'girlfriend': 1910, 'member': 2800, 'suit': 4284, 'repeated': 3631, 'uk': 4626, 'early': 1400, '70s': 56, 'decades': 1145, 'nostalgic': 3039, 'unintentionally': 4659, 'wide': 4880, 'pilot': 3276, 'players': 3299, 'golden': 1934, 'todays': 4509, 'boss': 546, 'muslim': 2949, 'sexuality': 3909, 'scale': 3802, 'removed': 3624, 'jump': 2429, 'sinister': 3998, 'jerry': 2396, 'atmosphere': 333, 'design': 1202, 'couldve': 1009, 'pg': 3250, '13': 4, 'terror': 4412, 'destroy': 1213, 'industry': 2280, 'producing': 3417, 'raymond': 3534, 'finished': 1733, 'brand': 565, 'atmospheric': 334, 'explained': 1587, 'escape': 1517, 'erotic': 1515, 'afford': 138, 'drives': 1367, 'apparent': 269, 'lust': 2689, 'fall': 1637, 'suggest': 4280, 'inner': 2292, 'manipulative': 2727, 'broadcast': 591, 'disc': 1278, 'ruined': 3751, 'titled': 4505, '100': 1, 'perfection': 3225, 'victor': 4731, 'teenagers': 4391, 'fashioned': 1660, 'feeling': 1685, 'throws': 4482, 'stock': 4193, 'steve': 4181, 'susan': 4326, 'joe': 2407, 'easy': 1410, 'gang': 1867, 'center': 732, 'turkey': 4604, 'till': 4493, 'dozen': 1338, 'government': 1948, 'beast': 422, 'improvement': 2256, 'documentaries': 1306, 'physically': 3263, 'listening': 2620, 'weight': 4840, 'matrix': 2767, 'machines': 2694, 'flight': 1757, 'merit': 2816, 'creative': 1041, 'installment': 2303, 'imagined': 2239, 'intellectual': 2312, 'mistake': 2871, 'birth': 486, 'detective': 1220, 'painting': 3175, 'peoples': 3222, 'cars': 702, 'brilliantly': 584, 'dude': 1381, 'purple': 3473, 'opportunities': 3120, 'bringing': 586, 'covers': 1024, 'winner': 4897, 'blows': 517, 'purpose': 3474, 'scores': 3823, 'batman': 413, 'incredibly': 2270, 'tour': 4538, 'wells': 4845, 'mary': 2751, 'ann': 244, 'russell': 3761, 'professor': 3422, 'creation': 1040, 'similar': 3978, 'approach': 282, 'west': 4852, 'ward': 4793, 'receive': 3563, 'meant': 2784, 'clues': 865, 'leads': 2548, 'revelation': 3674, 'stole': 4194, 'forces': 1788, 'focusing': 1769, 'frank': 1821, 'bears': 421, 'stronger': 4230, 'resemblance': 3645, 'captures': 678, 'footage': 1782, 'flashbacks': 1747, 'ludicrous': 2685, 'carried': 698, 'carefully': 689, 'comparison': 914, 'flashback': 1746, 'duty': 1390, 'served': 3894, 'chosen': 805, 'theatrical': 4430, 'bat': 410, 'originally': 3131, 'planned': 3290, 'favor': 1670, 'rights': 3697, 'julie': 2428, 'theyd': 4443, 'besides': 468, 'grey': 1973, 'edie': 1419, 'unforgettable': 4652, 'remain': 3609, 'undoubtedly': 4648, 'fashion': 1659, 'insight': 2298, 'daughters': 1122, 'patient': 3211, 'motivations': 2915, 'spite': 4117, 'serve': 3893, 'campbell': 663, 'davis': 1126, 'stilted': 4190, 'root': 3737, 'godzilla': 1929, 'vs': 4767, 'pseudo': 3454, 'japan': 2381, 'monster': 2892, 'headed': 2058, 'dragon': 1344, 'battles': 415, 'creators': 1044, 'respect': 3652, 'enemies': 1476, 'clever': 841, 'japanese': 2382, 'spectacular': 4101, 'harvey': 2042, 'fresh': 1833, 'bonus': 534, 'cop': 991, 'cult': 1077, 'hardcore': 2034, 'doubts': 1333, 'personality': 3242, 'constant': 957, 'smile': 4036, 'criticism': 1063, 'bride': 577, 'birthday': 487, 'sunday': 4293, 'spoken': 4126, 'pity': 3281, 'edited': 1420, 'credible': 1048, 'trial': 4580, 'masters': 2761, 'grave': 1962, 'oddly': 3081, 'legal': 2563, 'scottish': 3825, 'extended': 1604, 'bobby': 525, 'challenge': 743, 'speaking': 4095, 'sloppy': 4030, 'sun': 4292, 'performers': 3232, 'jimmy': 2403, 'parker': 3191, 'fond': 1776, 'olivier': 3103, 'discovered': 1280, 'finger': 1731, 'remote': 3622, 'control': 977, 'divorce': 1301, 'accept': 80, 'vision': 4754, 'claims': 830, 'visits': 4756, 'rose': 3739, 'garden': 1872, 'twist': 4617, 'truth': 4599, 'warm': 4794, 'suffers': 4278, 'east': 1407, 'critic': 1061, 'proof': 3434, 'fool': 1779, 'guessed': 1990, 'teenage': 4389, 'chasing': 772, 'bedroom': 437, 'plans': 3292, 'kevin': 2457, 'caught': 722, 'damage': 1099, 'embarrassing': 1454, 'neighborhood': 2993, 'meat': 2787, 'pool': 3327, 'judy': 2426, 'independent': 2272, 'focuses': 1768, 'daddy': 1096, 'conservative': 948, 'catholic': 720, 'lips': 2615, 'sake': 3775, 'piano': 3264, 'corruption': 1002, 'flaw': 1749, 'ball': 388, 'size': 4012, 'manhattan': 2726, 'total': 4531, 'argue': 290, 'aired': 165, 'survivor': 4324, 'ups': 4686, 'perform': 3227, 'unrealistic': 4677, 'standards': 4145, 'walls': 4783, 'wed': 4835, 'indeed': 2271, 'accurate': 90, 'share': 3920, 'brothers': 599, 'sleeping': 4025, 'raised': 3508, 'relate': 3593, 'critical': 1062, 'reminds': 3620, 'stereotypical': 4180, 'bay': 416, 'keaton': 2448, 'bullets': 621, 'information': 2288, 'amy': 222, 'slap': 4018, 'slapstick': 4019, 'spoof': 4127, 'exist': 1569, 'dolls': 1316, 'walk': 4775, 'recognize': 3569, 'machine': 2693, 'laughter': 2535, 'descent': 1193, 'discuss': 1283, 'summary': 4290, 'appreciated': 280, 'phony': 3256, 'unusual': 4681, 'provides': 3450, 'generation': 1883, 'realism': 3549, 'eastwood': 1409, 'herself': 2092, 'simplistic': 3985, 'object': 3066, 'brutal': 603, 'required': 3641, 'manage': 2722, 'ape': 266, 'stanwyck': 4149, 'escaped': 1518, 'narration': 2965, 'hollywoods': 2138, 'martial': 2747, 'forbidden': 1785, 'arts': 310, 'hundreds': 2196, 'settle': 3902, 'fallen': 1638, 'describe': 1194, 'stunts': 4246, 'survive': 4321, 'blend': 504, 'gives': 1914, 'anime': 243, 'faults': 1669, 'pig': 3274, 'explaining': 1588, 'checking': 778, 'price': 3389, 'partly': 3197, 'nonsensical': 3031, 'highlights': 2104, 'section': 3853, 'yellow': 4981, 'dear': 1140, 'lord': 2652, 'rabbit': 3498, 'sneak': 4043, 'recall': 3562, 'shock': 3938, 'desert': 1198, 'illegal': 2229, 'dance': 1103, 'criminal': 1057, 'burning': 627, 'nuclear': 3057, 'weapons': 4829, 'shall': 3916, 'surrounded': 4318, 'dozens': 1339, 'robot': 3717, 'corner': 996, '1996': 26, 'desperation': 1210, 'wished': 4905, 'loser': 2655, 'hung': 2197, 'floating': 1758, 'childhood': 790, 'conversations': 981, 'trade': 4547, 'holly': 2136, 'horrifying': 2167, 'ron': 3734, 'tears': 4380, 'difference': 1246, 'bette': 471, 'talents': 4356, 'voice': 4761, 'urge': 4689, 'badly': 383, 'shape': 3919, 'talented': 4355, 'club': 863, 'historically': 2120, 'musicals': 2948, 'surprise': 4312, 'trashy': 4566, 'projects': 3428, 'treated': 4573, 'stereotype': 4178, 'common': 906, 'tap': 4364, 'warn': 4797, 'surrounding': 4319, 'bourne': 554, 'united': 4664, 'involvement': 2347, 'tall': 4362, 'buildings': 616, 'plastic': 3294, 'thrown': 4481, 'captain': 674, 'journey': 2421, 'discovery': 1282, 'identity': 2217, 'reduced': 3579, 'tedious': 4387, 'scientist': 3818, 'causes': 725, 'crash': 1033, 'proceeds': 3411, 'models': 2881, 'assistant': 326, 'watches': 4814, 'saturday': 3792, 'explicit': 1591, 'cares': 690, 'mild': 2839, 'cat': 713, 'tons': 4520, '1960s': 15, 'exploitation': 1592, 'hardly': 2036, 'thrillers': 4473, 'disappoint': 1272, 'block': 508, 'field': 1704, 'disappeared': 1271, 'dire': 1257, 'rape': 3521, 'subtitles': 4259, 'screaming': 3827, 'sky': 4017, 'existed': 1570, 'amateur': 206, 'impressed': 2251, 'colorful': 878, 'lacked': 2503, 'moody': 2899, 'decision': 1151, 'farce': 1654, 'choices': 798, 'williams': 4888, 'latin': 2527, 'african': 142, 'miscast': 2862, 'medium': 2792, 'essence': 1521, 'forth': 1804, 'rented': 3628, 'figured': 1712, 'concept': 930, 'super': 4295, 'junk': 2436, 'draw': 1349, 'fatal': 1664, 'thugs': 4484, 'india': 2273, 'scope': 3821, 'mighty': 2836, 'thrills': 4475, 'adventure': 130, 'storm': 4206, 'brave': 567, 'grant': 1956, 'hundred': 2195, 'prime': 3395, 'seek': 3858, 'jobs': 2406, 'concerns': 934, 'drawn': 1351, 'deeper': 1155, 'web': 4833, 'drags': 1345, 'bold': 528, 'handsome': 2021, 'magnificent': 2705, 'technique': 4383, 'develop': 1222, 'relies': 3606, 'technical': 4381, 'narrator': 2967, 'characterization': 759, 'nevertheless': 3002, 'soft': 4051, 'voiced': 4762, 'dubbed': 1379, 'frustrated': 1842, 'alas': 172, 'philosophy': 3254, 'cats': 721, 'bible': 477, 'attached': 336, 'eating': 1413, 'treat': 4572, 'ps': 3453, 'gratuitous': 1961, 'outcome': 3142, 'hopeless': 2158, 'pulled': 3462, 'sport': 4129, 'knowing': 2490, 'fulci': 1845, 'typically': 4624, 'halfway': 2008, 'lyrics': 2692, 'paying': 3217, 'wooden': 4934, 'doo': 1325, 'virginia': 4750, 'nude': 3058, 'church': 813, 'terms': 4406, 'gangster': 1868, 'aka': 168, 'gritty': 1977, 'hong': 2149, 'kong': 2494, 'matters': 2770, 'phone': 3255, 'necessarily': 2983, 'green': 1971, 'extras': 1608, 'arrogant': 303, 'centers': 734, 'justice': 2438, 'louis': 2665, 'fetched': 1698, 'endings': 1472, 'constantly': 958, 'inventive': 2341, 'rough': 3741, 'goal': 1925, 'entertain': 1497, 'wondered': 4927, 'saving': 3797, 'intrigued': 2334, 'ran': 3513, 'jonathan': 2417, 'terrorists': 4414, 'dinosaurs': 1256, 'acceptable': 81, 'hiding': 2099, 'dinosaur': 1255, '15': 7, 'friday': 1834, '13th': 5, 'financial': 1725, 'retarded': 3663, 'blockbuster': 509, 'cash': 709, 'properly': 3437, 'greater': 1965, 'smiling': 4037, 'dirty': 1268, 'disturbed': 1299, 'sits': 4006, 'helps': 2082, 'dolph': 1317, 'trilogy': 4586, 'teacher': 4375, 'teaching': 4377, 'drug': 1373, 'originality': 3130, 'destruction': 1216, 'mechanical': 2788, 'hint': 2112, 'albeit': 173, 'cheese': 780, 'existent': 1572, 'mid': 2832, 'sentence': 3881, 'grace': 1950, 'careful': 688, 'jessica': 2398, 'prefer': 3368, 'bridge': 578, 'surprising': 4315, 'suits': 4287, 'julia': 2427, 'ruth': 3763, 'morgan': 2905, 'roman': 3731, 'pleased': 3305, 'artificial': 306, 'intelligence': 2313, 'peace': 3219, 'friendly': 1836, 'alien': 183, 'command': 897, 'steal': 4170, 'mothers': 2912, 'stealing': 4171, 'greatly': 1967, 'global': 1920, 'warming': 4795, 'kate': 2446, 'steven': 4182, 'spielberg': 4110, 'society': 4050, 'judge': 2424, 'abandoned': 62, 'product': 3418, 'depressed': 1187, 'blues': 519, 'shut': 3961, 'physical': 3262, 'cultural': 1078, 'imagery': 2234, 'pre': 3365, 'includes': 2263, 'cliff': 847, 'excitement': 1562, 'cuts': 1091, 'doomed': 1327, 'website': 4834, '2007': 37, 'program': 3424, 'remarks': 3615, 'mine': 2853, 'comical': 894, 'concerning': 933, 'antics': 255, 'camp': 662, 'pamela': 3179, 'countless': 1012, 'boom': 537, 'mistaken': 2872, 'oil': 3097, 'scares': 3806, 'david': 1124, 'picking': 3267, 'competent': 917, 'skip': 4016, 'timothy': 4499, 'heck': 2071, 'board': 522, 'sophisticated': 4075, 'sat': 3786, 'technology': 4385, '50s': 52, 'intention': 2319, 'strongly': 4231, 'easier': 1405, 'warner': 4799, 'winning': 4898, 'complaint': 920, 'letter': 2581, 'drivel': 1364, 'comics': 895, 'sue': 4274, 'national': 2970, 'ballet': 389, 'bloody': 513, 'button': 639, 'intent': 2318, 'cities': 823, 'gods': 1928, 'ashamed': 312, 'splendid': 4119, 'composed': 926, 'accident': 84, 'glad': 1916, 'smoke': 4039, 'monsters': 2893, 'unique': 4662, 'likable': 2598, 'quest': 3486, 'hunters': 2200, 'driven': 1365, 'consistently': 954, 'frequent': 1831, 'experiences': 1582, 'device': 1227, 'puts': 3481, 'funniest': 1851, 'appearances': 275, 'extreme': 1609, '18': 10, 'ruins': 3752, 'pitch': 3279, 'roger': 3724, '3rd': 47, 'regardless': 3590, 'waters': 4817, 'hills': 2109, 'gordon': 1940, 'measure': 2786, 'porno': 3337, 'fest': 1696, 'chose': 804, 'pack': 3165, 'belongs': 460, 'killings': 2473, '1972': 18, 'packed': 3166, 'quit': 3494, 'experiment': 1583, 'heaven': 2068, 'francis': 1818, 'leslie': 2574, 'recognized': 3570, 'overwhelming': 3157, 'desire': 1205, 'vhs': 4725, 'overrated': 3156, 'provoking': 3452, 'halloween': 2010, 'skin': 4015, 'myers': 2952, 'terrifying': 4410, 'describes': 1196, 'jamie': 2379, 'curtis': 1087, 'pays': 3218, 'lights': 2597, 'monkey': 2890, 'connection': 946, 'shed': 3924, 'finest': 1730, 'overacting': 3149, 'steals': 4172, 'strip': 4228, 'losing': 2658, 'reasonable': 3558, 'fantasy': 1652, 'juvenile': 2441, 'nor': 3032, 'jumping': 2431, 'futuristic': 1857, 'coffee': 870, 'ground': 1979, 'twice': 4613, 'rescue': 3643, 'robots': 3718, 'distance': 1294, 'techniques': 4384, 'filled': 1715, 'ray': 3533, 'brain': 562, 'subjects': 4254, 'daniel': 1111, 'edward': 1426, 'joseph': 2419, 'alfred': 181, 'proceedings': 3410, 'presents': 3377, 'tender': 4401, 'disease': 1285, 'dying': 1393, 'introduction': 2339, 'reed': 3580, 'credit': 1049, 'explains': 1589, 'witty': 4917, 'native': 2972, 'identify': 2216, 'limits': 2607, 'ensemble': 1492, 'cried': 1054, 'subsequent': 4257, 'popcorn': 3331, 'rap': 3520, 'dig': 1250, 'kung': 2498, 'fu': 1844, 'routine': 3743, 'reaction': 3541, 'lovable': 2668, 'rings': 3699, 'rubber': 3747, 'suffering': 4277, 'amanda': 205, 'wore': 4939, 'notes': 3046, 'viewings': 4741, 'wedding': 4836, 'cringe': 1059, 'inducing': 2279, 'kiss': 2483, 'appealing': 272, 'cruel': 1070, 'intentions': 2321, 'belong': 459, 'attempted': 341, 'humorous': 2193, 'enjoyment': 1488, 'understood': 4647, 'choreography': 802, 'carol': 693, 'oliver': 3102, 'darker': 1116, 'designs': 1204, 'dancer': 1104, 'tragic': 4552, 'likewise': 2603, 'cynical': 1093, 'nancy': 2964, 'drunk': 1375, 'catchy': 717, 'happily': 2030, 'seven': 3903, 'happiness': 2031, 'hip': 2114, 'hop': 2154, 'dickens': 1240, 'definite': 1161, 'unoriginal': 4673, 'ford': 1789, 'expert': 1585, 'loaded': 2632, 'twelve': 4611, 'ring': 3698, 'philosophical': 3253, 'gabriel': 1859, 'literature': 2623, 'sucks': 4271, 'heavily': 2069, 'useless': 4695, 'noble': 3021, 'raped': 3522, 'tortured': 4530, 'continued': 970, 'states': 4163, 'research': 3644, 'itll': 2369, 'spare': 4093, 'guts': 1999, 'thick': 4447, 'creep': 1051, 'jake': 2377, 'cooper': 990, 'associated': 327, 'sheer': 3925, 'homer': 2144, 'desperately': 1209, 'scientists': 3819, 'unseen': 4678, 'sea': 3838, 'crack': 1027, 'pot': 3354, 'higher': 2101, 'plane': 3288, 'clumsy': 866, 'profound': 3423, 'established': 1524, 'scientific': 3817, 'ridden': 3691, 'brief': 579, 'universe': 4666, 'wealth': 4826, 'niro': 3019, 'prince': 3396, 'elaborate': 1439, 'lol': 2640, 'crude': 1069, 'santa': 3783, 'ya': 4976, 'changed': 750, 'tom': 4514, 'century': 736, 'england': 1482, 'schools': 3814, 'resident': 3647, 'notably': 3042, 'screenwriter': 3833, 'ashley': 313, 'sincere': 3991, 'principal': 3398, 'determined': 1221, '14': 6, 'vivid': 4760, 'eager': 1396, 'space': 4090, 'driver': 1366, 'attracted': 349, 'planning': 3291, 'quote': 3496, 'audiences': 353, 'craig': 1030, 'edition': 1422, 'anderson': 227, 'context': 968, 'tremendous': 4579, 'raw': 3532, 'grandfather': 1954, 'emphasis': 1463, 'reactions': 3542, 'columbo': 881, 'equipment': 1511, 'dutch': 1389, 'border': 539, 'photographed': 3258, 'der': 1191, 'meanwhile': 2785, 'cave': 727, 'ranks': 3519, 'notorious': 3051, 'inspiration': 2300, 'gene': 1879, 'midnight': 2834, 'position': 3345, 'tame': 4363, 'contained': 963, 'versus': 4722, 'nick': 3012, 'obnoxious': 3067, 'lily': 2605, 'nurse': 3063, 'arrived': 301, 'stevens': 4183, 'cook': 988, 'enemy': 1477, 'carter': 703, 'margaret': 2735, 'fired': 1735, 'ships': 3935, 'paris': 3189, 'nail': 2957, 'winds': 4895, 'tie': 4488, 'kissing': 2484, 'sing': 3992, 'slowly': 4032, 'coach': 868, 'buffs': 612, 'atlantis': 332, 'lion': 2614, 'toy': 4542, 'hadnt': 2004, 'promised': 3431, 'macy': 2695, 'sadness': 3770, 'skills': 4014, 'interaction': 2322, 'hooked': 2153, 'gothic': 1945, 'cole': 873, 'buck': 605, 'lucas': 2680, 'blacks': 494, 'lucky': 2683, 'actions': 101, 'catches': 715, 'wives': 4918, 'providing': 3451, 'kelly': 2452, 'sinatra': 3989, 'sidney': 3968, 'navy': 2976, 'aunt': 355, 'mouse': 2919, 'delightful': 1168, 'mgm': 2828, 'returns': 3668, 'unintentional': 4658, 'amongst': 218, 'metal': 2823, 'accompanied': 86, 'credibility': 1047, 'represent': 3637, 'splatter': 4118, 'moon': 2900, 'dubbing': 1380, 'wasting': 4810, 'serial': 3889, 'hbo': 2055, 'nasty': 2968, 'sisters': 4002, 'royal': 3746, 'riveting': 3708, 'realizes': 3554, 'proved': 3446, 'arrested': 298, 'prisoner': 3402, 'diana': 1237, 'arrival': 299, 'unexpected': 4650, 'therefore': 4439, 'handle': 2018, 'hart': 2041, 'madness': 2698, 'bush': 632, 'unfunny': 4655, 'fox': 1814, 'liberal': 2588, 'bite': 489, 'unhappy': 4656, 'seasons': 3844, 'intentionally': 2320, 'frankly': 1823, 'gross': 1978, 'embarrassment': 1455, 'intrigue': 2333, 'miserable': 2863, 'revealing': 3672, 'furthermore': 1854, 'cartoons': 705, 'ourselves': 3140, 'changes': 751, 'strength': 4219, 'guilty': 1995, 'yesterday': 4983, 'tired': 4501, 'karloff': 2445, 'lonely': 2643, 'mini': 2854, 'attacks': 339, 'knife': 2487, 'steel': 4173, 'matches': 2764, 'epic': 1506, 'makeup': 2717, 'realized': 3553, 'burned': 626, 'clean': 838, 'highest': 2102, 'nonetheless': 3029, 'rangers': 3517, '1990s': 25, 'costs': 1004, 'jaw': 2384, 'dropping': 1371, 'samurai': 3779, 'hopper': 2161, 'lies': 2591, 'asking': 318, 'succeeds': 4264, 'lazy': 2543, 'legs': 2566, 'airplane': 166, 'useful': 4694, 'spending': 4106, 'evening': 1534, 'theatre': 4429, 'baseball': 403, 'maintain': 2710, 'starred': 4153, 'franco': 1820, 'creating': 1039, 'ancient': 225, 'classical': 836, 'via': 4726, 'angle': 236, 'court': 1020, 'wannabe': 4787, 'elsewhere': 1449, 'encounters': 1467, 'potentially': 3356, 'office': 3091, 'dave': 1123, 'visible': 4753, 'christians': 809, 'bull': 619, 'passes': 3203, '40s': 49, 'charles': 764, 'enthusiasm': 1501, 'animal': 239, 'fly': 1763, 'creatures': 1046, 'childrens': 793, 'christmas': 810, 'satan': 3787, 'spooky': 4128, 'wound': 4960, 'nightmares': 3015, 'ad': 110, 'pants': 3182, 'simplicity': 3984, 'captivating': 675, 'ease': 1404, 'eighties': 1437, 'sticks': 4186, 'poetic': 3313, 'blade': 495, 'cell': 730, 'wizard': 4919, 'oz': 3160, 'bottle': 550, 'testament': 4417, 'rolled': 3729, 'bits': 490, 'print': 3399, 'evident': 1547, 'helen': 2075, 'remarkably': 3614, 'accomplished': 87, 'compelled': 915, 'dinner': 1254, 'bone': 533, 'decisions': 1152, 'tracks': 4545, 'dialogs': 1233, 'nicely': 3009, 'drag': 1342, 'rob': 3710, 'cleverly': 842, 'nowadays': 3055, 'revenge': 3675, 'hoped': 2156, 'loads': 2633, 'robin': 3715, 'welcome': 4842, 'online': 3109, 'drop': 1369, 'teach': 4374, 'instinct': 2308, 'fourth': 1813, 'alcoholic': 177, 'morning': 2906, 'sexy': 3911, 'lone': 2642, 'wolf': 4920, 'europe': 1529, 'reached': 3537, 'spain': 4091, 'charisma': 762, 'bore': 540, 'sword': 4340, 'german': 1896, 'tiresome': 4502, 'sitcom': 4004, 'chief': 788, 'suggests': 4282, 'instantly': 2306, 'screams': 3828, 'unit': 4663, 'alike': 185, 'returning': 3667, 'survived': 4322, 'invasion': 2340, 'tag': 4348, 'vietnam': 4735, 'innocence': 2293, 'novels': 3053, 'stone': 4197, 'eg': 1434, 'operation': 3117, 'send': 3875, 'irrelevant': 2358, 'bitter': 491, 'neighbor': 2992, 'enters': 1496, 'emily': 1456, 'lived': 2626, 'flynn': 1765, 'sullivan': 4288, 'ambitious': 211, 'boxing': 556, 'fame': 1642, 'demands': 1175, 'despair': 1207, 'unlikely': 4671, 'fighter': 1708, 'victoria': 4732, 'morris': 2908, 'brosnan': 597, 'prize': 3405, 'blow': 514, 'steps': 4177, 'theaters': 4428, 'starring': 4154, 'valley': 4707, 'mindless': 2851, 'vincent': 4746, 'swedish': 4335, 'connected': 945, 'connect': 944, 'handful': 2017, 'eva': 1531, 'fever': 1699, 'taxi': 4371, 'em': 1452, 'sends': 3876, 'bathroom': 412, 'mom': 2885, 'believes': 456, 'won': 4925, 'caused': 724, 'plight': 3308, 'passion': 3205, 'sports': 4130, 'road': 3709, 'hearing': 2063, 'tense': 4403, 'danger': 1109, 'zone': 4999, 'restaurant': 3658, 'mentions': 2813, 'adorable': 124, 'gotta': 1946, 'drew': 1360, 'practice': 3363, 'basketball': 409, 'championship': 745, 'rush': 3759, 'paid': 3169, 'lately': 2524, 'bin': 483, 'resist': 3648, 'mexican': 2826, 'efforts': 1433, 'tradition': 4549, 'feed': 1683, 'food': 1778, 'responsibility': 3655, 'adequate': 120, 'shoot': 3942, 'mayor': 2777, 'lesser': 2576, 'vague': 4705, 'forgive': 1795, 'trained': 4557, 'denzel': 1181, 'provided': 3449, 'represented': 3638, 'guarantee': 1987, 'stayed': 4167, 'damon': 1101, 'remind': 3618, 'interpretation': 2328, 'flawed': 1750, '2006': 36, 'reads': 3545, 'june': 2433, 'september': 3884, 'promising': 3433, 'rambo': 3511, 'rocky': 3723, 'crafted': 1029, 'le': 2544, 'questionable': 3488, 'occurred': 3077, 'exact': 1550, 'followed': 1773, 'domino': 1319, 'honesty': 2148, 'angels': 234, 'involves': 2348, 'freeman': 1829, 'lane': 2515, 'secretary': 3850, 'initially': 2291, 'grows': 1985, 'stood': 4199, 'convincingly': 986, 'scripted': 3835, '3d': 46, 'buff': 611, 'hanks': 2025, 'showcase': 3954, 'drinking': 1362, 'granted': 1957, 'month': 2896, 'valuable': 4708, 'precious': 3366, 'mate': 2765, 'causing': 726, 'cared': 685, 'regarding': 3589, 'consistent': 953, 'beating': 425, 'awkward': 374, 'holy': 2140, 'discovers': 1281, 'shell': 3927, 'ah': 158, 'spider': 4109, 'productions': 3420, 'spanish': 4092, 'del': 1165, 'twins': 4616, 'dating': 1120, 'offensive': 3086, 'uninteresting': 4660, 'shallow': 3917, 'implausible': 2245, 'stays': 4169, 'signs': 3973, 'jeff': 2390, 'photographer': 3259, 'illness': 2230, 'draws': 1352, 'sixties': 4011, 'stranger': 4213, 'cabin': 643, 'nearby': 2980, 'activities': 102, 'minimal': 2855, 'abuse': 74, 'committed': 905, 'repeat': 3630, 'confidence': 938, 'extent': 1605, 'cards': 683, 'importantly': 2248, 'press': 3379, 'striking': 4226, 'conflicts': 940, 'tragedy': 4551, 'closest': 857, 'wouldve': 4959, 'worn': 4948, 'randomly': 3515, 'phantom': 3251, 'freak': 1824, 'controversial': 978, 'magazine': 2701, 'politics': 3326, 'faced': 1617, 'topic': 4526, 'survivors': 4325, 'performer': 3231, 'repetitive': 3633, 'indians': 2275, 'blatant': 502, 'horrific': 2166, 'figures': 1713, 'idiot': 2218, 'mill': 2845, 'wins': 4899, 'clark': 832, 'con': 928, 'ruby': 3749, 'apartment': 265, 'troubled': 4593, 'fifteen': 1706, 'cia': 814, 'spy': 4135, 'mst3k': 2932, '3000': 43, 'library': 2589, 'duke': 1383, 'jazz': 2387, 'carl': 692, 'cary': 706, 'facts': 1624, 'britain': 588, 'blunt': 520, 'prostitute': 3440, 'avoided': 364, 'depicts': 1186, 'psychotic': 3459, 'doc': 1303, '35': 45, 'torture': 4529, 'drawing': 1350, 'hospital': 2172, 'staff': 4138, 'wounded': 4961, 'cup': 1080, 'australia': 356, 'australian': 357, 'simon': 3982, 'allen': 188, 'arrive': 300, 'exploration': 1593, 'lawrence': 2539, 'jenny': 2393, 'attitude': 346, 'task': 4368, 'flop': 1760, 'sounding': 4083, 'everyday': 1541, 'dealt': 1138, 'gender': 1878, 'deserved': 1200, 'luke': 2687, 'hed': 2072, 'slave': 4022, '2001': 31, 'jackson': 2375, 'ralph': 3510, 'bakshi': 386, 'miike': 2837, 'honor': 2150, 'rage': 3505, 'shorts': 3948, 'stooges': 4200, 'strikes': 4225, 'bag': 384, 'ritter': 3705, 'dollars': 1315, 'chest': 784, 'truck': 4595, 'behave': 445, 'christ': 807, 'hunter': 2199, 'dracula': 1341, 'gerard': 1895, 'roy': 3745, 'lees': 2560, 'museum': 2945, 'daring': 1114, 'civil': 826, 'contract': 973, 'worker': 4942, 'territory': 4411, 'market': 2740, 'capable': 672, 'weapon': 4828, 'hurts': 2203, 'superhero': 4299, 'reaches': 3538, 'rare': 3523, 'deaf': 1134, 'petty': 3249, 'awfully': 373, 'shirt': 3937, 'fields': 1705, 'grab': 1949, 'emma': 1457, 'returned': 3666, 'succeed': 4262, 'superman': 4301, 'legend': 2564, 'motivation': 2914, 'reel': 3581, 'rick': 3689, 'melting': 2799, 'specifically': 4100, 'dragged': 1343, 'hysterical': 2208, 'countryside': 1015, 'matt': 2768, 'ethan': 1528, 'map': 2733, 'executive': 1567, 'motives': 2916, 'dropped': 1370, 'window': 4894, 'teeth': 4393, 'wishing': 4907, 'shoes': 3941, 'performing': 3233, 'foul': 1810, 'beats': 426, 'forest': 1791, 'area': 286, 'increasingly': 2268, 'risk': 3704, 'survival': 4320, 'landscape': 2513, 'spots': 4132, 'mel': 2796, 'kitchen': 2485, 'laws': 2540, 'babe': 375, 'subtlety': 4261, '2002': 32, 'punch': 3466, 'pages': 3168, 'montage': 2894, 'woody': 4936, 'jaws': 2385, 'confusing': 942, 'performs': 3234, 'endearing': 1469, 'underlying': 4641, 'hatred': 2049, 'ho': 2127, 'inevitably': 2283, 'catching': 716, 'received': 3564, 'goofy': 1939, 'reviewers': 3678, 'caliber': 649, 'howard': 2182, 'interviews': 2330, 'accused': 91, 'author': 359, 'frame': 1815, 'spiritual': 4116, 'dreary': 1356, 'progress': 3425, 'rival': 3706, 'stargate': 4151, 'stale': 4141, 'colonel': 876, 'allowing': 191, 'feminist': 1695, 'snake': 4042, 'pretend': 3381, 'warrior': 4802, 'troops': 4591, 'solve': 4060, 'cameron': 661, 'mitchell': 2875, 'korean': 2495, 'eerie': 1427, 'eccentric': 1414, 'rogers': 3725, 'pal': 3177, 'matthew': 2772, 'taylor': 4372, 'brenda': 575, 'appropriate': 283, 'nostalgia': 3038, 'rural': 3758, 'warren': 4801, 'nominated': 3025, 'fooled': 1780, 'tongue': 4518, 'cheek': 779, 'un': 4630, 'definition': 1163, 'knock': 2488, 'jail': 2376, 'trio': 4587, 'spike': 4111, 'reflect': 3584, 'photos': 3261, 'trail': 4553, 'sadistic': 3768, 'screening': 3830, 'wrapped': 4964, '2004': 34, 'officers': 3093, 'examples': 1554, 'blowing': 515, 'drink': 1361, 'intensity': 2317, 'respected': 3653, 'khan': 2459, 'monkeys': 2891, 'hello': 2078, 'football': 1783, 'womens': 4924, 'crucial': 1068, 'iran': 2350, 'leader': 2546, 'convinced': 984, 'shakespeare': 3915, 'doom': 1326, 'classes': 834, 'delivering': 1171, 'simpson': 3987, 'singers': 3994, 'miller': 2846, 'rachel': 3500, 'lena': 2568, 'dynamic': 1394, 'severe': 3906, 'paranoia': 3186, 'renting': 3629, 'generations': 1884, 'giallo': 1904, 'featured': 1679, 'bare': 398, 'concert': 935, 'tracy': 4546, 'madonna': 2699, 'jealous': 2388, 'complicated': 925, 'firstly': 1737, 'secondly': 3847, 'soccer': 4048, 'passionate': 3206, 'ignorant': 2223, 'bollywood': 530, 'proper': 3436, 'mann': 2728, 'wrap': 4963, 'deliberately': 1166, 'illogical': 2231, 'ass': 323, 'stupidity': 4248, 'idiots': 2220, 'smoking': 4040, 'insult': 2309, 'uwe': 4703, 'boll': 529, 'copies': 992, 'ultra': 4629, 'promise': 3430, 'fabulous': 1615, 'bergman': 466, 'asked': 317, 'nyc': 3065, 'cameos': 658, 'lincoln': 2608, 'imaginative': 2237, 'crocodile': 1065, 'variety': 4714, 'imitation': 2241, 'pet': 3246, 'companion': 909, 'investigate': 2342, 'kidnapped': 2466, 'marketing': 2741, 'vampires': 4712, 'amounts': 220, 'opposite': 3123, 'hints': 2113, 'ratings': 3530, 'stunt': 4245, 'rocks': 3722, 'kapoor': 2443, 'shower': 3957, 'vacation': 4704, 'ellen': 1446, 'lisa': 2616, 'march': 2734, 'mistress': 2874, 'authentic': 358, 'jesus': 2399, 'pushed': 3478, 'methods': 2825, 'religious': 3608, 'differences': 1247, 'hudson': 2184, 'drunken': 1376, 'bacall': 377, 'homosexual': 2145, 'todd': 4510, 'wind': 4893, 'bo': 521, 'horses': 2171, 'kirk': 2482, 'helicopter': 2076, 'icon': 2211, 'convoluted': 987, 'hence': 2083, 'disappear': 1270, 'argument': 291, 'everyones': 1543, '2000': 30, 'centered': 733, 'failure': 1629, 'disagree': 1269, 'glorious': 1921, 'benefit': 465, 'abysmal': 76, 'developing': 1224, 'portrait': 3339, 'murderer': 2941, 'ensues': 1493, 'unaware': 4632, 'bang': 393, 'exposure': 1599, 'mile': 2842, 'pie': 3271, 'official': 3094, 'savage': 3793, 'offering': 3089, 'forty': 1807, 'carrying': 701, 'laura': 2536, 'bargain': 400, 'tarzan': 4367, 'landing': 2512, 'training': 4558, 'judging': 2425, 'justify': 2439, 'immensely': 2243, 'houses': 2180, 'environment': 1505, 'elm': 1447, 'freddy': 1826, 'witnessed': 4915, 'unfolds': 4651, 'segment': 3867, 'unpredictable': 4675, 'performed': 3230, 'ginger': 1908, 'beings': 449, 'abusive': 75, 'alternate': 200, 'poster': 3353, 'jackie': 2374, 'condition': 937, 'aliens': 184, 'urban': 4688, 'occurs': 3078, 'similarities': 3979, 'iron': 2354, 'nervous': 2999, 'failing': 1627, 'corpse': 999, 'hood': 2151, 'ridiculously': 3694, 'push': 3477, 'bath': 411, 'wet': 4855, 'pink': 3277, 'clip': 851, 'swim': 4337, 'sides': 3967, 'murphy': 2944, 'mickey': 2831, 'quirky': 3493, 'henry': 2084, 'joey': 2408, 'climactic': 848, 'earl': 1398, 'martin': 2748, 'orders': 3127, 'airport': 167, 'veteran': 4724, 'mrs': 2930, 'struggles': 4235, 'chess': 783, 'sacrifice': 3766, 'powell': 3358, 'popularity': 3334, 'succeeded': 4263, 'degree': 1164, 'suspects': 4328, 'conventional': 979, 'influence': 2286, 'bleak': 503, 'superbly': 4297, 'hoffman': 2128, 'mildly': 2840, 'leo': 2571, 'factory': 1623, 'buried': 624, 'complexity': 924, 'network': 3000, 'appearing': 277, 'alice': 182, 'caring': 691, 'talked': 4359, 'forgettable': 1794, 'couples': 1017, 'pushing': 3479, 'fed': 1682, 'behavior': 446, 'pulling': 3463, 'inappropriate': 2259, 'outer': 3143, 'sin': 3988, 'fisher': 1739, 'boat': 523, 'downhill': 1336, 'category': 718, 'april': 284, 'statement': 4162, 'hamlet': 2013, 'branagh': 564, 'travels': 4569, 'seeks': 3860, 'annoyed': 248, '2nd': 41, 'scooby': 3820, 'bela': 450, 'reporter': 3636, 'editor': 1423, 'celebrity': 729, 'sharp': 3922, 'huh': 2187, 'ties': 4490, 'montana': 2895, '1933': 12, 'soviet': 4089, 'creativity': 1042, 'stated': 4161, 'masterpieces': 2760, 'reminiscent': 3621, 'range': 3516, 'inane': 2258, 'relation': 3595, 'strangely': 4212, 'doll': 1313, 'wicked': 4879, 'possessed': 3347, 'priest': 3392, 'rain': 3506, 'pointed': 3317, 'lovers': 2673, 'nazi': 2977, 'rushed': 3760, 'unreal': 4676, 'regard': 3588, 'lucy': 2684, 'treats': 4575, 'nations': 2971, 'terrorist': 4413, 'twin': 4615, 'ken': 2453, 'dances': 1106, '1940s': 13, 'patients': 3212, 'occur': 3076, 'elvis': 1451, 'crush': 1072, 'coherent': 871, 'charge': 761, 'armed': 293, 'string': 4227, 'newly': 3004, 'tight': 4492, 'colors': 879, 'invisible': 2344, 'strictly': 4223, 'meaningless': 2782, 'andy': 230, 'leonard': 2572, 'description': 1197, 'deaths': 1142, 'landscapes': 2514, 'jet': 2400, 'agents': 151, 'snow': 4045, 'walker': 4778, 'suffered': 4276, 'model': 2880, 'kay': 2447, 'sellers': 3872, 'persona': 3239, 'elizabeth': 1445, 'latter': 2528, 'kicked': 2461, 'alert': 178, 'directorial': 1265, 'obsession': 3070, 'princess': 3397, 'garbo': 1871, 'report': 3635, 'lifestyle': 2593, 'kingdom': 2480, 'abraham': 69, 'merits': 2817, 'satisfying': 3791, 'brutally': 604, 'patrick': 3213, 'obscure': 3068, 'chased': 770, 'sign': 3970, 'blah': 496, 'elderly': 1440, 'grasp': 1960, 'assigned': 325, 'challenging': 744, 'georges': 1894, 'messed': 2821, '1st': 28, 'twilight': 4614, 'grinch': 1975, 'childish': 791, 'lou': 2663, 'caine': 647, '45': 50, 'lumet': 2688, 'incompetent': 2266, 'university': 4667, 'lay': 2542, 'lawyer': 2541, 'destroying': 1215, 'painted': 3174, 'shark': 3921, 'mail': 2706, 'counter': 1011, 'sum': 4289, 'threatening': 4468, 'plausible': 3295, 'eyre': 1614, 'dalton': 1098, 'rochester': 3719, 'restored': 3659, 'charlotte': 766, 'cd': 728, 'enjoys': 1489, 'awe': 370, 'advantage': 129, 'execution': 1566, 'li': 2587, 'investigation': 2343, '1984': 23, 'spread': 4133, '1990': 24, 'depicted': 1183, 'possibility': 3349, 'evidence': 1546, 'liking': 2604, 'hal': 2006, 'blew': 505, 'pursuit': 3476, 'troubles': 4594, 'redemption': 3578, 'dawson': 1128, 'namely': 2962, 'titanic': 4503, 'pearl': 3220, 'berlin': 467, 'turner': 4607, 'flies': 1756, 'punk': 3468, 'waves': 4819, 'surfing': 4311, 'hank': 2024, 'rat': 3525, 'lifetime': 2594, 'taught': 4370, 'affect': 136, 'appalling': 268, 'canada': 666, 'trees': 4577, 'burton': 630, 'waited': 4771, 'widely': 4881, 'hammer': 2014, 'afterwards': 145, 'relations': 3596, 'pitt': 3280, 'willis': 4890, 'roberts': 3714, 'widow': 4883, 'comfortable': 892, 'concern': 931, 'familys': 1646, 'closer': 856, 'warriors': 4803, 'struck': 4232, 'rising': 3703, 'elegant': 1441, 'fitting': 1742, 'thief': 4448, 'shake': 3914, 'aforementioned': 139, 'react': 3540, 'guest': 1992, 'perry': 3237, 'mentioning': 2812, 'chain': 741, 'thoughtful': 4463, 'persons': 3244, 'cardboard': 682, 'frankenstein': 1822, 'fury': 1855, 'ought': 3138, 'vaguely': 4706, 'jeffrey': 2391, 'amitabh': 216, 'explored': 1595, 'gundam': 1997, 'resources': 3651, 'notion': 3050, 'miserably': 2864, 'kings': 2481, 'matched': 2763, 'betty': 474, 'host': 2173, 'sole': 4055, 'switch': 4339, 'generous': 1886, '2005': 35, 'wes': 4851, 'craven': 1034, 'andrews': 229, 'blob': 507, 'suggested': 4281, 'aids': 161, 'hole': 2132, 'devoted': 1231, 'molly': 2884, 'advanced': 128, 'solo': 4058, 'equivalent': 1512, 'enterprise': 1495, 'photo': 3257, 'destiny': 1212, 'triumph': 4590, 'felix': 1689, 'justin': 2440, 'fascinated': 1657, 'achieved': 93, 'nomination': 3026, 'prisoners': 3403, 'retired': 3664, 'presumably': 3380, 'paltrow': 3178, 'kenneth': 2455, 'suitable': 4285, 'jeremy': 2394, 'defeat': 1157, 'stops': 4203, 'goodness': 1938, 'cannibal': 669, '1968': 16, '20th': 38, 'seventies': 3904, 'pair': 3176, 'courage': 1018, 'prom': 3429, 'brady': 561, 'suffice': 4279, 'gifted': 1907, 'mature': 2773, 'spirits': 4115, 'bumbling': 622, 'bettie': 473, 'ideal': 2214, 'pops': 3332, 'lemmon': 2567, 'domestic': 1318, 'guide': 1993, 'brando': 566, 'extraordinary': 1607, 'displays': 1293, 'chorus': 803, 'fonda': 1777, 'generic': 1885, 'promises': 3432, 'monk': 2889, 'apes': 267, 'borrowed': 545, 'westerns': 4854, 'scrooge': 3837, 'per': 3223, 'masses': 2755, 'females': 1694, 'disneys': 1290, 'richardson': 3688, 'derek': 1192, 'boot': 538, 'hitting': 2126, 'eyed': 1612, 'ninja': 3018, 'cruise': 1071, 'amazingly': 210, 'guard': 1988, 'showdown': 3955, 'mildred': 2841, 'comparing': 913, 'chan': 746, 'holmes': 2139, 'stiff': 4187, 'jesse': 2397, 'innovative': 2295, 'facing': 1620, 'marie': 2737, 'danes': 1108, 'sorts': 4078, 'requires': 3642, 'calm': 655, 'mall': 2720, 'busy': 635, 'conspiracy': 956, 'streep': 4215, 'elephant': 1444, 'suspicious': 4332, 'sid': 3964, 'witches': 4910, 'stiller': 4189, 'conceived': 929, 'hyde': 2206, 'complain': 919, 'suited': 4286, 'poem': 3312, 'walken': 4777, 'demon': 1177, 'melodramatic': 2798, 'chuck': 812, 'gag': 1861, 'eastern': 1408, 'distribution': 1298, 'da': 1094, 'explosion': 1596, 'secretly': 3851, 'arnold': 296, 'cube': 1076, 'lugosi': 2686, 'chapter': 757, 'transformation': 4560, 'akshay': 169, 'omen': 3104, 'ramones': 3512, 'encounter': 1466, 'inferior': 2285, 'larger': 2519, 'greed': 1968, 'comedian': 887, 'segments': 3868, 'engaged': 1480, 'wisdom': 4902, 'brooklyn': 595, 'warmth': 4796, 'mars': 2746, 'fay': 1674, 'formulaic': 1803, 'dancers': 1105, 'circle': 821, 'cagney': 646, 'linda': 2609, 'los': 2653, 'angeles': 233, '1980': 20, 'stretched': 4222, 'recorded': 3574, 'creator': 1043, 'simmons': 3981, 'experienced': 1581, 'falk': 1636, 'neighbors': 2994, 'spell': 4104, 'guilt': 1994, 'influenced': 2287, 'staged': 4140, 'considerable': 950, 'incident': 2260, 'rats': 3531, 'dub': 1378, 'wallace': 4782, 'mundane': 2938, 'expressed': 1601, 'journalist': 2420, 'overlooked': 3154, 'constructed': 959, 'demented': 1176, 'preview': 3386, 'tea': 4373, 'winters': 4901, 'smaller': 4034, '70': 55, 'lab': 2501, 'progresses': 3426, 'enormous': 1490, 'workers': 4943, 'chaos': 755, 'achievement': 94, 'whale': 4857, 'receives': 3565, 'portion': 3338, 'ingredients': 2289, 'sandra': 3782, 'seed': 3856, 'cg': 739, 'seagal': 3839, 'bud': 607, 'hugh': 2186, 'alongside': 196, 'nazis': 2978, 'scarecrow': 3804, 'alexander': 180, 'astaire': 330, 'empathy': 1462, 'modesty': 2883, 'polanski': 3321, 'gadget': 1860, 'gandhi': 1866, 'louise': 2666, 'pokemon': 3320, 'contest': 967}\n"
     ]
    }
   ],
   "source": [
    "print(str(vocabulary))"
   ]
  },
  {
   "cell_type": "markdown",
   "metadata": {},
   "source": [
    "Once you have added the endpoint name to the Lambda function, click on **Save**. Your Lambda function is now up and running. Next we need to create a way for our web app to execute the Lambda function."
   ]
  },
  {
   "cell_type": "markdown",
   "metadata": {},
   "source": [
    "### Setting up API Gateway\n",
    "\n",
    "Now that our Lambda function is set up, it is time to create a new API using API Gateway that will trigger the Lambda function we have just created.\n",
    "\n",
    "Using AWS Console, navigate to **Amazon API Gateway** and then click on **Get started**.\n",
    "\n",
    "On the next page, make sure that **New API** is selected and give the new api a name, for example, `sentiment_analysis_web_app`. Then, click on **Create API**.\n",
    "\n",
    "Now we have created an API, however it doesn't currently do anything. What we want it to do is to trigger the Lambda function that we created earlier.\n",
    "\n",
    "Select the **Actions** dropdown menu and click **Create Method**. A new blank method will be created, select its dropdown menu and select **POST**, then click on the check mark beside it.\n",
    "\n",
    "For the integration point, make sure that **Lambda Function** is selected and click on the **Use Lambda Proxy integration**. This option makes sure that the data that is sent to the API is then sent directly to the Lambda function with no processing. It also means that the return value must be a proper response object as it will also not be processed by API Gateway.\n",
    "\n",
    "Type the name of the Lambda function you created earlier into the **Lambda Function** text entry box and then click on **Save**. Click on **OK** in the pop-up box that then appears, giving permission to API Gateway to invoke the Lambda function you created.\n",
    "\n",
    "The last step in creating the API Gateway is to select the **Actions** dropdown and click on **Deploy API**. You will need to create a new Deployment stage and name it anything you like, for example `prod`.\n",
    "\n",
    "You have now successfully set up a public API to access your SageMaker model. Make sure to copy or write down the URL provided to invoke your newly created public API as this will be needed in the next step. This URL can be found at the top of the page, highlighted in blue next to the text **Invoke URL**."
   ]
  },
  {
   "cell_type": "markdown",
   "metadata": {},
   "source": [
    "## Step 7: Deploying our web app\n",
    "\n",
    "Now that we have a publicly available API, we can start using it in a web app. For our purposes, we have provided a simple static html file which can make use of the public api you created earlier.\n",
    "\n",
    "In the `website` folder there should be a file called `index.html`. Download the file to your computer and open that file up in a text editor of your choice. There should be a line which contains **\\*\\*REPLACE WITH PUBLIC API URL\\*\\***. Replace this string with the url that you wrote down in the last step and then save the file.\n",
    "\n",
    "Now, if you open `index.html` on your local computer, your browser will behave as a local web server and you can use the provided site to interact with your SageMaker model.\n",
    "\n",
    "If you'd like to go further, you can host this html file anywhere you'd like, for example using github or hosting a static site on Amazon's S3. Once you have done this you can share the link with anyone you'd like and have them play with it too!\n",
    "\n",
    "> **Important Note** In order for the web app to communicate with the SageMaker endpoint, the endpoint has to actually be deployed and running. This means that you are paying for it. Make sure that the endpoint is running when you want to use the web app but that you shut it down when you don't need it, otherwise you will end up with a surprisingly large AWS bill."
   ]
  },
  {
   "cell_type": "markdown",
   "metadata": {},
   "source": [
    "### Delete the endpoint\n",
    "\n",
    "Remember to always shut down your endpoint if you are no longer using it. You are charged for the length of time that the endpoint is running so if you forget and leave it on you could end up with an unexpectedly large bill."
   ]
  },
  {
   "cell_type": "code",
   "execution_count": null,
   "metadata": {},
   "outputs": [],
   "source": [
    "xgb_predictor.delete_endpoint()"
   ]
  },
  {
   "cell_type": "markdown",
   "metadata": {},
   "source": [
    "## Optional: Clean up\n",
    "\n",
    "The default notebook instance on SageMaker doesn't have a lot of excess disk space available. As you continue to complete and execute notebooks you will eventually fill up this disk space, leading to errors which can be difficult to diagnose. Once you are completely finished using a notebook it is a good idea to remove the files that you created along the way. Of course, you can do this from the terminal or from the notebook hub if you would like. The cell below contains some commands to clean up the created files from within the notebook."
   ]
  },
  {
   "cell_type": "code",
   "execution_count": null,
   "metadata": {},
   "outputs": [],
   "source": [
    "# First we will remove all of the files contained in the data_dir directory\n",
    "!rm $data_dir/*\n",
    "\n",
    "# And then we delete the directory itself\n",
    "!rmdir $data_dir\n",
    "\n",
    "# Similarly we remove the files in the cache_dir directory and the directory itself\n",
    "!rm $cache_dir/*\n",
    "!rmdir $cache_dir"
   ]
  },
  {
   "cell_type": "code",
   "execution_count": null,
   "metadata": {},
   "outputs": [],
   "source": []
  }
 ],
 "metadata": {
  "kernelspec": {
   "display_name": "conda_python3",
   "language": "python",
   "name": "conda_python3"
  },
  "language_info": {
   "codemirror_mode": {
    "name": "ipython",
    "version": 3
   },
   "file_extension": ".py",
   "mimetype": "text/x-python",
   "name": "python",
   "nbconvert_exporter": "python",
   "pygments_lexer": "ipython3",
   "version": "3.6.5"
  }
 },
 "nbformat": 4,
 "nbformat_minor": 2
}
